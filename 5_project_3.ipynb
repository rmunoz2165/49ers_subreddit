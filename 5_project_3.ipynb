{
 "cells": [
  {
   "cell_type": "markdown",
   "metadata": {},
   "source": [
    "## SENTIMENT ANALYSIS"
   ]
  },
  {
   "cell_type": "code",
   "execution_count": 1,
   "metadata": {},
   "outputs": [],
   "source": [
    "import pandas as pd\n",
    "from nltk.tokenize import RegexpTokenizer\n",
    "from nltk.stem.porter import PorterStemmer\n",
    "from nltk.stem import WordNetLemmatizer\n",
    "import regex as re\n",
    "\n",
    "from vaderSentiment.vaderSentiment import SentimentIntensityAnalyzer\n"
   ]
  },
  {
   "cell_type": "code",
   "execution_count": 2,
   "metadata": {},
   "outputs": [],
   "source": [
    "#NOT USED\n",
    "# Let's come up with a list of positive and negative words we might observe.\n",
    "\n",
    "#positive_words = ['love', 'great', 'tasty', 'delicious', 'amazing', 'great', 'exciting', 'flavorful',\n",
    "#                  'satisfying', 'friendly', 'good', 'nice', 'sweet', 'fun', 'engaging']\n",
    "#negative_words = ['bad', 'poor', 'gross', 'crappy', 'ew', 'slow', 'disgusting', 'rude', 'hate', 'sad',\n",
    "#                  'not', 'disgrace', 'disappointing', 'uncomfortable', 'unfriendly']"
   ]
  },
  {
   "cell_type": "code",
   "execution_count": 3,
   "metadata": {},
   "outputs": [],
   "source": [
    "def simple_sentiment(text):\n",
    "    # Instantiate tokenizer.\n",
    "    tokenizer = RegexpTokenizer(r'\\w+')\n",
    "    # Tokenize text.\n",
    "    tokens = tokenizer.tokenize(text.lower())\n",
    "    # Instantiate stemmer.\n",
    "    p_stemmer = PorterStemmer()\n",
    "    # Stem words.\n",
    "    stemmed_words = [p_stemmer.stem(i) for i in tokens]\n",
    "    # Stem our positive/negative words.\n",
    "    positive_stems = [p_stemmer.stem(i) for i in positive_words]\n",
    "    negative_stems = [p_stemmer.stem(i) for i in negative_words]\n",
    "    # Count \"positive\" words.\n",
    "    positive_count = sum([1 for i in stemmed_words if i in positive_stems])\n",
    "    # Count \"negative\" words\n",
    "    negative_count = sum([1 for i in stemmed_words if i in negative_stems])\n",
    "    # Calculate Sentiment Percentage \n",
    "    # (Positive Count - Negative Count) / (Total Count)\n",
    "    return round((positive_count - negative_count) / len(tokens), 2)"
   ]
  },
  {
   "cell_type": "code",
   "execution_count": 4,
   "metadata": {},
   "outputs": [],
   "source": [
    "data = pd.read_csv('./datasets/final.csv')"
   ]
  },
  {
   "cell_type": "code",
   "execution_count": 5,
   "metadata": {},
   "outputs": [
    {
     "data": {
      "text/html": [
       "<div>\n",
       "<style scoped>\n",
       "    .dataframe tbody tr th:only-of-type {\n",
       "        vertical-align: middle;\n",
       "    }\n",
       "\n",
       "    .dataframe tbody tr th {\n",
       "        vertical-align: top;\n",
       "    }\n",
       "\n",
       "    .dataframe thead th {\n",
       "        text-align: right;\n",
       "    }\n",
       "</style>\n",
       "<table border=\"1\" class=\"dataframe\">\n",
       "  <thead>\n",
       "    <tr style=\"text-align: right;\">\n",
       "      <th></th>\n",
       "      <th>comments</th>\n",
       "      <th>label</th>\n",
       "    </tr>\n",
       "  </thead>\n",
       "  <tbody>\n",
       "    <tr>\n",
       "      <th>0</th>\n",
       "      <td>[Baldinger] .@49ers here is my opening script ...</td>\n",
       "      <td>1</td>\n",
       "    </tr>\n",
       "    <tr>\n",
       "      <th>1</th>\n",
       "      <td>[49ers on NBCS] .@frankgore is loving what he’...</td>\n",
       "      <td>1</td>\n",
       "    </tr>\n",
       "    <tr>\n",
       "      <th>2</th>\n",
       "      <td>Chiefs fans be like</td>\n",
       "      <td>1</td>\n",
       "    </tr>\n",
       "    <tr>\n",
       "      <th>3</th>\n",
       "      <td>deal of the day</td>\n",
       "      <td>1</td>\n",
       "    </tr>\n",
       "    <tr>\n",
       "      <th>4</th>\n",
       "      <td>This guy made a really complex Python simulati...</td>\n",
       "      <td>1</td>\n",
       "    </tr>\n",
       "  </tbody>\n",
       "</table>\n",
       "</div>"
      ],
      "text/plain": [
       "                                            comments  label\n",
       "0  [Baldinger] .@49ers here is my opening script ...      1\n",
       "1  [49ers on NBCS] .@frankgore is loving what he’...      1\n",
       "2                                Chiefs fans be like      1\n",
       "3                                    deal of the day      1\n",
       "4  This guy made a really complex Python simulati...      1"
      ]
     },
     "execution_count": 5,
     "metadata": {},
     "output_type": "execute_result"
    }
   ],
   "source": [
    "data.head()"
   ]
  },
  {
   "cell_type": "code",
   "execution_count": 6,
   "metadata": {},
   "outputs": [],
   "source": [
    "# Import train_test_split.\n",
    "from sklearn.model_selection import train_test_split\n",
    "\n",
    "# Create train_test_split.\n",
    "X_train, X_test, y_train, y_test = train_test_split(data[['comments']],\n",
    "                                                    data['label'],\n",
    "                                                    test_size = 0.25,\n",
    "                                                    random_state = 42)"
   ]
  },
  {
   "cell_type": "code",
   "execution_count": 7,
   "metadata": {},
   "outputs": [],
   "source": [
    "fners = pd.read_csv('./datasets/df1.csv')"
   ]
  },
  {
   "cell_type": "code",
   "execution_count": 8,
   "metadata": {},
   "outputs": [
    {
     "data": {
      "text/html": [
       "<div>\n",
       "<style scoped>\n",
       "    .dataframe tbody tr th:only-of-type {\n",
       "        vertical-align: middle;\n",
       "    }\n",
       "\n",
       "    .dataframe tbody tr th {\n",
       "        vertical-align: top;\n",
       "    }\n",
       "\n",
       "    .dataframe thead th {\n",
       "        text-align: right;\n",
       "    }\n",
       "</style>\n",
       "<table border=\"1\" class=\"dataframe\">\n",
       "  <thead>\n",
       "    <tr style=\"text-align: right;\">\n",
       "      <th></th>\n",
       "      <th>comments</th>\n",
       "      <th>label</th>\n",
       "    </tr>\n",
       "  </thead>\n",
       "  <tbody>\n",
       "    <tr>\n",
       "      <th>0</th>\n",
       "      <td>Frank Gore using \"we\" when talking about the 4...</td>\n",
       "      <td>1</td>\n",
       "    </tr>\n",
       "    <tr>\n",
       "      <th>1</th>\n",
       "      <td>And who didn't think the 49ers could do it?</td>\n",
       "      <td>1</td>\n",
       "    </tr>\n",
       "    <tr>\n",
       "      <th>2</th>\n",
       "      <td>Who didn't believe we could do it?</td>\n",
       "      <td>1</td>\n",
       "    </tr>\n",
       "    <tr>\n",
       "      <th>3</th>\n",
       "      <td>You just hate to see it.</td>\n",
       "      <td>1</td>\n",
       "    </tr>\n",
       "    <tr>\n",
       "      <th>4</th>\n",
       "      <td>[NFL] @49ers DE Nick Bosa has been named @Peps...</td>\n",
       "      <td>1</td>\n",
       "    </tr>\n",
       "  </tbody>\n",
       "</table>\n",
       "</div>"
      ],
      "text/plain": [
       "                                            comments  label\n",
       "0  Frank Gore using \"we\" when talking about the 4...      1\n",
       "1        And who didn't think the 49ers could do it?      1\n",
       "2                 Who didn't believe we could do it?      1\n",
       "3                           You just hate to see it.      1\n",
       "4  [NFL] @49ers DE Nick Bosa has been named @Peps...      1"
      ]
     },
     "execution_count": 8,
     "metadata": {},
     "output_type": "execute_result"
    }
   ],
   "source": [
    "fners.head()"
   ]
  },
  {
   "cell_type": "code",
   "execution_count": 9,
   "metadata": {},
   "outputs": [],
   "source": [
    "fners = fners['comments'].values"
   ]
  },
  {
   "cell_type": "code",
   "execution_count": 10,
   "metadata": {},
   "outputs": [
    {
     "ename": "AttributeError",
     "evalue": "'float' object has no attribute 'split'",
     "output_type": "error",
     "traceback": [
      "\u001b[0;31m---------------------------------------------------------------------------\u001b[0m",
      "\u001b[0;31mAttributeError\u001b[0m                            Traceback (most recent call last)",
      "\u001b[0;32m<ipython-input-10-59e9d6ceb7a2>\u001b[0m in \u001b[0;36m<module>\u001b[0;34m\u001b[0m\n\u001b[1;32m      2\u001b[0m \u001b[0manalyzer\u001b[0m \u001b[0;34m=\u001b[0m \u001b[0mSentimentIntensityAnalyzer\u001b[0m\u001b[0;34m(\u001b[0m\u001b[0;34m)\u001b[0m\u001b[0;34m\u001b[0m\u001b[0;34m\u001b[0m\u001b[0m\n\u001b[1;32m      3\u001b[0m \u001b[0;32mfor\u001b[0m \u001b[0msentence\u001b[0m \u001b[0;32min\u001b[0m \u001b[0mfners\u001b[0m\u001b[0;34m:\u001b[0m\u001b[0;34m\u001b[0m\u001b[0;34m\u001b[0m\u001b[0m\n\u001b[0;32m----> 4\u001b[0;31m     \u001b[0mvs1\u001b[0m \u001b[0;34m=\u001b[0m \u001b[0manalyzer\u001b[0m\u001b[0;34m.\u001b[0m\u001b[0mpolarity_scores\u001b[0m\u001b[0;34m(\u001b[0m\u001b[0msentence\u001b[0m\u001b[0;34m)\u001b[0m\u001b[0;34m\u001b[0m\u001b[0;34m\u001b[0m\u001b[0m\n\u001b[0m\u001b[1;32m      5\u001b[0m     \u001b[0mfners_list\u001b[0m\u001b[0;34m.\u001b[0m\u001b[0mappend\u001b[0m\u001b[0;34m(\u001b[0m\u001b[0mvs1\u001b[0m\u001b[0;34m)\u001b[0m\u001b[0;34m\u001b[0m\u001b[0;34m\u001b[0m\u001b[0m\n\u001b[1;32m      6\u001b[0m \u001b[0;34m\u001b[0m\u001b[0m\n",
      "\u001b[0;32m/anaconda3/lib/python3.7/site-packages/vaderSentiment/vaderSentiment.py\u001b[0m in \u001b[0;36mpolarity_scores\u001b[0;34m(self, text)\u001b[0m\n\u001b[1;32m    246\u001b[0m         \"\"\"\n\u001b[1;32m    247\u001b[0m         \u001b[0;31m# convert emojis to their textual descriptions\u001b[0m\u001b[0;34m\u001b[0m\u001b[0;34m\u001b[0m\u001b[0;34m\u001b[0m\u001b[0m\n\u001b[0;32m--> 248\u001b[0;31m         \u001b[0mtext_token_list\u001b[0m \u001b[0;34m=\u001b[0m \u001b[0mtext\u001b[0m\u001b[0;34m.\u001b[0m\u001b[0msplit\u001b[0m\u001b[0;34m(\u001b[0m\u001b[0;34m)\u001b[0m\u001b[0;34m\u001b[0m\u001b[0;34m\u001b[0m\u001b[0m\n\u001b[0m\u001b[1;32m    249\u001b[0m         \u001b[0mtext_no_emoji_lst\u001b[0m \u001b[0;34m=\u001b[0m \u001b[0;34m[\u001b[0m\u001b[0;34m]\u001b[0m\u001b[0;34m\u001b[0m\u001b[0;34m\u001b[0m\u001b[0m\n\u001b[1;32m    250\u001b[0m         \u001b[0;32mfor\u001b[0m \u001b[0mtoken\u001b[0m \u001b[0;32min\u001b[0m \u001b[0mtext_token_list\u001b[0m\u001b[0;34m:\u001b[0m\u001b[0;34m\u001b[0m\u001b[0;34m\u001b[0m\u001b[0m\n",
      "\u001b[0;31mAttributeError\u001b[0m: 'float' object has no attribute 'split'"
     ]
    }
   ],
   "source": [
    "fners_list=[]\n",
    "analyzer = SentimentIntensityAnalyzer()\n",
    "for sentence in fners:\n",
    "    vs1 = analyzer.polarity_scores(sentence)\n",
    "    fners_list.append(vs1)\n",
    "    \n",
    "    #total_neg += vs['neg']\n",
    "    #print(\"{:-<65} {}\".format(sentence, str(vs)))"
   ]
  },
  {
   "cell_type": "code",
   "execution_count": 11,
   "metadata": {},
   "outputs": [
    {
     "name": "stdout",
     "output_type": "stream",
     "text": [
      "[{'neg': 0.0, 'neu': 0.781, 'pos': 0.219, 'compound': 0.6369}, {'neg': 0.0, 'neu': 1.0, 'pos': 0.0, 'compound': 0.0}, {'neg': 0.0, 'neu': 1.0, 'pos': 0.0, 'compound': 0.0}, {'neg': 0.425, 'neu': 0.575, 'pos': 0.0, 'compound': -0.5719}, {'neg': 0.0, 'neu': 1.0, 'pos': 0.0, 'compound': 0.0}, {'neg': 0.177, 'neu': 0.823, 'pos': 0.0, 'compound': -0.7003}, {'neg': 0.096, 'neu': 0.904, 'pos': 0.0, 'compound': -0.1531}, {'neg': 0.272, 'neu': 0.376, 'pos': 0.352, 'compound': 0.2144}, {'neg': 0.0, 'neu': 1.0, 'pos': 0.0, 'compound': 0.0}, {'neg': 0.0, 'neu': 0.741, 'pos': 0.259, 'compound': 0.6369}, {'neg': 0.074, 'neu': 0.899, 'pos': 0.027, 'compound': -0.4515}, {'neg': 0.0, 'neu': 1.0, 'pos': 0.0, 'compound': 0.0}, {'neg': 0.0, 'neu': 1.0, 'pos': 0.0, 'compound': 0.0}, {'neg': 0.0, 'neu': 0.867, 'pos': 0.133, 'compound': 0.3182}, {'neg': 0.0, 'neu': 1.0, 'pos': 0.0, 'compound': 0.0}, {'neg': 0.0, 'neu': 0.767, 'pos': 0.233, 'compound': 0.8555}, {'neg': 0.318, 'neu': 0.682, 'pos': 0.0, 'compound': -0.636}, {'neg': 0.163, 'neu': 0.837, 'pos': 0.0, 'compound': -0.7003}, {'neg': 0.0, 'neu': 0.845, 'pos': 0.155, 'compound': 0.4102}, {'neg': 0.0, 'neu': 0.678, 'pos': 0.322, 'compound': 0.4215}, {'neg': 0.0, 'neu': 1.0, 'pos': 0.0, 'compound': 0.0}, {'neg': 0.0, 'neu': 0.51, 'pos': 0.49, 'compound': 0.5927}, {'neg': 0.0, 'neu': 0.802, 'pos': 0.198, 'compound': 0.4939}, {'neg': 0.0, 'neu': 0.395, 'pos': 0.605, 'compound': 0.8481}, {'neg': 0.0, 'neu': 0.698, 'pos': 0.302, 'compound': 0.5994}, {'neg': 0.146, 'neu': 0.596, 'pos': 0.258, 'compound': 0.4019}, {'neg': 0.433, 'neu': 0.567, 'pos': 0.0, 'compound': -0.7269}, {'neg': 0.0, 'neu': 0.738, 'pos': 0.262, 'compound': 0.5994}, {'neg': 0.0, 'neu': 1.0, 'pos': 0.0, 'compound': 0.0}, {'neg': 0.0, 'neu': 0.51, 'pos': 0.49, 'compound': 0.8271}, {'neg': 0.061, 'neu': 0.514, 'pos': 0.425, 'compound': 0.9761}, {'neg': 0.0, 'neu': 1.0, 'pos': 0.0, 'compound': 0.0}, {'neg': 0.0, 'neu': 1.0, 'pos': 0.0, 'compound': 0.0}, {'neg': 0.0, 'neu': 1.0, 'pos': 0.0, 'compound': 0.0}, {'neg': 0.0, 'neu': 0.755, 'pos': 0.245, 'compound': 0.5994}, {'neg': 0.0, 'neu': 0.566, 'pos': 0.434, 'compound': 0.3182}, {'neg': 0.0, 'neu': 0.838, 'pos': 0.162, 'compound': 0.4404}, {'neg': 0.0, 'neu': 0.2, 'pos': 0.8, 'compound': 0.6124}, {'neg': 0.0, 'neu': 1.0, 'pos': 0.0, 'compound': 0.0}, {'neg': 0.0, 'neu': 0.76, 'pos': 0.24, 'compound': 0.6249}, {'neg': 0.0, 'neu': 1.0, 'pos': 0.0, 'compound': 0.0}, {'neg': 0.0, 'neu': 1.0, 'pos': 0.0, 'compound': 0.0}, {'neg': 0.0, 'neu': 1.0, 'pos': 0.0, 'compound': 0.0}, {'neg': 0.0, 'neu': 0.702, 'pos': 0.298, 'compound': 0.8034}, {'neg': 0.0, 'neu': 1.0, 'pos': 0.0, 'compound': 0.0}, {'neg': 0.0, 'neu': 1.0, 'pos': 0.0, 'compound': 0.0}, {'neg': 0.136, 'neu': 0.864, 'pos': 0.0, 'compound': -0.296}, {'neg': 0.092, 'neu': 0.84, 'pos': 0.068, 'compound': -0.0609}, {'neg': 0.0, 'neu': 0.827, 'pos': 0.173, 'compound': 0.9904}, {'neg': 0.0, 'neu': 1.0, 'pos': 0.0, 'compound': 0.0}, {'neg': 0.046, 'neu': 0.82, 'pos': 0.134, 'compound': 0.9254}, {'neg': 0.148, 'neu': 0.646, 'pos': 0.206, 'compound': 0.5994}, {'neg': 0.103, 'neu': 0.649, 'pos': 0.248, 'compound': 0.7405}, {'neg': 0.0, 'neu': 1.0, 'pos': 0.0, 'compound': 0.0}, {'neg': 0.0, 'neu': 0.69, 'pos': 0.31, 'compound': 0.4005}, {'neg': 0.0, 'neu': 1.0, 'pos': 0.0, 'compound': 0.0}]\n"
     ]
    }
   ],
   "source": [
    "print(fners_list)"
   ]
  },
  {
   "cell_type": "code",
   "execution_count": 12,
   "metadata": {},
   "outputs": [],
   "source": [
    " fners_df = pd.DataFrame(fners_list)"
   ]
  },
  {
   "cell_type": "code",
   "execution_count": 13,
   "metadata": {},
   "outputs": [],
   "source": [
    "fners_negatives = fners_df['neg'].mean()\n",
    "fners_positives = fners_df['pos'].mean()\n",
    "fners_neutrals = fners_df['neu'].mean()\n",
    "fners_compound = fners_df['compound'].mean()"
   ]
  },
  {
   "cell_type": "code",
   "execution_count": 14,
   "metadata": {},
   "outputs": [],
   "source": [
    "#pd.DataFrame(vs.items(), columns=['neg', 'neu','pos','compound'])\n"
   ]
  },
  {
   "cell_type": "code",
   "execution_count": 15,
   "metadata": {},
   "outputs": [
    {
     "data": {
      "text/html": [
       "<div>\n",
       "<style scoped>\n",
       "    .dataframe tbody tr th:only-of-type {\n",
       "        vertical-align: middle;\n",
       "    }\n",
       "\n",
       "    .dataframe tbody tr th {\n",
       "        vertical-align: top;\n",
       "    }\n",
       "\n",
       "    .dataframe thead th {\n",
       "        text-align: right;\n",
       "    }\n",
       "</style>\n",
       "<table border=\"1\" class=\"dataframe\">\n",
       "  <thead>\n",
       "    <tr style=\"text-align: right;\">\n",
       "      <th></th>\n",
       "      <th>comments</th>\n",
       "      <th>label</th>\n",
       "    </tr>\n",
       "  </thead>\n",
       "  <tbody>\n",
       "    <tr>\n",
       "      <th>0</th>\n",
       "      <td>[Barreiro] What if Zim had called Cris Carter ...</td>\n",
       "      <td>0</td>\n",
       "    </tr>\n",
       "    <tr>\n",
       "      <th>1</th>\n",
       "      <td>Can anyone explain the narrative why Lions wou...</td>\n",
       "      <td>0</td>\n",
       "    </tr>\n",
       "    <tr>\n",
       "      <th>2</th>\n",
       "      <td>50 years.....50....years.</td>\n",
       "      <td>0</td>\n",
       "    </tr>\n",
       "    <tr>\n",
       "      <th>3</th>\n",
       "      <td>Fans opinion on the Rooney Rule and the potent...</td>\n",
       "      <td>0</td>\n",
       "    </tr>\n",
       "    <tr>\n",
       "      <th>4</th>\n",
       "      <td>[Packers] Packers part ways with wide receiver...</td>\n",
       "      <td>0</td>\n",
       "    </tr>\n",
       "  </tbody>\n",
       "</table>\n",
       "</div>"
      ],
      "text/plain": [
       "                                            comments  label\n",
       "0  [Barreiro] What if Zim had called Cris Carter ...      0\n",
       "1  Can anyone explain the narrative why Lions wou...      0\n",
       "2                          50 years.....50....years.      0\n",
       "3  Fans opinion on the Rooney Rule and the potent...      0\n",
       "4  [Packers] Packers part ways with wide receiver...      0"
      ]
     },
     "execution_count": 15,
     "metadata": {},
     "output_type": "execute_result"
    }
   ],
   "source": [
    "nfl = pd.read_csv('./datasets/df2.csv')\n",
    "nfl.head()"
   ]
  },
  {
   "cell_type": "code",
   "execution_count": 16,
   "metadata": {},
   "outputs": [],
   "source": [
    "nfl = nfl['comments'].astype(str).values"
   ]
  },
  {
   "cell_type": "code",
   "execution_count": 17,
   "metadata": {},
   "outputs": [],
   "source": [
    "nfl = list(nfl)"
   ]
  },
  {
   "cell_type": "code",
   "execution_count": 18,
   "metadata": {},
   "outputs": [],
   "source": [
    "nfl_list=[]\n",
    "analyzer = SentimentIntensityAnalyzer()\n",
    "for sentence in nfl:\n",
    "    vs2 = analyzer.polarity_scores(sentence)\n",
    "    nfl_list.append(vs2)"
   ]
  },
  {
   "cell_type": "code",
   "execution_count": 19,
   "metadata": {},
   "outputs": [
    {
     "name": "stdout",
     "output_type": "stream",
     "text": [
      "[{'neg': 0.05, 'neu': 0.781, 'pos': 0.169, 'compound': 0.7351}, {'neg': 0.096, 'neu': 0.877, 'pos': 0.027, 'compound': -0.6747}, {'neg': 0.0, 'neu': 1.0, 'pos': 0.0, 'compound': 0.0}, {'neg': 0.0, 'neu': 0.936, 'pos': 0.064, 'compound': 0.7624}, {'neg': 0.0, 'neu': 1.0, 'pos': 0.0, 'compound': 0.0}, {'neg': 0.0, 'neu': 0.795, 'pos': 0.205, 'compound': 0.7717}, {'neg': 0.0, 'neu': 1.0, 'pos': 0.0, 'compound': 0.0}, {'neg': 0.0, 'neu': 0.871, 'pos': 0.129, 'compound': 0.594}, {'neg': 0.167, 'neu': 0.784, 'pos': 0.049, 'compound': -0.9807}, {'neg': 0.0, 'neu': 0.834, 'pos': 0.166, 'compound': 0.5848}, {'neg': 0.0, 'neu': 1.0, 'pos': 0.0, 'compound': 0.0}, {'neg': 0.0, 'neu': 1.0, 'pos': 0.0, 'compound': 0.0}, {'neg': 0.0, 'neu': 1.0, 'pos': 0.0, 'compound': 0.0}, {'neg': 0.0, 'neu': 0.782, 'pos': 0.218, 'compound': 0.5994}, {'neg': 0.044, 'neu': 0.887, 'pos': 0.069, 'compound': 0.2609}, {'neg': 0.0, 'neu': 1.0, 'pos': 0.0, 'compound': 0.0}, {'neg': 0.444, 'neu': 0.556, 'pos': 0.0, 'compound': -0.34}, {'neg': 0.0, 'neu': 0.821, 'pos': 0.179, 'compound': 0.504}, {'neg': 0.0, 'neu': 1.0, 'pos': 0.0, 'compound': 0.0}, {'neg': 0.02, 'neu': 0.857, 'pos': 0.123, 'compound': 0.8271}, {'neg': 0.06, 'neu': 0.74, 'pos': 0.2, 'compound': 0.9556}, {'neg': 0.033, 'neu': 0.874, 'pos': 0.093, 'compound': 0.6199}, {'neg': 0.0, 'neu': 0.682, 'pos': 0.318, 'compound': 0.636}, {'neg': 0.688, 'neu': 0.312, 'pos': 0.0, 'compound': -0.296}, {'neg': 0.0, 'neu': 0.633, 'pos': 0.367, 'compound': 0.7297}, {'neg': 0.165, 'neu': 0.739, 'pos': 0.095, 'compound': -0.25}, {'neg': 0.0, 'neu': 0.54, 'pos': 0.46, 'compound': 0.9625}, {'neg': 0.174, 'neu': 0.67, 'pos': 0.156, 'compound': -0.2111}, {'neg': 0.0, 'neu': 1.0, 'pos': 0.0, 'compound': 0.0}, {'neg': 0.0, 'neu': 1.0, 'pos': 0.0, 'compound': 0.0}, {'neg': 0.0, 'neu': 1.0, 'pos': 0.0, 'compound': 0.0}, {'neg': 0.0, 'neu': 0.837, 'pos': 0.163, 'compound': 0.368}, {'neg': 0.047, 'neu': 0.827, 'pos': 0.126, 'compound': 0.4588}, {'neg': 0.0, 'neu': 0.772, 'pos': 0.228, 'compound': 0.8126}, {'neg': 0.0, 'neu': 1.0, 'pos': 0.0, 'compound': 0.0}, {'neg': 0.0, 'neu': 0.377, 'pos': 0.623, 'compound': 0.765}, {'neg': 0.0, 'neu': 1.0, 'pos': 0.0, 'compound': 0.0}, {'neg': 0.024, 'neu': 0.895, 'pos': 0.081, 'compound': 0.504}, {'neg': 0.0, 'neu': 1.0, 'pos': 0.0, 'compound': 0.0}, {'neg': 0.0, 'neu': 0.719, 'pos': 0.281, 'compound': 0.5994}, {'neg': 0.0, 'neu': 1.0, 'pos': 0.0, 'compound': 0.0}, {'neg': 0.042, 'neu': 0.798, 'pos': 0.16, 'compound': 0.802}, {'neg': 0.0, 'neu': 0.803, 'pos': 0.197, 'compound': 0.4019}, {'neg': 0.0, 'neu': 1.0, 'pos': 0.0, 'compound': 0.0}, {'neg': 0.0, 'neu': 1.0, 'pos': 0.0, 'compound': 0.0}, {'neg': 0.0, 'neu': 0.753, 'pos': 0.247, 'compound': 0.508}, {'neg': 0.0, 'neu': 1.0, 'pos': 0.0, 'compound': 0.0}, {'neg': 0.0, 'neu': 1.0, 'pos': 0.0, 'compound': 0.0}, {'neg': 0.0, 'neu': 0.719, 'pos': 0.281, 'compound': 0.5994}, {'neg': 0.0, 'neu': 0.892, 'pos': 0.108, 'compound': 0.504}, {'neg': 0.0, 'neu': 1.0, 'pos': 0.0, 'compound': 0.0}, {'neg': 0.0, 'neu': 1.0, 'pos': 0.0, 'compound': 0.0}, {'neg': 0.196, 'neu': 0.804, 'pos': 0.0, 'compound': -0.296}, {'neg': 0.251, 'neu': 0.749, 'pos': 0.0, 'compound': -0.8757}, {'neg': 0.0, 'neu': 0.541, 'pos': 0.459, 'compound': 0.5267}, {'neg': 0.0, 'neu': 1.0, 'pos': 0.0, 'compound': 0.0}, {'neg': 0.104, 'neu': 0.696, 'pos': 0.2, 'compound': 0.2732}, {'neg': 0.0, 'neu': 1.0, 'pos': 0.0, 'compound': 0.0}, {'neg': 0.0, 'neu': 1.0, 'pos': 0.0, 'compound': 0.0}, {'neg': 0.0, 'neu': 1.0, 'pos': 0.0, 'compound': 0.0}, {'neg': 0.0, 'neu': 1.0, 'pos': 0.0, 'compound': 0.0}, {'neg': 0.0, 'neu': 0.672, 'pos': 0.328, 'compound': 0.5994}, {'neg': 0.0, 'neu': 1.0, 'pos': 0.0, 'compound': 0.0}, {'neg': 0.0, 'neu': 0.417, 'pos': 0.583, 'compound': 0.6369}, {'neg': 0.0, 'neu': 0.755, 'pos': 0.245, 'compound': 0.5994}, {'neg': 0.0, 'neu': 0.755, 'pos': 0.245, 'compound': 0.5994}, {'neg': 0.0, 'neu': 1.0, 'pos': 0.0, 'compound': 0.0}, {'neg': 0.0, 'neu': 1.0, 'pos': 0.0, 'compound': 0.0}, {'neg': 0.0, 'neu': 1.0, 'pos': 0.0, 'compound': 0.0}, {'neg': 0.0, 'neu': 0.579, 'pos': 0.421, 'compound': 0.6249}, {'neg': 0.054, 'neu': 0.833, 'pos': 0.114, 'compound': 0.3352}, {'neg': 0.045, 'neu': 0.79, 'pos': 0.166, 'compound': 0.8591}, {'neg': 0.121, 'neu': 0.879, 'pos': 0.0, 'compound': -0.296}, {'neg': 0.0, 'neu': 0.672, 'pos': 0.328, 'compound': 0.5994}, {'neg': 0.092, 'neu': 0.84, 'pos': 0.068, 'compound': -0.0609}, {'neg': 0.0, 'neu': 0.815, 'pos': 0.185, 'compound': 0.3612}, {'neg': 0.0, 'neu': 1.0, 'pos': 0.0, 'compound': 0.0}, {'neg': 0.099, 'neu': 0.901, 'pos': 0.0, 'compound': -0.5256}, {'neg': 0.048, 'neu': 0.886, 'pos': 0.066, 'compound': 0.2732}, {'neg': 0.148, 'neu': 0.646, 'pos': 0.206, 'compound': 0.5994}, {'neg': 0.0, 'neu': 0.769, 'pos': 0.231, 'compound': 0.6369}, {'neg': 0.0, 'neu': 1.0, 'pos': 0.0, 'compound': 0.0}, {'neg': 0.172, 'neu': 0.544, 'pos': 0.284, 'compound': 0.4342}, {'neg': 0.135, 'neu': 0.784, 'pos': 0.081, 'compound': -0.5171}, {'neg': 0.039, 'neu': 0.718, 'pos': 0.242, 'compound': 0.8834}, {'neg': 0.0, 'neu': 0.872, 'pos': 0.128, 'compound': 0.4215}, {'neg': 0.0, 'neu': 0.759, 'pos': 0.241, 'compound': 0.8591}, {'neg': 0.037, 'neu': 0.881, 'pos': 0.083, 'compound': 0.9022}, {'neg': 0.0, 'neu': 0.759, 'pos': 0.241, 'compound': 0.8591}, {'neg': 0.0, 'neu': 0.827, 'pos': 0.173, 'compound': 0.9904}, {'neg': 0.0, 'neu': 0.846, 'pos': 0.154, 'compound': 0.6369}, {'neg': 0.0, 'neu': 0.851, 'pos': 0.149, 'compound': 0.4939}, {'neg': 0.0, 'neu': 0.851, 'pos': 0.149, 'compound': 0.4939}, {'neg': 0.0, 'neu': 0.851, 'pos': 0.149, 'compound': 0.4939}, {'neg': 0.128, 'neu': 0.872, 'pos': 0.0, 'compound': -0.296}, {'neg': 0.0, 'neu': 0.755, 'pos': 0.245, 'compound': 0.0772}, {'neg': 0.0, 'neu': 0.755, 'pos': 0.245, 'compound': 0.5994}, {'neg': 0.0, 'neu': 0.837, 'pos': 0.163, 'compound': 0.5106}, {'neg': 0.217, 'neu': 0.783, 'pos': 0.0, 'compound': -0.5574}, {'neg': 0.0, 'neu': 0.435, 'pos': 0.565, 'compound': 0.5994}, {'neg': 0.0, 'neu': 1.0, 'pos': 0.0, 'compound': 0.0}, {'neg': 0.0, 'neu': 0.612, 'pos': 0.388, 'compound': 0.6908}, {'neg': 0.0, 'neu': 0.851, 'pos': 0.149, 'compound': 0.743}, {'neg': 0.184, 'neu': 0.677, 'pos': 0.14, 'compound': -0.4767}, {'neg': 0.0, 'neu': 0.931, 'pos': 0.069, 'compound': 0.469}, {'neg': 0.0, 'neu': 0.769, 'pos': 0.231, 'compound': 0.7525}, {'neg': 0.0, 'neu': 0.426, 'pos': 0.574, 'compound': 0.4019}, {'neg': 0.0, 'neu': 0.813, 'pos': 0.187, 'compound': 0.5994}, {'neg': 0.0, 'neu': 0.571, 'pos': 0.429, 'compound': 0.91}, {'neg': 0.0, 'neu': 0.802, 'pos': 0.198, 'compound': 0.836}, {'neg': 0.0, 'neu': 1.0, 'pos': 0.0, 'compound': 0.0}, {'neg': 0.451, 'neu': 0.549, 'pos': 0.0, 'compound': -0.6249}, {'neg': 0.056, 'neu': 0.739, 'pos': 0.205, 'compound': 0.8867}, {'neg': 0.0, 'neu': 1.0, 'pos': 0.0, 'compound': 0.0}, {'neg': 0.0, 'neu': 1.0, 'pos': 0.0, 'compound': 0.0}, {'neg': 0.0, 'neu': 1.0, 'pos': 0.0, 'compound': 0.0}, {'neg': 0.0, 'neu': 0.664, 'pos': 0.336, 'compound': 0.8788}, {'neg': 0.0, 'neu': 1.0, 'pos': 0.0, 'compound': 0.0}, {'neg': 0.0, 'neu': 0.977, 'pos': 0.023, 'compound': 0.5859}, {'neg': 0.0, 'neu': 1.0, 'pos': 0.0, 'compound': 0.0}, {'neg': 0.0, 'neu': 0.662, 'pos': 0.338, 'compound': 0.6249}, {'neg': 0.0, 'neu': 0.89, 'pos': 0.11, 'compound': 0.6908}, {'neg': 0.0, 'neu': 0.756, 'pos': 0.244, 'compound': 0.4404}, {'neg': 0.0, 'neu': 1.0, 'pos': 0.0, 'compound': 0.0}, {'neg': 0.0, 'neu': 0.672, 'pos': 0.328, 'compound': 0.5994}, {'neg': 0.0, 'neu': 0.909, 'pos': 0.091, 'compound': 0.3612}, {'neg': 0.0, 'neu': 1.0, 'pos': 0.0, 'compound': 0.0}, {'neg': 0.0, 'neu': 0.764, 'pos': 0.236, 'compound': 0.7783}, {'neg': 0.111, 'neu': 0.815, 'pos': 0.074, 'compound': -0.577}, {'neg': 0.0, 'neu': 0.794, 'pos': 0.206, 'compound': 0.5994}, {'neg': 0.0, 'neu': 0.698, 'pos': 0.302, 'compound': 0.5994}, {'neg': 0.254, 'neu': 0.746, 'pos': 0.0, 'compound': -0.6633}, {'neg': 0.071, 'neu': 0.929, 'pos': 0.0, 'compound': -0.1901}, {'neg': 0.0, 'neu': 0.667, 'pos': 0.333, 'compound': 0.25}, {'neg': 0.0, 'neu': 1.0, 'pos': 0.0, 'compound': 0.0}, {'neg': 0.0, 'neu': 0.856, 'pos': 0.144, 'compound': 0.4019}, {'neg': 0.0, 'neu': 1.0, 'pos': 0.0, 'compound': 0.0}, {'neg': 0.0, 'neu': 1.0, 'pos': 0.0, 'compound': 0.0}, {'neg': 0.0, 'neu': 1.0, 'pos': 0.0, 'compound': 0.0}, {'neg': 0.0, 'neu': 0.635, 'pos': 0.365, 'compound': 0.3182}, {'neg': 0.055, 'neu': 0.807, 'pos': 0.138, 'compound': 0.9955}, {'neg': 0.0, 'neu': 0.967, 'pos': 0.033, 'compound': 0.3527}, {'neg': 0.0, 'neu': 0.705, 'pos': 0.295, 'compound': 0.5574}, {'neg': 0.167, 'neu': 0.833, 'pos': 0.0, 'compound': -0.1531}, {'neg': 0.0, 'neu': 0.902, 'pos': 0.098, 'compound': 0.7089}, {'neg': 0.0, 'neu': 0.562, 'pos': 0.438, 'compound': 0.5994}, {'neg': 0.053, 'neu': 0.727, 'pos': 0.22, 'compound': 0.8141}, {'neg': 0.0, 'neu': 0.606, 'pos': 0.394, 'compound': 0.5994}, {'neg': 0.0, 'neu': 0.829, 'pos': 0.171, 'compound': 0.7351}, {'neg': 0.217, 'neu': 0.783, 'pos': 0.0, 'compound': -0.5574}, {'neg': 0.175, 'neu': 0.825, 'pos': 0.0, 'compound': -0.5574}, {'neg': 0.0, 'neu': 0.485, 'pos': 0.515, 'compound': 0.6486}, {'neg': 0.0, 'neu': 0.699, 'pos': 0.301, 'compound': 0.9863}, {'neg': 0.068, 'neu': 0.78, 'pos': 0.153, 'compound': 0.995}, {'neg': 0.0, 'neu': 0.506, 'pos': 0.494, 'compound': 0.5994}, {'neg': 0.0, 'neu': 0.597, 'pos': 0.403, 'compound': 0.6597}, {'neg': 0.31, 'neu': 0.69, 'pos': 0.0, 'compound': -0.8564}, {'neg': 0.121, 'neu': 0.621, 'pos': 0.257, 'compound': 0.6808}, {'neg': 0.038, 'neu': 0.882, 'pos': 0.08, 'compound': 0.3321}, {'neg': 0.0, 'neu': 0.698, 'pos': 0.302, 'compound': 0.5994}, {'neg': 0.041, 'neu': 0.771, 'pos': 0.188, 'compound': 0.8348}, {'neg': 0.031, 'neu': 0.635, 'pos': 0.334, 'compound': 0.9914}, {'neg': 0.0, 'neu': 0.738, 'pos': 0.262, 'compound': 0.5994}, {'neg': 0.0, 'neu': 1.0, 'pos': 0.0, 'compound': 0.0}, {'neg': 0.0, 'neu': 0.698, 'pos': 0.302, 'compound': 0.5994}, {'neg': 0.0, 'neu': 1.0, 'pos': 0.0, 'compound': 0.0}, {'neg': 0.047, 'neu': 0.742, 'pos': 0.211, 'compound': 0.9992}, {'neg': 0.0, 'neu': 0.693, 'pos': 0.307, 'compound': 0.8807}, {'neg': 0.0, 'neu': 1.0, 'pos': 0.0, 'compound': 0.0}, {'neg': 0.0, 'neu': 1.0, 'pos': 0.0, 'compound': 0.0}, {'neg': 0.034, 'neu': 0.808, 'pos': 0.158, 'compound': 0.9473}, {'neg': 0.0, 'neu': 0.882, 'pos': 0.118, 'compound': 0.34}, {'neg': 0.171, 'neu': 0.793, 'pos': 0.036, 'compound': -0.6808}, {'neg': 0.0, 'neu': 0.506, 'pos': 0.494, 'compound': 0.5994}, {'neg': 0.0, 'neu': 0.782, 'pos': 0.218, 'compound': 0.5994}, {'neg': 0.038, 'neu': 0.772, 'pos': 0.19, 'compound': 0.8271}, {'neg': 0.0, 'neu': 1.0, 'pos': 0.0, 'compound': 0.0}, {'neg': 0.09, 'neu': 0.678, 'pos': 0.232, 'compound': 0.9223}, {'neg': 0.0, 'neu': 1.0, 'pos': 0.0, 'compound': 0.0}, {'neg': 0.084, 'neu': 0.877, 'pos': 0.039, 'compound': -0.7579}, {'neg': 0.233, 'neu': 0.582, 'pos': 0.186, 'compound': -0.1154}, {'neg': 0.0, 'neu': 0.677, 'pos': 0.323, 'compound': 0.875}, {'neg': 0.0, 'neu': 0.733, 'pos': 0.267, 'compound': 0.8402}, {'neg': 0.0, 'neu': 0.506, 'pos': 0.494, 'compound': 0.5994}, {'neg': 0.023, 'neu': 0.805, 'pos': 0.173, 'compound': 0.9999}, {'neg': 0.285, 'neu': 0.528, 'pos': 0.187, 'compound': -0.2558}, {'neg': 0.0, 'neu': 0.43, 'pos': 0.57, 'compound': 0.8388}, {'neg': 0.19, 'neu': 0.643, 'pos': 0.167, 'compound': -0.1363}, {'neg': 0.0, 'neu': 0.849, 'pos': 0.151, 'compound': 0.9353}, {'neg': 0.0, 'neu': 1.0, 'pos': 0.0, 'compound': 0.0}, {'neg': 0.073, 'neu': 0.887, 'pos': 0.04, 'compound': -0.9397}, {'neg': 0.0, 'neu': 0.496, 'pos': 0.504, 'compound': 0.7263}, {'neg': 0.0, 'neu': 0.802, 'pos': 0.198, 'compound': 0.6369}, {'neg': 0.036, 'neu': 0.84, 'pos': 0.125, 'compound': 0.9191}, {'neg': 0.032, 'neu': 0.87, 'pos': 0.099, 'compound': 0.5484}, {'neg': 0.0, 'neu': 0.749, 'pos': 0.251, 'compound': 0.7941}, {'neg': 0.0, 'neu': 0.476, 'pos': 0.524, 'compound': 0.8271}, {'neg': 0.0, 'neu': 0.755, 'pos': 0.245, 'compound': 0.5994}, {'neg': 0.568, 'neu': 0.432, 'pos': 0.0, 'compound': -0.836}, {'neg': 0.333, 'neu': 0.667, 'pos': 0.0, 'compound': -0.3612}, {'neg': 0.283, 'neu': 0.542, 'pos': 0.175, 'compound': -0.2023}, {'neg': 0.0, 'neu': 1.0, 'pos': 0.0, 'compound': 0.0}, {'neg': 0.178, 'neu': 0.732, 'pos': 0.089, 'compound': -0.4215}, {'neg': 0.11, 'neu': 0.642, 'pos': 0.249, 'compound': 0.8555}, {'neg': 0.0, 'neu': 1.0, 'pos': 0.0, 'compound': 0.0}, {'neg': 0.051, 'neu': 0.752, 'pos': 0.197, 'compound': 0.9976}, {'neg': 0.0, 'neu': 1.0, 'pos': 0.0, 'compound': 0.0}, {'neg': 0.125, 'neu': 0.725, 'pos': 0.15, 'compound': 0.6072}, {'neg': 0.0, 'neu': 0.811, 'pos': 0.189, 'compound': 0.6808}, {'neg': 0.0, 'neu': 1.0, 'pos': 0.0, 'compound': 0.0}, {'neg': 0.048, 'neu': 0.81, 'pos': 0.142, 'compound': 0.9388}, {'neg': 0.0, 'neu': 0.714, 'pos': 0.286, 'compound': 0.4215}, {'neg': 0.0, 'neu': 0.887, 'pos': 0.113, 'compound': 0.4939}, {'neg': 0.381, 'neu': 0.619, 'pos': 0.0, 'compound': -0.5106}, {'neg': 0.0, 'neu': 0.967, 'pos': 0.033, 'compound': 0.2406}, {'neg': 0.078, 'neu': 0.922, 'pos': 0.0, 'compound': -0.296}, {'neg': 0.081, 'neu': 0.919, 'pos': 0.0, 'compound': -0.296}, {'neg': 0.24, 'neu': 0.76, 'pos': 0.0, 'compound': -0.6249}, {'neg': 0.0, 'neu': 1.0, 'pos': 0.0, 'compound': 0.0}, {'neg': 0.0, 'neu': 0.686, 'pos': 0.314, 'compound': 0.6705}, {'neg': 0.0, 'neu': 0.625, 'pos': 0.375, 'compound': 0.802}, {'neg': 0.146, 'neu': 0.563, 'pos': 0.291, 'compound': 0.4767}, {'neg': 0.187, 'neu': 0.667, 'pos': 0.147, 'compound': -0.2263}, {'neg': 0.0, 'neu': 1.0, 'pos': 0.0, 'compound': 0.0}, {'neg': 0.0, 'neu': 0.782, 'pos': 0.218, 'compound': 0.3034}, {'neg': 0.0, 'neu': 0.776, 'pos': 0.224, 'compound': 0.3802}, {'neg': 0.0, 'neu': 1.0, 'pos': 0.0, 'compound': 0.0}, {'neg': 0.0, 'neu': 0.0, 'pos': 0.0, 'compound': 0.0}, {'neg': 0.24, 'neu': 0.76, 'pos': 0.0, 'compound': -0.6633}, {'neg': 0.0, 'neu': 0.662, 'pos': 0.338, 'compound': 0.9607}, {'neg': 0.0, 'neu': 1.0, 'pos': 0.0, 'compound': 0.0}, {'neg': 0.0, 'neu': 0.772, 'pos': 0.228, 'compound': 0.7783}, {'neg': 0.381, 'neu': 0.619, 'pos': 0.0, 'compound': -0.5106}, {'neg': 0.084, 'neu': 0.593, 'pos': 0.323, 'compound': 0.9387}, {'neg': 0.0, 'neu': 0.435, 'pos': 0.565, 'compound': 0.5994}, {'neg': 0.058, 'neu': 0.785, 'pos': 0.157, 'compound': 0.9659}, {'neg': 0.0, 'neu': 1.0, 'pos': 0.0, 'compound': 0.0}, {'neg': 0.0, 'neu': 0.698, 'pos': 0.302, 'compound': 0.0772}, {'neg': 0.281, 'neu': 0.719, 'pos': 0.0, 'compound': -0.5994}, {'neg': 0.0, 'neu': 0.698, 'pos': 0.302, 'compound': 0.5994}, {'neg': 0.0, 'neu': 0.864, 'pos': 0.136, 'compound': 0.6378}, {'neg': 0.0, 'neu': 0.864, 'pos': 0.136, 'compound': 0.6378}, {'neg': 0.0, 'neu': 0.805, 'pos': 0.195, 'compound': 0.624}, {'neg': 0.0, 'neu': 1.0, 'pos': 0.0, 'compound': 0.0}, {'neg': 0.0, 'neu': 0.809, 'pos': 0.191, 'compound': 0.8968}, {'neg': 0.0, 'neu': 1.0, 'pos': 0.0, 'compound': 0.0}, {'neg': 0.0, 'neu': 1.0, 'pos': 0.0, 'compound': 0.0}, {'neg': 0.0, 'neu': 0.714, 'pos': 0.286, 'compound': 0.4939}, {'neg': 0.0, 'neu': 1.0, 'pos': 0.0, 'compound': 0.0}, {'neg': 0.0, 'neu': 0.698, 'pos': 0.302, 'compound': 0.5994}, {'neg': 0.0, 'neu': 0.838, 'pos': 0.162, 'compound': 0.6378}, {'neg': 0.0, 'neu': 0.88, 'pos': 0.12, 'compound': 0.5473}, {'neg': 0.0, 'neu': 0.735, 'pos': 0.265, 'compound': 0.3818}, {'neg': 0.0, 'neu': 1.0, 'pos': 0.0, 'compound': 0.0}, {'neg': 0.0, 'neu': 1.0, 'pos': 0.0, 'compound': 0.0}, {'neg': 0.0, 'neu': 0.763, 'pos': 0.237, 'compound': 0.91}, {'neg': 0.0, 'neu': 0.682, 'pos': 0.318, 'compound': 0.8658}, {'neg': 0.0, 'neu': 0.75, 'pos': 0.25, 'compound': 0.6124}, {'neg': 0.0, 'neu': 1.0, 'pos': 0.0, 'compound': 0.0}, {'neg': 0.0, 'neu': 1.0, 'pos': 0.0, 'compound': 0.0}, {'neg': 0.0, 'neu': 0.773, 'pos': 0.227, 'compound': 0.8105}, {'neg': 0.0, 'neu': 0.769, 'pos': 0.231, 'compound': 0.6901}, {'neg': 0.572, 'neu': 0.428, 'pos': 0.0, 'compound': -0.9191}, {'neg': 0.0, 'neu': 0.893, 'pos': 0.107, 'compound': 0.25}, {'neg': 0.0, 'neu': 0.698, 'pos': 0.302, 'compound': 0.5994}, {'neg': 0.0, 'neu': 0.669, 'pos': 0.331, 'compound': 0.8979}, {'neg': 0.072, 'neu': 0.928, 'pos': 0.0, 'compound': -0.4628}, {'neg': 0.0, 'neu': 0.506, 'pos': 0.494, 'compound': 0.5994}, {'neg': 0.052, 'neu': 0.805, 'pos': 0.143, 'compound': 0.9898}, {'neg': 0.072, 'neu': 0.928, 'pos': 0.0, 'compound': -0.3736}, {'neg': 0.0, 'neu': 0.783, 'pos': 0.217, 'compound': 0.8779}, {'neg': 0.0, 'neu': 1.0, 'pos': 0.0, 'compound': 0.0}, {'neg': 0.0, 'neu': 1.0, 'pos': 0.0, 'compound': 0.0}, {'neg': 0.0, 'neu': 0.867, 'pos': 0.133, 'compound': 0.9493}, {'neg': 0.0, 'neu': 0.564, 'pos': 0.436, 'compound': 0.6841}, {'neg': 0.018, 'neu': 0.751, 'pos': 0.231, 'compound': 0.9833}, {'neg': 0.083, 'neu': 0.735, 'pos': 0.182, 'compound': 0.8942}, {'neg': 0.145, 'neu': 0.855, 'pos': 0.0, 'compound': -0.296}, {'neg': 0.0, 'neu': 0.894, 'pos': 0.106, 'compound': 0.5859}, {'neg': 0.0, 'neu': 0.964, 'pos': 0.036, 'compound': 0.2735}, {'neg': 0.0, 'neu': 0.774, 'pos': 0.226, 'compound': 0.5859}, {'neg': 0.0, 'neu': 0.822, 'pos': 0.178, 'compound': 0.8225}, {'neg': 0.0, 'neu': 0.952, 'pos': 0.048, 'compound': 0.4137}, {'neg': 0.0, 'neu': 0.859, 'pos': 0.141, 'compound': 0.3818}, {'neg': 0.17, 'neu': 0.83, 'pos': 0.0, 'compound': -0.6249}, {'neg': 0.0, 'neu': 0.855, 'pos': 0.145, 'compound': 0.5994}, {'neg': 0.087, 'neu': 0.773, 'pos': 0.14, 'compound': 0.8126}, {'neg': 0.0, 'neu': 1.0, 'pos': 0.0, 'compound': 0.0}, {'neg': 0.0, 'neu': 1.0, 'pos': 0.0, 'compound': 0.0}, {'neg': 0.051, 'neu': 0.781, 'pos': 0.168, 'compound': 0.8951}, {'neg': 0.0, 'neu': 0.682, 'pos': 0.318, 'compound': 0.6369}, {'neg': 0.262, 'neu': 0.738, 'pos': 0.0, 'compound': -0.4939}, {'neg': 0.062, 'neu': 0.835, 'pos': 0.103, 'compound': 0.2732}, {'neg': 0.0, 'neu': 1.0, 'pos': 0.0, 'compound': 0.0}, {'neg': 0.278, 'neu': 0.599, 'pos': 0.122, 'compound': -0.9217}, {'neg': 0.0, 'neu': 0.824, 'pos': 0.176, 'compound': 0.128}, {'neg': 0.0, 'neu': 0.738, 'pos': 0.262, 'compound': 0.5994}, {'neg': 0.0, 'neu': 0.657, 'pos': 0.343, 'compound': 0.5719}, {'neg': 0.047, 'neu': 0.862, 'pos': 0.091, 'compound': 0.25}, {'neg': 0.0, 'neu': 0.589, 'pos': 0.411, 'compound': 0.636}, {'neg': 0.0, 'neu': 1.0, 'pos': 0.0, 'compound': 0.0}, {'neg': 0.0, 'neu': 1.0, 'pos': 0.0, 'compound': 0.0}, {'neg': 0.0, 'neu': 0.686, 'pos': 0.314, 'compound': 0.9382}, {'neg': 0.0, 'neu': 0.719, 'pos': 0.281, 'compound': 0.9226}, {'neg': 0.0, 'neu': 1.0, 'pos': 0.0, 'compound': 0.0}, {'neg': 0.0, 'neu': 0.854, 'pos': 0.146, 'compound': 0.4404}, {'neg': 0.0, 'neu': 0.838, 'pos': 0.162, 'compound': 0.4404}, {'neg': 0.0, 'neu': 0.826, 'pos': 0.174, 'compound': 0.6369}, {'neg': 0.0, 'neu': 1.0, 'pos': 0.0, 'compound': 0.0}, {'neg': 0.0, 'neu': 0.698, 'pos': 0.302, 'compound': 0.5994}, {'neg': 0.0, 'neu': 0.562, 'pos': 0.438, 'compound': 0.5994}, {'neg': 0.0, 'neu': 1.0, 'pos': 0.0, 'compound': 0.0}, {'neg': 0.026, 'neu': 0.789, 'pos': 0.184, 'compound': 0.8555}, {'neg': 0.179, 'neu': 0.821, 'pos': 0.0, 'compound': -0.34}, {'neg': 0.0, 'neu': 0.699, 'pos': 0.301, 'compound': 0.9201}, {'neg': 0.072, 'neu': 0.713, 'pos': 0.215, 'compound': 0.9671}, {'neg': 0.0, 'neu': 1.0, 'pos': 0.0, 'compound': 0.0}, {'neg': 0.0, 'neu': 0.699, 'pos': 0.301, 'compound': 0.9201}, {'neg': 0.333, 'neu': 0.667, 'pos': 0.0, 'compound': -0.5423}, {'neg': 0.0, 'neu': 0.638, 'pos': 0.362, 'compound': 0.627}, {'neg': 0.0, 'neu': 1.0, 'pos': 0.0, 'compound': 0.0}, {'neg': 0.0, 'neu': 1.0, 'pos': 0.0, 'compound': 0.0}, {'neg': 0.0, 'neu': 1.0, 'pos': 0.0, 'compound': 0.0}, {'neg': 0.0, 'neu': 0.719, 'pos': 0.281, 'compound': 0.5994}, {'neg': 0.177, 'neu': 0.506, 'pos': 0.316, 'compound': 0.2732}, {'neg': 0.0, 'neu': 1.0, 'pos': 0.0, 'compound': 0.0}, {'neg': 0.0, 'neu': 0.585, 'pos': 0.415, 'compound': 0.9753}, {'neg': 0.0, 'neu': 0.769, 'pos': 0.231, 'compound': 0.5994}, {'neg': 0.0, 'neu': 1.0, 'pos': 0.0, 'compound': 0.0}, {'neg': 0.0, 'neu': 0.794, 'pos': 0.206, 'compound': 0.5994}, {'neg': 0.109, 'neu': 0.891, 'pos': 0.0, 'compound': -0.1513}, {'neg': 0.0, 'neu': 1.0, 'pos': 0.0, 'compound': 0.0}, {'neg': 0.106, 'neu': 0.894, 'pos': 0.0, 'compound': -0.0772}, {'neg': 0.0, 'neu': 0.967, 'pos': 0.033, 'compound': 0.25}, {'neg': 0.0, 'neu': 1.0, 'pos': 0.0, 'compound': 0.0}, {'neg': 0.2, 'neu': 0.8, 'pos': 0.0, 'compound': -0.4588}, {'neg': 0.0, 'neu': 0.87, 'pos': 0.13, 'compound': 0.5994}, {'neg': 0.064, 'neu': 0.768, 'pos': 0.168, 'compound': 0.6808}, {'neg': 0.0, 'neu': 1.0, 'pos': 0.0, 'compound': 0.0}, {'neg': 0.082, 'neu': 0.9, 'pos': 0.018, 'compound': -0.6903}, {'neg': 0.0, 'neu': 0.798, 'pos': 0.202, 'compound': 0.5106}, {'neg': 0.185, 'neu': 0.727, 'pos': 0.088, 'compound': -0.6757}, {'neg': 0.0, 'neu': 1.0, 'pos': 0.0, 'compound': 0.0}, {'neg': 0.05, 'neu': 0.852, 'pos': 0.098, 'compound': 0.5949}, {'neg': 0.0, 'neu': 0.881, 'pos': 0.119, 'compound': 0.7269}, {'neg': 0.0, 'neu': 1.0, 'pos': 0.0, 'compound': 0.0}, {'neg': 0.114, 'neu': 0.815, 'pos': 0.071, 'compound': -0.2023}, {'neg': 0.0, 'neu': 0.756, 'pos': 0.244, 'compound': 0.4404}, {'neg': 0.0, 'neu': 0.824, 'pos': 0.176, 'compound': 0.128}, {'neg': 0.111, 'neu': 0.889, 'pos': 0.0, 'compound': -0.7184}, {'neg': 0.0, 'neu': 1.0, 'pos': 0.0, 'compound': 0.0}, {'neg': 0.016, 'neu': 0.971, 'pos': 0.014, 'compound': -0.128}, {'neg': 0.109, 'neu': 0.718, 'pos': 0.172, 'compound': 0.7499}, {'neg': 0.0, 'neu': 0.904, 'pos': 0.096, 'compound': 0.5562}, {'neg': 0.083, 'neu': 0.759, 'pos': 0.158, 'compound': 0.5319}, {'neg': 0.0, 'neu': 1.0, 'pos': 0.0, 'compound': 0.0}, {'neg': 0.0, 'neu': 0.476, 'pos': 0.524, 'compound': 0.8271}, {'neg': 0.0, 'neu': 0.759, 'pos': 0.241, 'compound': 0.9565}, {'neg': 0.0, 'neu': 1.0, 'pos': 0.0, 'compound': 0.0}, {'neg': 0.148, 'neu': 0.717, 'pos': 0.135, 'compound': 0.1176}, {'neg': 0.066, 'neu': 0.839, 'pos': 0.096, 'compound': 0.2869}, {'neg': 0.0, 'neu': 0.339, 'pos': 0.661, 'compound': 0.5994}, {'neg': 0.0, 'neu': 0.84, 'pos': 0.16, 'compound': 0.6249}, {'neg': 0.016, 'neu': 0.962, 'pos': 0.022, 'compound': 0.25}, {'neg': 0.241, 'neu': 0.759, 'pos': 0.0, 'compound': -0.5423}, {'neg': 0.03, 'neu': 0.503, 'pos': 0.467, 'compound': 0.959}, {'neg': 0.0, 'neu': 1.0, 'pos': 0.0, 'compound': 0.0}, {'neg': 0.0, 'neu': 1.0, 'pos': 0.0, 'compound': 0.0}, {'neg': 0.0, 'neu': 0.562, 'pos': 0.438, 'compound': 0.5994}, {'neg': 0.072, 'neu': 0.79, 'pos': 0.138, 'compound': 0.9972}, {'neg': 0.31, 'neu': 0.69, 'pos': 0.0, 'compound': -0.4019}, {'neg': 0.0, 'neu': 0.719, 'pos': 0.281, 'compound': 0.8316}, {'neg': 0.017, 'neu': 0.858, 'pos': 0.125, 'compound': 0.9703}, {'neg': 0.0, 'neu': 0.783, 'pos': 0.217, 'compound': 0.3612}, {'neg': 0.0, 'neu': 1.0, 'pos': 0.0, 'compound': 0.0}, {'neg': 0.0, 'neu': 0.833, 'pos': 0.167, 'compound': 0.8225}, {'neg': 0.0, 'neu': 0.759, 'pos': 0.241, 'compound': 0.9423}, {'neg': 0.06, 'neu': 0.827, 'pos': 0.113, 'compound': 0.6312}, {'neg': 0.0, 'neu': 0.882, 'pos': 0.118, 'compound': 0.4215}, {'neg': 0.176, 'neu': 0.824, 'pos': 0.0, 'compound': -0.4939}, {'neg': 0.157, 'neu': 0.784, 'pos': 0.059, 'compound': -0.5023}, {'neg': 0.0, 'neu': 0.664, 'pos': 0.336, 'compound': 0.8442}, {'neg': 0.0, 'neu': 0.609, 'pos': 0.391, 'compound': 0.8271}, {'neg': 0.0, 'neu': 0.738, 'pos': 0.262, 'compound': 0.9001}, {'neg': 0.0, 'neu': 1.0, 'pos': 0.0, 'compound': 0.0}, {'neg': 0.0, 'neu': 1.0, 'pos': 0.0, 'compound': 0.0}, {'neg': 0.0, 'neu': 0.734, 'pos': 0.266, 'compound': 0.4404}, {'neg': 0.0, 'neu': 0.913, 'pos': 0.087, 'compound': 0.2023}, {'neg': 0.129, 'neu': 0.744, 'pos': 0.127, 'compound': -0.0258}, {'neg': 0.039, 'neu': 0.704, 'pos': 0.257, 'compound': 0.9313}, {'neg': 0.0, 'neu': 0.815, 'pos': 0.185, 'compound': 0.5106}, {'neg': 0.222, 'neu': 0.691, 'pos': 0.087, 'compound': -0.6908}, {'neg': 0.0, 'neu': 1.0, 'pos': 0.0, 'compound': 0.0}, {'neg': 0.0, 'neu': 1.0, 'pos': 0.0, 'compound': 0.0}, {'neg': 0.0, 'neu': 0.67, 'pos': 0.33, 'compound': 0.7096}, {'neg': 0.102, 'neu': 0.671, 'pos': 0.227, 'compound': 0.5994}, {'neg': 0.019, 'neu': 0.922, 'pos': 0.06, 'compound': 0.5624}, {'neg': 0.0, 'neu': 0.878, 'pos': 0.122, 'compound': 0.5994}, {'neg': 0.0, 'neu': 0.698, 'pos': 0.302, 'compound': 0.5994}, {'neg': 0.0, 'neu': 0.945, 'pos': 0.055, 'compound': 0.4199}, {'neg': 0.0, 'neu': 0.562, 'pos': 0.438, 'compound': 0.5994}, {'neg': 0.0, 'neu': 0.946, 'pos': 0.054, 'compound': 0.4199}, {'neg': 0.0, 'neu': 0.853, 'pos': 0.147, 'compound': 0.6901}, {'neg': 0.066, 'neu': 0.899, 'pos': 0.035, 'compound': -0.4249}, {'neg': 0.074, 'neu': 0.887, 'pos': 0.039, 'compound': -0.4249}, {'neg': 0.0, 'neu': 1.0, 'pos': 0.0, 'compound': 0.0}, {'neg': 0.0, 'neu': 0.828, 'pos': 0.172, 'compound': 0.4404}, {'neg': 0.125, 'neu': 0.75, 'pos': 0.125, 'compound': 0.25}, {'neg': 0.0, 'neu': 0.859, 'pos': 0.141, 'compound': 0.3182}, {'neg': 0.14, 'neu': 0.681, 'pos': 0.179, 'compound': 0.1635}, {'neg': 0.0, 'neu': 1.0, 'pos': 0.0, 'compound': 0.0}, {'neg': 0.0, 'neu': 1.0, 'pos': 0.0, 'compound': 0.0}, {'neg': 0.0, 'neu': 0.738, 'pos': 0.262, 'compound': 0.5994}, {'neg': 0.0, 'neu': 0.859, 'pos': 0.141, 'compound': 0.4215}, {'neg': 0.0, 'neu': 0.905, 'pos': 0.095, 'compound': 0.4926}, {'neg': 0.062, 'neu': 0.835, 'pos': 0.103, 'compound': 0.2732}, {'neg': 0.0, 'neu': 1.0, 'pos': 0.0, 'compound': 0.0}, {'neg': 0.063, 'neu': 0.832, 'pos': 0.105, 'compound': 0.2732}, {'neg': 0.0, 'neu': 1.0, 'pos': 0.0, 'compound': 0.0}, {'neg': 0.0, 'neu': 0.88, 'pos': 0.12, 'compound': 0.6322}, {'neg': 0.0, 'neu': 1.0, 'pos': 0.0, 'compound': 0.0}, {'neg': 0.219, 'neu': 0.781, 'pos': 0.0, 'compound': -0.4215}, {'neg': 0.0, 'neu': 0.562, 'pos': 0.438, 'compound': 0.8316}, {'neg': 0.0, 'neu': 0.949, 'pos': 0.051, 'compound': 0.25}, {'neg': 0.0, 'neu': 1.0, 'pos': 0.0, 'compound': 0.0}, {'neg': 0.177, 'neu': 0.542, 'pos': 0.281, 'compound': 0.2732}, {'neg': 0.0, 'neu': 0.688, 'pos': 0.312, 'compound': 0.7096}, {'neg': 0.028, 'neu': 0.791, 'pos': 0.18, 'compound': 0.9776}, {'neg': 0.0, 'neu': 0.625, 'pos': 0.375, 'compound': 0.8316}, {'neg': 0.05, 'neu': 0.95, 'pos': 0.0, 'compound': -0.2263}, {'neg': 0.049, 'neu': 0.916, 'pos': 0.035, 'compound': 0.0849}, {'neg': 0.0, 'neu': 1.0, 'pos': 0.0, 'compound': 0.0}, {'neg': 0.0, 'neu': 0.692, 'pos': 0.308, 'compound': 0.4588}, {'neg': 0.0, 'neu': 0.603, 'pos': 0.397, 'compound': 0.9042}, {'neg': 0.213, 'neu': 0.787, 'pos': 0.0, 'compound': -0.2263}, {'neg': 0.0, 'neu': 1.0, 'pos': 0.0, 'compound': 0.0}, {'neg': 0.108, 'neu': 0.782, 'pos': 0.111, 'compound': 0.0258}, {'neg': 0.0, 'neu': 0.633, 'pos': 0.367, 'compound': 0.4404}, {'neg': 0.0, 'neu': 0.909, 'pos': 0.091, 'compound': 0.3182}, {'neg': 0.239, 'neu': 0.761, 'pos': 0.0, 'compound': -0.296}, {'neg': 0.0, 'neu': 1.0, 'pos': 0.0, 'compound': 0.0}, {'neg': 0.0, 'neu': 0.816, 'pos': 0.184, 'compound': 0.6369}, {'neg': 0.233, 'neu': 0.685, 'pos': 0.082, 'compound': -0.8221}, {'neg': 0.237, 'neu': 0.763, 'pos': 0.0, 'compound': -0.4767}, {'neg': 0.135, 'neu': 0.865, 'pos': 0.0, 'compound': -0.1027}, {'neg': 0.097, 'neu': 0.672, 'pos': 0.231, 'compound': 0.4927}, {'neg': 0.133, 'neu': 0.867, 'pos': 0.0, 'compound': -0.25}, {'neg': 0.0, 'neu': 0.691, 'pos': 0.309, 'compound': 0.7003}, {'neg': 0.0, 'neu': 0.718, 'pos': 0.282, 'compound': 0.6037}, {'neg': 0.0, 'neu': 0.606, 'pos': 0.394, 'compound': 0.8316}, {'neg': 0.0, 'neu': 1.0, 'pos': 0.0, 'compound': 0.0}, {'neg': 0.022, 'neu': 0.798, 'pos': 0.18, 'compound': 0.9796}, {'neg': 0.0, 'neu': 0.844, 'pos': 0.156, 'compound': 0.34}, {'neg': 0.0, 'neu': 1.0, 'pos': 0.0, 'compound': 0.0}, {'neg': 0.0, 'neu': 0.927, 'pos': 0.073, 'compound': 0.25}, {'neg': 0.0, 'neu': 0.759, 'pos': 0.241, 'compound': 0.6597}, {'neg': 0.0, 'neu': 0.801, 'pos': 0.199, 'compound': 0.9137}, {'neg': 0.0, 'neu': 0.649, 'pos': 0.351, 'compound': 0.7579}, {'neg': 0.756, 'neu': 0.244, 'pos': 0.0, 'compound': -0.4767}, {'neg': 0.0, 'neu': 1.0, 'pos': 0.0, 'compound': 0.0}, {'neg': 0.0, 'neu': 0.394, 'pos': 0.606, 'compound': 0.8271}, {'neg': 0.231, 'neu': 0.769, 'pos': 0.0, 'compound': -0.4019}, {'neg': 0.147, 'neu': 0.742, 'pos': 0.111, 'compound': -0.4075}, {'neg': 0.0, 'neu': 0.816, 'pos': 0.184, 'compound': 0.4019}, {'neg': 0.052, 'neu': 0.887, 'pos': 0.062, 'compound': 0.1045}, {'neg': 0.265, 'neu': 0.735, 'pos': 0.0, 'compound': -0.5574}, {'neg': 0.37, 'neu': 0.63, 'pos': 0.0, 'compound': -0.5719}, {'neg': 0.0, 'neu': 1.0, 'pos': 0.0, 'compound': 0.0}, {'neg': 0.316, 'neu': 0.684, 'pos': 0.0, 'compound': -0.5719}, {'neg': 0.0, 'neu': 1.0, 'pos': 0.0, 'compound': 0.0}, {'neg': 0.0, 'neu': 0.839, 'pos': 0.161, 'compound': 0.3182}, {'neg': 0.0, 'neu': 0.806, 'pos': 0.194, 'compound': 0.5859}, {'neg': 0.359, 'neu': 0.641, 'pos': 0.0, 'compound': -0.4215}, {'neg': 0.184, 'neu': 0.816, 'pos': 0.0, 'compound': -0.5574}, {'neg': 0.0, 'neu': 0.791, 'pos': 0.209, 'compound': 0.8519}, {'neg': 0.0, 'neu': 0.805, 'pos': 0.195, 'compound': 0.964}, {'neg': 0.0, 'neu': 1.0, 'pos': 0.0, 'compound': 0.0}, {'neg': 0.0, 'neu': 1.0, 'pos': 0.0, 'compound': 0.0}, {'neg': 0.0, 'neu': 1.0, 'pos': 0.0, 'compound': 0.0}, {'neg': 0.046, 'neu': 0.829, 'pos': 0.124, 'compound': 0.5719}, {'neg': 0.0, 'neu': 0.664, 'pos': 0.336, 'compound': 0.7964}, {'neg': 0.0, 'neu': 0.664, 'pos': 0.336, 'compound': 0.7964}, {'neg': 0.0, 'neu': 1.0, 'pos': 0.0, 'compound': 0.0}, {'neg': 0.073, 'neu': 0.785, 'pos': 0.143, 'compound': 0.1714}, {'neg': 0.0, 'neu': 0.855, 'pos': 0.145, 'compound': 0.5994}, {'neg': 0.0, 'neu': 1.0, 'pos': 0.0, 'compound': 0.0}, {'neg': 0.0, 'neu': 0.923, 'pos': 0.077, 'compound': 0.4588}, {'neg': 0.047, 'neu': 0.815, 'pos': 0.138, 'compound': 0.9912}, {'neg': 0.0, 'neu': 1.0, 'pos': 0.0, 'compound': 0.0}, {'neg': 0.0, 'neu': 0.625, 'pos': 0.375, 'compound': 0.6369}, {'neg': 0.0, 'neu': 0.588, 'pos': 0.412, 'compound': 0.6369}, {'neg': 0.0, 'neu': 0.651, 'pos': 0.349, 'compound': 0.9661}, {'neg': 0.0, 'neu': 0.734, 'pos': 0.266, 'compound': 0.4404}, {'neg': 0.12, 'neu': 0.71, 'pos': 0.17, 'compound': 0.9969}, {'neg': 0.0, 'neu': 0.623, 'pos': 0.377, 'compound': 0.8834}, {'neg': 0.0, 'neu': 0.612, 'pos': 0.388, 'compound': 0.5859}, {'neg': 0.056, 'neu': 0.754, 'pos': 0.19, 'compound': 0.8732}, {'neg': 0.0, 'neu': 0.641, 'pos': 0.359, 'compound': 0.6808}, {'neg': 0.199, 'neu': 0.72, 'pos': 0.082, 'compound': -0.7607}, {'neg': 0.098, 'neu': 0.769, 'pos': 0.132, 'compound': 0.2003}, {'neg': 0.0, 'neu': 1.0, 'pos': 0.0, 'compound': 0.0}, {'neg': 0.0, 'neu': 0.756, 'pos': 0.244, 'compound': 0.4404}, {'neg': 0.029, 'neu': 0.841, 'pos': 0.13, 'compound': 0.9538}, {'neg': 0.0, 'neu': 0.685, 'pos': 0.315, 'compound': 0.9782}, {'neg': 0.0, 'neu': 1.0, 'pos': 0.0, 'compound': 0.0}, {'neg': 0.0, 'neu': 1.0, 'pos': 0.0, 'compound': 0.0}, {'neg': 0.037, 'neu': 0.902, 'pos': 0.061, 'compound': 0.3182}, {'neg': 0.0, 'neu': 0.617, 'pos': 0.383, 'compound': 0.7351}, {'neg': 0.0, 'neu': 0.897, 'pos': 0.103, 'compound': 0.4588}, {'neg': 0.016, 'neu': 0.786, 'pos': 0.198, 'compound': 0.9618}, {'neg': 0.037, 'neu': 0.85, 'pos': 0.113, 'compound': 0.8843}, {'neg': 0.056, 'neu': 0.79, 'pos': 0.154, 'compound': 0.9638}, {'neg': 0.0, 'neu': 1.0, 'pos': 0.0, 'compound': 0.0}, {'neg': 0.045, 'neu': 0.672, 'pos': 0.283, 'compound': 0.8934}, {'neg': 0.0, 'neu': 0.648, 'pos': 0.352, 'compound': 0.7933}, {'neg': 0.0, 'neu': 1.0, 'pos': 0.0, 'compound': 0.0}, {'neg': 0.067, 'neu': 0.814, 'pos': 0.119, 'compound': 0.296}, {'neg': 0.0, 'neu': 1.0, 'pos': 0.0, 'compound': 0.0}, {'neg': 0.196, 'neu': 0.804, 'pos': 0.0, 'compound': -0.3976}, {'neg': 0.069, 'neu': 0.931, 'pos': 0.0, 'compound': -0.25}, {'neg': 0.153, 'neu': 0.762, 'pos': 0.085, 'compound': -0.4346}, {'neg': 0.0, 'neu': 1.0, 'pos': 0.0, 'compound': 0.0}, {'neg': 0.0, 'neu': 0.897, 'pos': 0.103, 'compound': 0.5994}, {'neg': 0.0, 'neu': 0.806, 'pos': 0.194, 'compound': 0.5574}, {'neg': 0.0, 'neu': 0.532, 'pos': 0.468, 'compound': 0.5461}, {'neg': 0.021, 'neu': 0.817, 'pos': 0.162, 'compound': 0.9907}, {'neg': 0.058, 'neu': 0.885, 'pos': 0.058, 'compound': 0.0}, {'neg': 0.0, 'neu': 0.732, 'pos': 0.268, 'compound': 0.7239}, {'neg': 0.0, 'neu': 1.0, 'pos': 0.0, 'compound': 0.0}, {'neg': 0.075, 'neu': 0.68, 'pos': 0.245, 'compound': 0.9638}, {'neg': 0.147, 'neu': 0.853, 'pos': 0.0, 'compound': -0.6124}, {'neg': 0.0, 'neu': 0.336, 'pos': 0.664, 'compound': 0.8356}, {'neg': 0.0, 'neu': 0.556, 'pos': 0.444, 'compound': 0.5859}, {'neg': 0.0, 'neu': 0.907, 'pos': 0.093, 'compound': 0.5423}, {'neg': 0.0, 'neu': 1.0, 'pos': 0.0, 'compound': 0.0}, {'neg': 0.273, 'neu': 0.727, 'pos': 0.0, 'compound': -0.4588}, {'neg': 0.0, 'neu': 0.776, 'pos': 0.224, 'compound': 0.3818}, {'neg': 0.0, 'neu': 0.625, 'pos': 0.375, 'compound': 0.8957}, {'neg': 0.0, 'neu': 1.0, 'pos': 0.0, 'compound': 0.0}, {'neg': 0.044, 'neu': 0.645, 'pos': 0.311, 'compound': 0.9337}, {'neg': 0.0, 'neu': 1.0, 'pos': 0.0, 'compound': 0.0}, {'neg': 0.0, 'neu': 0.884, 'pos': 0.116, 'compound': 0.2732}, {'neg': 0.039, 'neu': 0.849, 'pos': 0.112, 'compound': 0.965}, {'neg': 0.0, 'neu': 1.0, 'pos': 0.0, 'compound': 0.0}, {'neg': 0.0, 'neu': 0.769, 'pos': 0.231, 'compound': 0.5994}, {'neg': 0.0, 'neu': 0.84, 'pos': 0.16, 'compound': 0.636}, {'neg': 0.0, 'neu': 0.764, 'pos': 0.236, 'compound': 0.5267}, {'neg': 0.0, 'neu': 0.888, 'pos': 0.112, 'compound': 0.5994}, {'neg': 0.0, 'neu': 1.0, 'pos': 0.0, 'compound': 0.0}, {'neg': 0.145, 'neu': 0.855, 'pos': 0.0, 'compound': -0.296}, {'neg': 0.193, 'neu': 0.733, 'pos': 0.073, 'compound': -0.4215}, {'neg': 0.102, 'neu': 0.812, 'pos': 0.086, 'compound': -0.4871}, {'neg': 0.0, 'neu': 1.0, 'pos': 0.0, 'compound': 0.0}, {'neg': 0.0, 'neu': 0.907, 'pos': 0.093, 'compound': 0.4588}, {'neg': 0.0, 'neu': 0.885, 'pos': 0.115, 'compound': 0.8663}, {'neg': 0.06, 'neu': 0.827, 'pos': 0.113, 'compound': 0.2732}, {'neg': 0.06, 'neu': 0.827, 'pos': 0.113, 'compound': 0.2732}, {'neg': 0.0, 'neu': 0.856, 'pos': 0.144, 'compound': 0.7506}, {'neg': 0.0, 'neu': 0.538, 'pos': 0.462, 'compound': 0.7184}, {'neg': 0.0, 'neu': 0.92, 'pos': 0.08, 'compound': 0.0772}, {'neg': 0.0, 'neu': 0.642, 'pos': 0.358, 'compound': 0.5994}, {'neg': 0.062, 'neu': 0.7, 'pos': 0.239, 'compound': 0.8625}, {'neg': 0.0, 'neu': 1.0, 'pos': 0.0, 'compound': 0.0}, {'neg': 0.231, 'neu': 0.769, 'pos': 0.0, 'compound': -0.4019}, {'neg': 0.037, 'neu': 0.861, 'pos': 0.102, 'compound': 0.8132}, {'neg': 0.0, 'neu': 0.844, 'pos': 0.156, 'compound': 0.644}, {'neg': 0.188, 'neu': 0.812, 'pos': 0.0, 'compound': -0.5267}, {'neg': 0.0, 'neu': 1.0, 'pos': 0.0, 'compound': 0.0}, {'neg': 0.0, 'neu': 1.0, 'pos': 0.0, 'compound': 0.0}, {'neg': 0.061, 'neu': 0.884, 'pos': 0.055, 'compound': -0.1306}, {'neg': 0.0, 'neu': 0.831, 'pos': 0.169, 'compound': 0.4696}, {'neg': 0.0, 'neu': 1.0, 'pos': 0.0, 'compound': 0.0}, {'neg': 0.0, 'neu': 0.822, 'pos': 0.178, 'compound': 0.5994}, {'neg': 0.0, 'neu': 0.775, 'pos': 0.225, 'compound': 0.4404}, {'neg': 0.0, 'neu': 0.734, 'pos': 0.266, 'compound': 0.4404}, {'neg': 0.113, 'neu': 0.79, 'pos': 0.097, 'compound': -0.1144}, {'neg': 0.053, 'neu': 0.717, 'pos': 0.23, 'compound': 0.8709}, {'neg': 0.0, 'neu': 0.862, 'pos': 0.138, 'compound': 0.4588}, {'neg': 0.08, 'neu': 0.681, 'pos': 0.238, 'compound': 0.7269}, {'neg': 0.079, 'neu': 0.852, 'pos': 0.07, 'compound': 0.1531}, {'neg': 0.0, 'neu': 0.724, 'pos': 0.276, 'compound': 0.6369}, {'neg': 0.0, 'neu': 0.682, 'pos': 0.318, 'compound': 0.6369}, {'neg': 0.0, 'neu': 0.755, 'pos': 0.245, 'compound': 0.5994}, {'neg': 0.0, 'neu': 0.755, 'pos': 0.245, 'compound': 0.5994}, {'neg': 0.0, 'neu': 0.849, 'pos': 0.151, 'compound': 0.5719}, {'neg': 0.0, 'neu': 0.606, 'pos': 0.394, 'compound': 0.5994}, {'neg': 0.0, 'neu': 0.845, 'pos': 0.155, 'compound': 0.7845}, {'neg': 0.0, 'neu': 0.985, 'pos': 0.015, 'compound': 0.4404}, {'neg': 0.055, 'neu': 0.945, 'pos': 0.0, 'compound': -0.872}, {'neg': 0.0, 'neu': 0.819, 'pos': 0.181, 'compound': 0.6486}, {'neg': 0.114, 'neu': 0.659, 'pos': 0.228, 'compound': 0.4404}, {'neg': 0.0, 'neu': 1.0, 'pos': 0.0, 'compound': 0.0}, {'neg': 0.09, 'neu': 0.64, 'pos': 0.27, 'compound': 0.875}, {'neg': 0.0, 'neu': 0.789, 'pos': 0.211, 'compound': 0.34}, {'neg': 0.0, 'neu': 0.825, 'pos': 0.175, 'compound': 0.7506}, {'neg': 0.109, 'neu': 0.741, 'pos': 0.15, 'compound': 0.4767}, {'neg': 0.109, 'neu': 0.741, 'pos': 0.15, 'compound': 0.4767}, {'neg': 0.0, 'neu': 0.709, 'pos': 0.291, 'compound': 0.6249}, {'neg': 0.0, 'neu': 0.744, 'pos': 0.256, 'compound': 0.4767}, {'neg': 0.078, 'neu': 0.683, 'pos': 0.239, 'compound': 0.6486}, {'neg': 0.0, 'neu': 1.0, 'pos': 0.0, 'compound': 0.0}, {'neg': 0.0, 'neu': 1.0, 'pos': 0.0, 'compound': 0.0}, {'neg': 0.0, 'neu': 0.874, 'pos': 0.126, 'compound': 0.1531}, {'neg': 0.0, 'neu': 0.939, 'pos': 0.061, 'compound': 0.4215}, {'neg': 0.0, 'neu': 0.819, 'pos': 0.181, 'compound': 0.4939}, {'neg': 0.0, 'neu': 0.898, 'pos': 0.102, 'compound': 0.6249}, {'neg': 0.0, 'neu': 0.791, 'pos': 0.209, 'compound': 0.4404}, {'neg': 0.0, 'neu': 0.388, 'pos': 0.612, 'compound': 0.7845}, {'neg': 0.112, 'neu': 0.683, 'pos': 0.205, 'compound': 0.9501}, {'neg': 0.0, 'neu': 0.734, 'pos': 0.266, 'compound': 0.4404}, {'neg': 0.12, 'neu': 0.72, 'pos': 0.16, 'compound': 0.128}, {'neg': 0.486, 'neu': 0.278, 'pos': 0.236, 'compound': -0.4215}, {'neg': 0.0, 'neu': 1.0, 'pos': 0.0, 'compound': 0.0}, {'neg': 0.0, 'neu': 0.638, 'pos': 0.362, 'compound': 0.1779}, {'neg': 0.07, 'neu': 0.815, 'pos': 0.115, 'compound': 0.956}, {'neg': 0.0, 'neu': 1.0, 'pos': 0.0, 'compound': 0.0}, {'neg': 0.0, 'neu': 0.755, 'pos': 0.245, 'compound': 0.5994}, {'neg': 0.0, 'neu': 1.0, 'pos': 0.0, 'compound': 0.0}, {'neg': 0.0, 'neu': 0.787, 'pos': 0.213, 'compound': 0.5859}, {'neg': 0.295, 'neu': 0.705, 'pos': 0.0, 'compound': -0.636}, {'neg': 0.0, 'neu': 1.0, 'pos': 0.0, 'compound': 0.0}, {'neg': 0.0, 'neu': 0.886, 'pos': 0.114, 'compound': 0.4767}, {'neg': 0.0, 'neu': 1.0, 'pos': 0.0, 'compound': 0.0}, {'neg': 0.0, 'neu': 0.918, 'pos': 0.082, 'compound': 0.5106}, {'neg': 0.0, 'neu': 0.664, 'pos': 0.336, 'compound': 0.8442}, {'neg': 0.184, 'neu': 0.638, 'pos': 0.177, 'compound': 0.1531}, {'neg': 0.056, 'neu': 0.719, 'pos': 0.225, 'compound': 0.8071}, {'neg': 0.09, 'neu': 0.621, 'pos': 0.289, 'compound': 0.5983}, {'neg': 0.0, 'neu': 1.0, 'pos': 0.0, 'compound': 0.0}, {'neg': 0.0, 'neu': 1.0, 'pos': 0.0, 'compound': 0.0}, {'neg': 0.068, 'neu': 0.899, 'pos': 0.033, 'compound': -0.4482}, {'neg': 0.0, 'neu': 0.794, 'pos': 0.206, 'compound': 0.5994}, {'neg': 0.0, 'neu': 1.0, 'pos': 0.0, 'compound': 0.0}, {'neg': 0.0, 'neu': 1.0, 'pos': 0.0, 'compound': 0.0}, {'neg': 0.0, 'neu': 1.0, 'pos': 0.0, 'compound': 0.0}, {'neg': 0.369, 'neu': 0.631, 'pos': 0.0, 'compound': -0.6249}, {'neg': 0.069, 'neu': 0.726, 'pos': 0.205, 'compound': 0.6249}, {'neg': 0.012, 'neu': 0.851, 'pos': 0.137, 'compound': 1.0}, {'neg': 0.0, 'neu': 1.0, 'pos': 0.0, 'compound': 0.0}, {'neg': 0.038, 'neu': 0.844, 'pos': 0.118, 'compound': 0.6984}, {'neg': 0.0, 'neu': 1.0, 'pos': 0.0, 'compound': 0.0}, {'neg': 0.364, 'neu': 0.357, 'pos': 0.279, 'compound': 0.1007}, {'neg': 0.0, 'neu': 1.0, 'pos': 0.0, 'compound': 0.0}, {'neg': 0.0, 'neu': 0.939, 'pos': 0.061, 'compound': 0.2263}, {'neg': 0.0, 'neu': 1.0, 'pos': 0.0, 'compound': 0.0}, {'neg': 0.0, 'neu': 1.0, 'pos': 0.0, 'compound': 0.0}, {'neg': 0.047, 'neu': 0.678, 'pos': 0.275, 'compound': 0.991}, {'neg': 0.0, 'neu': 0.793, 'pos': 0.207, 'compound': 0.5719}, {'neg': 0.047, 'neu': 0.741, 'pos': 0.212, 'compound': 0.7096}, {'neg': 0.0, 'neu': 1.0, 'pos': 0.0, 'compound': 0.0}, {'neg': 0.0, 'neu': 0.784, 'pos': 0.216, 'compound': 0.836}, {'neg': 0.0, 'neu': 1.0, 'pos': 0.0, 'compound': 0.0}, {'neg': 0.0, 'neu': 1.0, 'pos': 0.0, 'compound': 0.0}, {'neg': 0.0, 'neu': 0.886, 'pos': 0.114, 'compound': 0.7003}, {'neg': 0.312, 'neu': 0.688, 'pos': 0.0, 'compound': -0.7096}, {'neg': 0.025, 'neu': 0.815, 'pos': 0.161, 'compound': 0.9}, {'neg': 0.191, 'neu': 0.809, 'pos': 0.0, 'compound': -0.3818}, {'neg': 0.077, 'neu': 0.816, 'pos': 0.107, 'compound': 0.296}, {'neg': 0.0, 'neu': 1.0, 'pos': 0.0, 'compound': 0.0}, {'neg': 0.167, 'neu': 0.833, 'pos': 0.0, 'compound': -0.2023}, {'neg': 0.368, 'neu': 0.632, 'pos': 0.0, 'compound': -0.5423}, {'neg': 0.0, 'neu': 1.0, 'pos': 0.0, 'compound': 0.0}, {'neg': 0.0, 'neu': 0.904, 'pos': 0.096, 'compound': 0.5423}, {'neg': 0.0, 'neu': 0.588, 'pos': 0.412, 'compound': 0.6369}, {'neg': 0.0, 'neu': 1.0, 'pos': 0.0, 'compound': 0.0}, {'neg': 0.0, 'neu': 0.718, 'pos': 0.282, 'compound': 0.6249}, {'neg': 0.052, 'neu': 0.671, 'pos': 0.277, 'compound': 0.8426}, {'neg': 0.0, 'neu': 0.806, 'pos': 0.194, 'compound': 0.34}, {'neg': 0.0, 'neu': 0.438, 'pos': 0.562, 'compound': 0.8402}, {'neg': 0.0, 'neu': 0.745, 'pos': 0.255, 'compound': 0.34}, {'neg': 0.0, 'neu': 1.0, 'pos': 0.0, 'compound': 0.0}, {'neg': 0.0, 'neu': 1.0, 'pos': 0.0, 'compound': 0.0}, {'neg': 0.31, 'neu': 0.69, 'pos': 0.0, 'compound': -0.5574}, {'neg': 0.045, 'neu': 0.729, 'pos': 0.226, 'compound': 0.8271}, {'neg': 0.0, 'neu': 0.885, 'pos': 0.115, 'compound': 0.0772}, {'neg': 0.0, 'neu': 0.792, 'pos': 0.208, 'compound': 0.8957}, {'neg': 0.0, 'neu': 0.866, 'pos': 0.134, 'compound': 0.5423}, {'neg': 0.0, 'neu': 0.792, 'pos': 0.208, 'compound': 0.8957}, {'neg': 0.069, 'neu': 0.693, 'pos': 0.238, 'compound': 0.9974}, {'neg': 0.148, 'neu': 0.789, 'pos': 0.062, 'compound': -0.5994}, {'neg': 0.0, 'neu': 0.923, 'pos': 0.077, 'compound': 0.5927}, {'neg': 0.0, 'neu': 0.562, 'pos': 0.438, 'compound': 0.5994}, {'neg': 0.0, 'neu': 0.878, 'pos': 0.122, 'compound': 0.4927}, {'neg': 0.184, 'neu': 0.57, 'pos': 0.247, 'compound': 0.25}, {'neg': 0.038, 'neu': 0.772, 'pos': 0.19, 'compound': 0.8271}, {'neg': 0.0, 'neu': 0.672, 'pos': 0.328, 'compound': 0.5994}, {'neg': 0.129, 'neu': 0.871, 'pos': 0.0, 'compound': -0.7691}, {'neg': 0.257, 'neu': 0.589, 'pos': 0.154, 'compound': -0.4454}, {'neg': 0.0, 'neu': 1.0, 'pos': 0.0, 'compound': 0.0}, {'neg': 0.0, 'neu': 0.893, 'pos': 0.107, 'compound': 0.7717}, {'neg': 0.0, 'neu': 0.867, 'pos': 0.133, 'compound': 0.9747}, {'neg': 0.0, 'neu': 0.676, 'pos': 0.324, 'compound': 0.34}, {'neg': 0.0, 'neu': 0.625, 'pos': 0.375, 'compound': 0.93}, {'neg': 0.0, 'neu': 0.957, 'pos': 0.043, 'compound': 0.128}, {'neg': 0.0, 'neu': 0.348, 'pos': 0.652, 'compound': 0.8172}, {'neg': 0.113, 'neu': 0.724, 'pos': 0.163, 'compound': 0.2732}, {'neg': 0.0, 'neu': 0.636, 'pos': 0.364, 'compound': 0.743}, {'neg': 0.0, 'neu': 1.0, 'pos': 0.0, 'compound': 0.0}, {'neg': 0.0, 'neu': 0.865, 'pos': 0.135, 'compound': 0.5719}, {'neg': 0.0, 'neu': 1.0, 'pos': 0.0, 'compound': 0.0}, {'neg': 0.0, 'neu': 1.0, 'pos': 0.0, 'compound': 0.0}, {'neg': 0.0, 'neu': 0.877, 'pos': 0.123, 'compound': 0.4215}, {'neg': 0.0, 'neu': 0.852, 'pos': 0.148, 'compound': 0.3818}, {'neg': 0.0, 'neu': 0.882, 'pos': 0.118, 'compound': 0.4215}, {'neg': 0.389, 'neu': 0.37, 'pos': 0.241, 'compound': -0.34}, {'neg': 0.144, 'neu': 0.856, 'pos': 0.0, 'compound': -0.4019}, {'neg': 0.0, 'neu': 1.0, 'pos': 0.0, 'compound': 0.0}, {'neg': 0.0, 'neu': 0.94, 'pos': 0.06, 'compound': 0.636}, {'neg': 0.037, 'neu': 0.815, 'pos': 0.148, 'compound': 0.9524}, {'neg': 0.055, 'neu': 0.774, 'pos': 0.171, 'compound': 0.9956}, {'neg': 0.121, 'neu': 0.879, 'pos': 0.0, 'compound': -0.296}, {'neg': 0.0, 'neu': 1.0, 'pos': 0.0, 'compound': 0.0}, {'neg': 0.0, 'neu': 1.0, 'pos': 0.0, 'compound': 0.0}, {'neg': 0.195, 'neu': 0.517, 'pos': 0.288, 'compound': 0.3109}, {'neg': 0.0, 'neu': 0.827, 'pos': 0.173, 'compound': 0.3182}, {'neg': 0.0, 'neu': 1.0, 'pos': 0.0, 'compound': 0.0}, {'neg': 0.2, 'neu': 0.603, 'pos': 0.196, 'compound': -0.0414}, {'neg': 0.0, 'neu': 1.0, 'pos': 0.0, 'compound': 0.0}, {'neg': 0.0, 'neu': 1.0, 'pos': 0.0, 'compound': 0.0}, {'neg': 0.685, 'neu': 0.315, 'pos': 0.0, 'compound': -0.8271}, {'neg': 0.116, 'neu': 0.427, 'pos': 0.457, 'compound': 0.765}, {'neg': 0.0, 'neu': 1.0, 'pos': 0.0, 'compound': 0.0}, {'neg': 0.0, 'neu': 1.0, 'pos': 0.0, 'compound': 0.0}, {'neg': 0.05, 'neu': 0.753, 'pos': 0.197, 'compound': 0.9956}, {'neg': 0.238, 'neu': 0.467, 'pos': 0.294, 'compound': 0.296}, {'neg': 0.129, 'neu': 0.558, 'pos': 0.313, 'compound': 0.6486}, {'neg': 0.0, 'neu': 1.0, 'pos': 0.0, 'compound': 0.0}, {'neg': 0.0, 'neu': 0.642, 'pos': 0.358, 'compound': 0.5994}, {'neg': 0.0, 'neu': 0.588, 'pos': 0.412, 'compound': 0.8271}, {'neg': 0.0, 'neu': 1.0, 'pos': 0.0, 'compound': 0.0}, {'neg': 0.0, 'neu': 0.588, 'pos': 0.412, 'compound': 0.8271}, {'neg': 0.0, 'neu': 0.975, 'pos': 0.025, 'compound': 0.0516}, {'neg': 0.0, 'neu': 0.606, 'pos': 0.394, 'compound': 0.5994}, {'neg': 0.0, 'neu': 0.84, 'pos': 0.16, 'compound': 0.8324}, {'neg': 0.0, 'neu': 0.606, 'pos': 0.394, 'compound': 0.5994}, {'neg': 0.0, 'neu': 1.0, 'pos': 0.0, 'compound': 0.0}, {'neg': 0.0, 'neu': 1.0, 'pos': 0.0, 'compound': 0.0}, {'neg': 0.0, 'neu': 0.774, 'pos': 0.226, 'compound': 0.765}, {'neg': 0.0, 'neu': 1.0, 'pos': 0.0, 'compound': 0.0}, {'neg': 0.192, 'neu': 0.662, 'pos': 0.146, 'compound': -0.1779}, {'neg': 0.0, 'neu': 0.699, 'pos': 0.301, 'compound': 0.802}, {'neg': 0.0, 'neu': 0.706, 'pos': 0.294, 'compound': 0.7579}, {'neg': 0.0, 'neu': 0.789, 'pos': 0.211, 'compound': 0.34}, {'neg': 0.0, 'neu': 0.694, 'pos': 0.306, 'compound': 0.8114}, {'neg': 0.104, 'neu': 0.718, 'pos': 0.177, 'compound': 0.8924}, {'neg': 0.0, 'neu': 0.892, 'pos': 0.108, 'compound': 0.1779}, {'neg': 0.0, 'neu': 1.0, 'pos': 0.0, 'compound': 0.0}, {'neg': 0.0, 'neu': 0.716, 'pos': 0.284, 'compound': 0.9775}, {'neg': 0.0, 'neu': 0.856, 'pos': 0.144, 'compound': 0.4939}, {'neg': 0.0, 'neu': 1.0, 'pos': 0.0, 'compound': 0.0}, {'neg': 0.0, 'neu': 0.86, 'pos': 0.14, 'compound': 0.5994}, {'neg': 0.0, 'neu': 0.782, 'pos': 0.218, 'compound': 0.5994}, {'neg': 0.0, 'neu': 0.698, 'pos': 0.302, 'compound': 0.8316}, {'neg': 0.0, 'neu': 1.0, 'pos': 0.0, 'compound': 0.0}, {'neg': 0.0, 'neu': 0.515, 'pos': 0.485, 'compound': 0.906}, {'neg': 0.043, 'neu': 0.799, 'pos': 0.158, 'compound': 0.7845}, {'neg': 0.0, 'neu': 0.921, 'pos': 0.079, 'compound': 0.6369}, {'neg': 0.026, 'neu': 0.865, 'pos': 0.109, 'compound': 0.6254}, {'neg': 0.0, 'neu': 0.769, 'pos': 0.231, 'compound': 0.7184}, {'neg': 0.087, 'neu': 0.913, 'pos': 0.0, 'compound': -0.296}, {'neg': 0.0, 'neu': 1.0, 'pos': 0.0, 'compound': 0.0}, {'neg': 0.009, 'neu': 0.885, 'pos': 0.106, 'compound': 0.9975}, {'neg': 0.0, 'neu': 1.0, 'pos': 0.0, 'compound': 0.0}, {'neg': 0.0, 'neu': 1.0, 'pos': 0.0, 'compound': 0.0}, {'neg': 0.07, 'neu': 0.75, 'pos': 0.18, 'compound': 0.4746}, {'neg': 0.0, 'neu': 0.642, 'pos': 0.358, 'compound': 0.5994}, {'neg': 0.0, 'neu': 0.888, 'pos': 0.112, 'compound': 0.5859}, {'neg': 0.0, 'neu': 1.0, 'pos': 0.0, 'compound': 0.0}, {'neg': 0.0, 'neu': 1.0, 'pos': 0.0, 'compound': 0.0}, {'neg': 0.0, 'neu': 1.0, 'pos': 0.0, 'compound': 0.0}, {'neg': 0.0, 'neu': 1.0, 'pos': 0.0, 'compound': 0.0}, {'neg': 0.0, 'neu': 0.563, 'pos': 0.437, 'compound': 0.7351}, {'neg': 0.118, 'neu': 0.662, 'pos': 0.219, 'compound': 0.4824}, {'neg': 0.256, 'neu': 0.744, 'pos': 0.0, 'compound': -0.4767}, {'neg': 0.226, 'neu': 0.566, 'pos': 0.208, 'compound': -0.0516}, {'neg': 0.0, 'neu': 1.0, 'pos': 0.0, 'compound': 0.0}, {'neg': 0.037, 'neu': 0.849, 'pos': 0.113, 'compound': 0.8843}, {'neg': 0.0, 'neu': 1.0, 'pos': 0.0, 'compound': 0.0}, {'neg': 0.017, 'neu': 0.835, 'pos': 0.149, 'compound': 0.9877}, {'neg': 0.094, 'neu': 0.767, 'pos': 0.139, 'compound': 0.5531}, {'neg': 0.0, 'neu': 0.881, 'pos': 0.119, 'compound': 0.4019}, {'neg': 0.0, 'neu': 1.0, 'pos': 0.0, 'compound': 0.0}, {'neg': 0.154, 'neu': 0.705, 'pos': 0.141, 'compound': -0.0516}, {'neg': 0.164, 'neu': 0.685, 'pos': 0.151, 'compound': -0.0516}, {'neg': 0.0, 'neu': 1.0, 'pos': 0.0, 'compound': 0.0}, {'neg': 0.0, 'neu': 1.0, 'pos': 0.0, 'compound': 0.0}, {'neg': 0.055, 'neu': 0.775, 'pos': 0.17, 'compound': 0.6808}, {'neg': 0.361, 'neu': 0.542, 'pos': 0.097, 'compound': -0.8074}, {'neg': 0.0, 'neu': 0.782, 'pos': 0.218, 'compound': 0.5994}, {'neg': 0.0, 'neu': 1.0, 'pos': 0.0, 'compound': 0.0}, {'neg': 0.0, 'neu': 0.635, 'pos': 0.365, 'compound': 0.9097}, {'neg': 0.0, 'neu': 0.756, 'pos': 0.244, 'compound': 0.4404}, {'neg': 0.197, 'neu': 0.574, 'pos': 0.228, 'compound': 0.2328}, {'neg': 0.056, 'neu': 0.712, 'pos': 0.232, 'compound': 0.7845}, {'neg': 0.0, 'neu': 0.698, 'pos': 0.302, 'compound': 0.8591}, {'neg': 0.0, 'neu': 0.683, 'pos': 0.317, 'compound': 0.6344}, {'neg': 0.0, 'neu': 0.698, 'pos': 0.302, 'compound': 0.5994}, {'neg': 0.0, 'neu': 1.0, 'pos': 0.0, 'compound': 0.0}, {'neg': 0.0, 'neu': 0.655, 'pos': 0.345, 'compound': 0.7003}, {'neg': 0.11, 'neu': 0.724, 'pos': 0.166, 'compound': 0.6731}, {'neg': 0.0, 'neu': 0.781, 'pos': 0.219, 'compound': 0.7183}, {'neg': 0.043, 'neu': 0.895, 'pos': 0.061, 'compound': -0.4269}, {'neg': 0.0, 'neu': 1.0, 'pos': 0.0, 'compound': 0.0}, {'neg': 0.0, 'neu': 1.0, 'pos': 0.0, 'compound': 0.0}, {'neg': 0.412, 'neu': 0.588, 'pos': 0.0, 'compound': -0.5423}, {'neg': 0.0, 'neu': 1.0, 'pos': 0.0, 'compound': 0.0}, {'neg': 0.12, 'neu': 0.723, 'pos': 0.157, 'compound': 0.1531}, {'neg': 0.0, 'neu': 1.0, 'pos': 0.0, 'compound': 0.0}, {'neg': 0.0, 'neu': 0.66, 'pos': 0.34, 'compound': 0.3818}, {'neg': 0.0, 'neu': 0.738, 'pos': 0.262, 'compound': 0.5994}, {'neg': 0.0, 'neu': 1.0, 'pos': 0.0, 'compound': 0.0}, {'neg': 0.0, 'neu': 1.0, 'pos': 0.0, 'compound': 0.0}, {'neg': 0.0, 'neu': 1.0, 'pos': 0.0, 'compound': 0.0}, {'neg': 0.1, 'neu': 0.9, 'pos': 0.0, 'compound': -0.5859}, {'neg': 0.0, 'neu': 0.856, 'pos': 0.144, 'compound': 0.4019}, {'neg': 0.18, 'neu': 0.82, 'pos': 0.0, 'compound': -0.296}, {'neg': 0.0, 'neu': 1.0, 'pos': 0.0, 'compound': 0.0}, {'neg': 0.0, 'neu': 0.915, 'pos': 0.085, 'compound': 0.8176}, {'neg': 0.04, 'neu': 0.725, 'pos': 0.236, 'compound': 0.943}, {'neg': 0.093, 'neu': 0.907, 'pos': 0.0, 'compound': -0.5574}, {'neg': 0.093, 'neu': 0.907, 'pos': 0.0, 'compound': -0.5574}, {'neg': 0.182, 'neu': 0.818, 'pos': 0.0, 'compound': -0.25}, {'neg': 0.0, 'neu': 1.0, 'pos': 0.0, 'compound': 0.0}, {'neg': 0.0, 'neu': 1.0, 'pos': 0.0, 'compound': 0.0}, {'neg': 0.18, 'neu': 0.82, 'pos': 0.0, 'compound': -0.5106}, {'neg': 0.467, 'neu': 0.533, 'pos': 0.0, 'compound': -0.5423}, {'neg': 0.0, 'neu': 1.0, 'pos': 0.0, 'compound': 0.0}, {'neg': 0.0, 'neu': 1.0, 'pos': 0.0, 'compound': 0.0}, {'neg': 0.037, 'neu': 0.699, 'pos': 0.263, 'compound': 0.9866}, {'neg': 0.0, 'neu': 1.0, 'pos': 0.0, 'compound': 0.0}, {'neg': 0.07, 'neu': 0.796, 'pos': 0.134, 'compound': 0.4588}, {'neg': 0.039, 'neu': 0.838, 'pos': 0.123, 'compound': 0.9615}, {'neg': 0.0, 'neu': 0.556, 'pos': 0.444, 'compound': 0.6114}, {'neg': 0.052, 'neu': 0.866, 'pos': 0.081, 'compound': 0.3558}, {'neg': 0.062, 'neu': 0.812, 'pos': 0.126, 'compound': 0.8676}, {'neg': 0.064, 'neu': 0.885, 'pos': 0.051, 'compound': -0.3818}, {'neg': 0.0, 'neu': 0.826, 'pos': 0.174, 'compound': 0.7289}, {'neg': 0.064, 'neu': 0.885, 'pos': 0.051, 'compound': -0.3818}, {'neg': 0.0, 'neu': 0.917, 'pos': 0.083, 'compound': 0.2869}, {'neg': 0.0, 'neu': 1.0, 'pos': 0.0, 'compound': 0.0}, {'neg': 0.0, 'neu': 0.84, 'pos': 0.16, 'compound': 0.2732}, {'neg': 0.0, 'neu': 1.0, 'pos': 0.0, 'compound': 0.0}, {'neg': 0.0, 'neu': 1.0, 'pos': 0.0, 'compound': 0.0}, {'neg': 0.155, 'neu': 0.794, 'pos': 0.052, 'compound': -0.5574}, {'neg': 0.034, 'neu': 0.685, 'pos': 0.282, 'compound': 0.9498}, {'neg': 0.0, 'neu': 0.923, 'pos': 0.077, 'compound': 0.1511}, {'neg': 0.034, 'neu': 0.878, 'pos': 0.088, 'compound': 0.4404}, {'neg': 0.0, 'neu': 0.779, 'pos': 0.221, 'compound': 0.644}, {'neg': 0.0, 'neu': 0.808, 'pos': 0.192, 'compound': 0.4215}, {'neg': 0.148, 'neu': 0.738, 'pos': 0.115, 'compound': -0.2023}, {'neg': 0.0, 'neu': 1.0, 'pos': 0.0, 'compound': 0.0}, {'neg': 0.0, 'neu': 1.0, 'pos': 0.0, 'compound': 0.0}, {'neg': 0.0, 'neu': 1.0, 'pos': 0.0, 'compound': 0.0}, {'neg': 0.0, 'neu': 1.0, 'pos': 0.0, 'compound': 0.0}, {'neg': 0.268, 'neu': 0.732, 'pos': 0.0, 'compound': -0.7882}, {'neg': 0.0, 'neu': 0.813, 'pos': 0.187, 'compound': 0.5994}, {'neg': 0.0, 'neu': 0.793, 'pos': 0.207, 'compound': 0.9061}, {'neg': 0.0, 'neu': 0.813, 'pos': 0.187, 'compound': 0.5994}, {'neg': 0.0, 'neu': 1.0, 'pos': 0.0, 'compound': 0.0}, {'neg': 0.211, 'neu': 0.789, 'pos': 0.0, 'compound': -0.7579}, {'neg': 0.211, 'neu': 0.789, 'pos': 0.0, 'compound': -0.7579}, {'neg': 0.0, 'neu': 0.89, 'pos': 0.11, 'compound': 0.7003}, {'neg': 0.182, 'neu': 0.818, 'pos': 0.0, 'compound': -0.25}, {'neg': 0.371, 'neu': 0.629, 'pos': 0.0, 'compound': -0.7096}, {'neg': 0.0, 'neu': 0.743, 'pos': 0.257, 'compound': 0.5859}, {'neg': 0.0, 'neu': 1.0, 'pos': 0.0, 'compound': 0.0}, {'neg': 0.0, 'neu': 1.0, 'pos': 0.0, 'compound': 0.0}, {'neg': 0.0, 'neu': 0.527, 'pos': 0.473, 'compound': 0.6696}, {'neg': 0.0, 'neu': 1.0, 'pos': 0.0, 'compound': 0.0}, {'neg': 0.0, 'neu': 0.775, 'pos': 0.225, 'compound': 0.4939}, {'neg': 0.0, 'neu': 1.0, 'pos': 0.0, 'compound': 0.0}, {'neg': 0.0, 'neu': 0.562, 'pos': 0.438, 'compound': 0.5994}, {'neg': 0.0, 'neu': 0.419, 'pos': 0.581, 'compound': 0.9022}, {'neg': 0.0, 'neu': 0.844, 'pos': 0.156, 'compound': 0.34}, {'neg': 0.027, 'neu': 0.924, 'pos': 0.049, 'compound': 0.2732}, {'neg': 0.0, 'neu': 0.759, 'pos': 0.241, 'compound': 0.8591}, {'neg': 0.092, 'neu': 0.825, 'pos': 0.083, 'compound': -0.0772}, {'neg': 0.091, 'neu': 0.909, 'pos': 0.0, 'compound': -0.296}, {'neg': 0.044, 'neu': 0.916, 'pos': 0.04, 'compound': -0.0516}, {'neg': 0.039, 'neu': 0.925, 'pos': 0.036, 'compound': -0.0516}, {'neg': 0.0, 'neu': 0.973, 'pos': 0.027, 'compound': 0.5106}, {'neg': 0.096, 'neu': 0.721, 'pos': 0.183, 'compound': 0.8527}, {'neg': 0.163, 'neu': 0.602, 'pos': 0.235, 'compound': 0.296}, {'neg': 0.215, 'neu': 0.654, 'pos': 0.131, 'compound': -0.4215}, {'neg': 0.0, 'neu': 1.0, 'pos': 0.0, 'compound': 0.0}, {'neg': 0.0, 'neu': 0.927, 'pos': 0.073, 'compound': 0.3182}, {'neg': 0.0, 'neu': 1.0, 'pos': 0.0, 'compound': 0.0}, {'neg': 0.1, 'neu': 0.724, 'pos': 0.175, 'compound': 0.7506}, {'neg': 0.103, 'neu': 0.812, 'pos': 0.085, 'compound': -0.0649}, {'neg': 0.03, 'neu': 0.891, 'pos': 0.079, 'compound': 0.3987}, {'neg': 0.0, 'neu': 0.748, 'pos': 0.252, 'compound': 0.4019}, {'neg': 0.0, 'neu': 0.756, 'pos': 0.244, 'compound': 0.4404}, {'neg': 0.0, 'neu': 1.0, 'pos': 0.0, 'compound': 0.0}, {'neg': 0.0, 'neu': 0.878, 'pos': 0.122, 'compound': 0.5994}, {'neg': 0.0, 'neu': 1.0, 'pos': 0.0, 'compound': 0.0}, {'neg': 0.0, 'neu': 0.922, 'pos': 0.078, 'compound': 0.4497}, {'neg': 0.102, 'neu': 0.813, 'pos': 0.086, 'compound': -0.4122}, {'neg': 0.0, 'neu': 0.86, 'pos': 0.14, 'compound': 0.5994}, {'neg': 0.06, 'neu': 0.767, 'pos': 0.173, 'compound': 0.7461}, {'neg': 0.0, 'neu': 1.0, 'pos': 0.0, 'compound': 0.0}, {'neg': 0.0, 'neu': 0.641, 'pos': 0.359, 'compound': 0.8066}, {'neg': 0.0, 'neu': 0.654, 'pos': 0.346, 'compound': 0.5719}, {'neg': 0.0, 'neu': 0.838, 'pos': 0.162, 'compound': 0.4019}, {'neg': 0.0, 'neu': 1.0, 'pos': 0.0, 'compound': 0.0}, {'neg': 0.0, 'neu': 1.0, 'pos': 0.0, 'compound': 0.0}, {'neg': 0.194, 'neu': 0.576, 'pos': 0.23, 'compound': 0.128}, {'neg': 0.0, 'neu': 1.0, 'pos': 0.0, 'compound': 0.0}, {'neg': 0.0, 'neu': 1.0, 'pos': 0.0, 'compound': 0.0}, {'neg': 0.0, 'neu': 0.745, 'pos': 0.255, 'compound': 0.802}, {'neg': 0.0, 'neu': 1.0, 'pos': 0.0, 'compound': 0.0}, {'neg': 0.0, 'neu': 0.55, 'pos': 0.45, 'compound': 0.5994}, {'neg': 0.107, 'neu': 0.687, 'pos': 0.206, 'compound': 0.3182}, {'neg': 0.099, 'neu': 0.709, 'pos': 0.191, 'compound': 0.3182}, {'neg': 0.0, 'neu': 1.0, 'pos': 0.0, 'compound': 0.0}, {'neg': 0.0, 'neu': 0.929, 'pos': 0.071, 'compound': 0.3182}, {'neg': 0.043, 'neu': 0.764, 'pos': 0.193, 'compound': 0.9883}, {'neg': 0.122, 'neu': 0.819, 'pos': 0.059, 'compound': -0.533}, {'neg': 0.0, 'neu': 1.0, 'pos': 0.0, 'compound': 0.0}, {'neg': 0.0, 'neu': 0.817, 'pos': 0.183, 'compound': 0.5719}, {'neg': 0.0, 'neu': 0.874, 'pos': 0.126, 'compound': 0.5994}, {'neg': 0.0, 'neu': 0.853, 'pos': 0.147, 'compound': 0.8074}, {'neg': 0.0, 'neu': 0.846, 'pos': 0.154, 'compound': 0.8316}, {'neg': 0.358, 'neu': 0.365, 'pos': 0.277, 'compound': -0.2244}, {'neg': 0.0, 'neu': 1.0, 'pos': 0.0, 'compound': 0.0}, {'neg': 0.0, 'neu': 0.882, 'pos': 0.118, 'compound': 0.4215}, {'neg': 0.0, 'neu': 0.786, 'pos': 0.214, 'compound': 0.6757}, {'neg': 0.0, 'neu': 1.0, 'pos': 0.0, 'compound': 0.0}, {'neg': 0.0, 'neu': 1.0, 'pos': 0.0, 'compound': 0.0}, {'neg': 0.0, 'neu': 0.855, 'pos': 0.145, 'compound': 0.7783}, {'neg': 0.0, 'neu': 0.834, 'pos': 0.166, 'compound': 0.7876}, {'neg': 0.067, 'neu': 0.813, 'pos': 0.12, 'compound': 0.2732}, {'neg': 0.0, 'neu': 1.0, 'pos': 0.0, 'compound': 0.0}, {'neg': 0.0, 'neu': 0.913, 'pos': 0.087, 'compound': 0.3182}, {'neg': 0.205, 'neu': 0.606, 'pos': 0.189, 'compound': -0.0516}, {'neg': 0.0, 'neu': 0.645, 'pos': 0.355, 'compound': 0.5267}, {'neg': 0.0, 'neu': 0.566, 'pos': 0.434, 'compound': 0.7845}, {'neg': 0.0, 'neu': 0.839, 'pos': 0.161, 'compound': 0.3182}, {'neg': 0.0, 'neu': 1.0, 'pos': 0.0, 'compound': 0.0}, {'neg': 0.136, 'neu': 0.864, 'pos': 0.0, 'compound': -0.4588}, {'neg': 0.135, 'neu': 0.723, 'pos': 0.143, 'compound': -0.4588}, {'neg': 0.0, 'neu': 1.0, 'pos': 0.0, 'compound': 0.0}, {'neg': 0.0, 'neu': 1.0, 'pos': 0.0, 'compound': 0.0}, {'neg': 0.0, 'neu': 1.0, 'pos': 0.0, 'compound': 0.0}, {'neg': 0.0, 'neu': 1.0, 'pos': 0.0, 'compound': 0.0}, {'neg': 0.0, 'neu': 0.59, 'pos': 0.41, 'compound': 0.9997}, {'neg': 0.094, 'neu': 0.906, 'pos': 0.0, 'compound': -0.5859}, {'neg': 0.075, 'neu': 0.856, 'pos': 0.068, 'compound': -0.0516}, {'neg': 0.0, 'neu': 0.782, 'pos': 0.218, 'compound': 0.5994}, {'neg': 0.057, 'neu': 0.692, 'pos': 0.251, 'compound': 0.9999}, {'neg': 0.0, 'neu': 0.897, 'pos': 0.103, 'compound': 0.34}, {'neg': 0.0, 'neu': 0.81, 'pos': 0.19, 'compound': 0.6597}, {'neg': 0.0, 'neu': 1.0, 'pos': 0.0, 'compound': 0.0}, {'neg': 0.13, 'neu': 0.714, 'pos': 0.156, 'compound': 0.1027}, {'neg': 0.259, 'neu': 0.741, 'pos': 0.0, 'compound': -0.5423}, {'neg': 0.0, 'neu': 0.943, 'pos': 0.057, 'compound': 0.2225}, {'neg': 0.0, 'neu': 0.672, 'pos': 0.328, 'compound': 0.5994}, {'neg': 0.0, 'neu': 0.57, 'pos': 0.43, 'compound': 0.7777}, {'neg': 0.0, 'neu': 0.89, 'pos': 0.11, 'compound': 0.4767}, {'neg': 0.158, 'neu': 0.842, 'pos': 0.0, 'compound': -0.7184}, {'neg': 0.055, 'neu': 0.945, 'pos': 0.0, 'compound': -0.4019}, {'neg': 0.152, 'neu': 0.596, 'pos': 0.252, 'compound': 0.3612}, {'neg': 0.116, 'neu': 0.631, 'pos': 0.253, 'compound': 0.7745}, {'neg': 0.0, 'neu': 1.0, 'pos': 0.0, 'compound': 0.0}, {'neg': 0.0, 'neu': 0.775, 'pos': 0.225, 'compound': 0.9856}, {'neg': 0.105, 'neu': 0.776, 'pos': 0.119, 'compound': 0.1758}, {'neg': 0.0, 'neu': 1.0, 'pos': 0.0, 'compound': 0.0}, {'neg': 0.081, 'neu': 0.766, 'pos': 0.153, 'compound': 0.3612}, {'neg': 0.0, 'neu': 0.794, 'pos': 0.206, 'compound': 0.0772}, {'neg': 0.0, 'neu': 1.0, 'pos': 0.0, 'compound': 0.0}, {'neg': 0.0, 'neu': 1.0, 'pos': 0.0, 'compound': 0.0}, {'neg': 0.0, 'neu': 0.93, 'pos': 0.07, 'compound': 0.2732}, {'neg': 0.0, 'neu': 0.588, 'pos': 0.412, 'compound': 0.6369}, {'neg': 0.167, 'neu': 0.667, 'pos': 0.167, 'compound': 0.0}, {'neg': 0.0, 'neu': 0.385, 'pos': 0.615, 'compound': 0.4926}, {'neg': 0.0, 'neu': 1.0, 'pos': 0.0, 'compound': 0.0}, {'neg': 0.0, 'neu': 1.0, 'pos': 0.0, 'compound': 0.0}, {'neg': 0.0, 'neu': 1.0, 'pos': 0.0, 'compound': 0.0}, {'neg': 0.0, 'neu': 0.69, 'pos': 0.31, 'compound': 0.743}, {'neg': 0.0, 'neu': 0.852, 'pos': 0.148, 'compound': 0.5106}, {'neg': 0.313, 'neu': 0.687, 'pos': 0.0, 'compound': -0.6249}, {'neg': 0.0, 'neu': 1.0, 'pos': 0.0, 'compound': 0.0}, {'neg': 0.23, 'neu': 0.77, 'pos': 0.0, 'compound': -0.5095}, {'neg': 0.145, 'neu': 0.855, 'pos': 0.0, 'compound': -0.5994}, {'neg': 0.0, 'neu': 1.0, 'pos': 0.0, 'compound': 0.0}, {'neg': 0.13, 'neu': 0.87, 'pos': 0.0, 'compound': -0.0516}, {'neg': 0.0, 'neu': 1.0, 'pos': 0.0, 'compound': 0.0}, {'neg': 0.0, 'neu': 1.0, 'pos': 0.0, 'compound': 0.0}, {'neg': 0.0, 'neu': 0.915, 'pos': 0.085, 'compound': 0.3612}, {'neg': 0.0, 'neu': 1.0, 'pos': 0.0, 'compound': 0.0}, {'neg': 0.0, 'neu': 1.0, 'pos': 0.0, 'compound': 0.0}, {'neg': 0.0, 'neu': 0.871, 'pos': 0.129, 'compound': 0.9287}, {'neg': 0.072, 'neu': 0.77, 'pos': 0.159, 'compound': 0.9944}, {'neg': 0.0, 'neu': 0.925, 'pos': 0.075, 'compound': 0.3612}, {'neg': 0.31, 'neu': 0.69, 'pos': 0.0, 'compound': -0.4019}, {'neg': 0.31, 'neu': 0.69, 'pos': 0.0, 'compound': -0.4019}, {'neg': 0.31, 'neu': 0.69, 'pos': 0.0, 'compound': -0.4019}, {'neg': 0.048, 'neu': 0.879, 'pos': 0.073, 'compound': 0.296}, {'neg': 0.143, 'neu': 0.714, 'pos': 0.143, 'compound': 0.0}, {'neg': 0.0, 'neu': 1.0, 'pos': 0.0, 'compound': 0.0}, {'neg': 0.0, 'neu': 1.0, 'pos': 0.0, 'compound': 0.0}]\n"
     ]
    }
   ],
   "source": [
    "print(nfl_list)"
   ]
  },
  {
   "cell_type": "code",
   "execution_count": 20,
   "metadata": {},
   "outputs": [],
   "source": [
    "nfl_df = pd.DataFrame(nfl_list)"
   ]
  },
  {
   "cell_type": "code",
   "execution_count": 21,
   "metadata": {},
   "outputs": [],
   "source": [
    "nfl_negatives = nfl_df['neg'].mean()\n",
    "nfl_positives = nfl_df['pos'].mean()\n",
    "nfl_neutrals = nfl_df['neu'].mean()\n",
    "nfl_compound = nfl_df['compound'].mean()"
   ]
  },
  {
   "cell_type": "code",
   "execution_count": 22,
   "metadata": {},
   "outputs": [
    {
     "data": {
      "text/html": [
       "<div>\n",
       "<style scoped>\n",
       "    .dataframe tbody tr th:only-of-type {\n",
       "        vertical-align: middle;\n",
       "    }\n",
       "\n",
       "    .dataframe tbody tr th {\n",
       "        vertical-align: top;\n",
       "    }\n",
       "\n",
       "    .dataframe thead th {\n",
       "        text-align: right;\n",
       "    }\n",
       "</style>\n",
       "<table border=\"1\" class=\"dataframe\">\n",
       "  <thead>\n",
       "    <tr style=\"text-align: right;\">\n",
       "      <th></th>\n",
       "      <th>neg</th>\n",
       "      <th>neu</th>\n",
       "      <th>pos</th>\n",
       "      <th>compound</th>\n",
       "    </tr>\n",
       "  </thead>\n",
       "  <tbody>\n",
       "    <tr>\n",
       "      <th>0</th>\n",
       "      <td>0.050</td>\n",
       "      <td>0.781</td>\n",
       "      <td>0.169</td>\n",
       "      <td>0.7351</td>\n",
       "    </tr>\n",
       "    <tr>\n",
       "      <th>1</th>\n",
       "      <td>0.096</td>\n",
       "      <td>0.877</td>\n",
       "      <td>0.027</td>\n",
       "      <td>-0.6747</td>\n",
       "    </tr>\n",
       "    <tr>\n",
       "      <th>2</th>\n",
       "      <td>0.000</td>\n",
       "      <td>1.000</td>\n",
       "      <td>0.000</td>\n",
       "      <td>0.0000</td>\n",
       "    </tr>\n",
       "    <tr>\n",
       "      <th>3</th>\n",
       "      <td>0.000</td>\n",
       "      <td>0.936</td>\n",
       "      <td>0.064</td>\n",
       "      <td>0.7624</td>\n",
       "    </tr>\n",
       "    <tr>\n",
       "      <th>4</th>\n",
       "      <td>0.000</td>\n",
       "      <td>1.000</td>\n",
       "      <td>0.000</td>\n",
       "      <td>0.0000</td>\n",
       "    </tr>\n",
       "  </tbody>\n",
       "</table>\n",
       "</div>"
      ],
      "text/plain": [
       "     neg    neu    pos  compound\n",
       "0  0.050  0.781  0.169    0.7351\n",
       "1  0.096  0.877  0.027   -0.6747\n",
       "2  0.000  1.000  0.000    0.0000\n",
       "3  0.000  0.936  0.064    0.7624\n",
       "4  0.000  1.000  0.000    0.0000"
      ]
     },
     "execution_count": 22,
     "metadata": {},
     "output_type": "execute_result"
    }
   ],
   "source": [
    "nfl_df.head()"
   ]
  },
  {
   "cell_type": "code",
   "execution_count": 23,
   "metadata": {},
   "outputs": [
    {
     "data": {
      "text/html": [
       "<div>\n",
       "<style scoped>\n",
       "    .dataframe tbody tr th:only-of-type {\n",
       "        vertical-align: middle;\n",
       "    }\n",
       "\n",
       "    .dataframe tbody tr th {\n",
       "        vertical-align: top;\n",
       "    }\n",
       "\n",
       "    .dataframe thead th {\n",
       "        text-align: right;\n",
       "    }\n",
       "</style>\n",
       "<table border=\"1\" class=\"dataframe\">\n",
       "  <thead>\n",
       "    <tr style=\"text-align: right;\">\n",
       "      <th></th>\n",
       "      <th>neg</th>\n",
       "      <th>neu</th>\n",
       "      <th>pos</th>\n",
       "      <th>compound</th>\n",
       "    </tr>\n",
       "  </thead>\n",
       "  <tbody>\n",
       "    <tr>\n",
       "      <th>0</th>\n",
       "      <td>0.000</td>\n",
       "      <td>0.781</td>\n",
       "      <td>0.219</td>\n",
       "      <td>0.6369</td>\n",
       "    </tr>\n",
       "    <tr>\n",
       "      <th>1</th>\n",
       "      <td>0.000</td>\n",
       "      <td>1.000</td>\n",
       "      <td>0.000</td>\n",
       "      <td>0.0000</td>\n",
       "    </tr>\n",
       "    <tr>\n",
       "      <th>2</th>\n",
       "      <td>0.000</td>\n",
       "      <td>1.000</td>\n",
       "      <td>0.000</td>\n",
       "      <td>0.0000</td>\n",
       "    </tr>\n",
       "    <tr>\n",
       "      <th>3</th>\n",
       "      <td>0.425</td>\n",
       "      <td>0.575</td>\n",
       "      <td>0.000</td>\n",
       "      <td>-0.5719</td>\n",
       "    </tr>\n",
       "    <tr>\n",
       "      <th>4</th>\n",
       "      <td>0.000</td>\n",
       "      <td>1.000</td>\n",
       "      <td>0.000</td>\n",
       "      <td>0.0000</td>\n",
       "    </tr>\n",
       "  </tbody>\n",
       "</table>\n",
       "</div>"
      ],
      "text/plain": [
       "     neg    neu    pos  compound\n",
       "0  0.000  0.781  0.219    0.6369\n",
       "1  0.000  1.000  0.000    0.0000\n",
       "2  0.000  1.000  0.000    0.0000\n",
       "3  0.425  0.575  0.000   -0.5719\n",
       "4  0.000  1.000  0.000    0.0000"
      ]
     },
     "execution_count": 23,
     "metadata": {},
     "output_type": "execute_result"
    }
   ],
   "source": [
    "fners_df.head()"
   ]
  },
  {
   "cell_type": "code",
   "execution_count": 27,
   "metadata": {},
   "outputs": [
    {
     "name": "stdout",
     "output_type": "stream",
     "text": [
      "\n",
      "S̲E̲N̲T̲I̲M̲E̲N̲T̲ ̲V̲A̲L̲U̲E̲S̲ ̲F̲O̲R̲ ̲4̲9̲e̲r̲s̲ ̲S̲U̲B̲R̲E̲D̲D̲I̲T̲ \n",
      "\n",
      "Negative :  4.8%\n",
      "\n",
      "Positive : 14.37%\n",
      "\n",
      " Neutral : 80.83%\n",
      "\n",
      "Compound : 20.7%\n"
     ]
    }
   ],
   "source": [
    "print('')\n",
    "print(\"\\u0332\".join(\"SENTIMENT VALUES FOR 49ers SUBREDDIT \"))\n",
    "print('')\n",
    "print(f'Negative :  {round(fners_negatives*100,2)}%')\n",
    "print('')\n",
    "print(f'Positive : {round(fners_positives*100,2)}%')\n",
    "print('')\n",
    "print(f' Neutral : {round(fners_neutrals*100,2)}%')\n",
    "print('')\n",
    "print(f'Compound : {round(fners_compound*100,2)}%')"
   ]
  },
  {
   "cell_type": "code",
   "execution_count": 26,
   "metadata": {},
   "outputs": [
    {
     "name": "stdout",
     "output_type": "stream",
     "text": [
      "\n",
      "S̲E̲N̲T̲I̲M̲E̲N̲T̲ ̲V̲A̲L̲U̲E̲S̲ ̲F̲O̲R̲ ̲N̲F̲L̲ ̲S̲U̲B̲R̲E̲D̲D̲I̲T̲ \n",
      "\n",
      "Negative :  4.61%\n",
      "\n",
      "Positive : 13.61%\n",
      "\n",
      " Neutral : 81.68%\n",
      "\n",
      "Compound : 28.21%\n"
     ]
    }
   ],
   "source": [
    "print('')\n",
    "print(\"\\u0332\".join(\"SENTIMENT VALUES FOR NFL SUBREDDIT \"))\n",
    "print('')\n",
    "print(f'Negative :  {round(nfl_negatives*100,2)}%')\n",
    "print('')\n",
    "print(f'Positive : {round(nfl_positives*100,2)}%')\n",
    "print('')\n",
    "print(f' Neutral : {round(nfl_neutrals*100,2)}%')\n",
    "print('')\n",
    "print(f'Compound : {round(nfl_compound*100,2)}%')"
   ]
  },
  {
   "cell_type": "code",
   "execution_count": null,
   "metadata": {},
   "outputs": [],
   "source": []
  },
  {
   "cell_type": "code",
   "execution_count": null,
   "metadata": {},
   "outputs": [],
   "source": []
  }
 ],
 "metadata": {
  "kernelspec": {
   "display_name": "Python 3",
   "language": "python",
   "name": "python3"
  },
  "language_info": {
   "codemirror_mode": {
    "name": "ipython",
    "version": 3
   },
   "file_extension": ".py",
   "mimetype": "text/x-python",
   "name": "python",
   "nbconvert_exporter": "python",
   "pygments_lexer": "ipython3",
   "version": "3.7.1"
  }
 },
 "nbformat": 4,
 "nbformat_minor": 2
}
