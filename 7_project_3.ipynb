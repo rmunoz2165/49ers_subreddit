{
 "cells": [
  {
   "cell_type": "markdown",
   "metadata": {},
   "source": [
    "## SUPPORT VECTOR CLASSIFIER "
   ]
  },
  {
   "cell_type": "code",
   "execution_count": 1,
   "metadata": {},
   "outputs": [],
   "source": [
    "import pandas as pd\n",
    "import numpy as np\n",
    "import matplotlib.pyplot as plt\n",
    "\n",
    "%matplotlib inline\n",
    "from sklearn.svm import SVC\n",
    "from sklearn.model_selection import train_test_split, GridSearchCV\n",
    "from sklearn.feature_extraction.text import CountVectorizer, TfidfVectorizer\n",
    "from sklearn.pipeline import Pipeline\n",
    "from sklearn import metrics\n",
    "from sklearn.metrics import classification_report, confusion_matrix, balanced_accuracy_score, accuracy_score\n"
   ]
  },
  {
   "cell_type": "code",
   "execution_count": 2,
   "metadata": {},
   "outputs": [],
   "source": [
    "data = pd.read_csv('./datasets/final.csv')"
   ]
  },
  {
   "cell_type": "code",
   "execution_count": 3,
   "metadata": {},
   "outputs": [
    {
     "data": {
      "text/html": [
       "<div>\n",
       "<style scoped>\n",
       "    .dataframe tbody tr th:only-of-type {\n",
       "        vertical-align: middle;\n",
       "    }\n",
       "\n",
       "    .dataframe tbody tr th {\n",
       "        vertical-align: top;\n",
       "    }\n",
       "\n",
       "    .dataframe thead th {\n",
       "        text-align: right;\n",
       "    }\n",
       "</style>\n",
       "<table border=\"1\" class=\"dataframe\">\n",
       "  <thead>\n",
       "    <tr style=\"text-align: right;\">\n",
       "      <th></th>\n",
       "      <th>comments</th>\n",
       "      <th>label</th>\n",
       "    </tr>\n",
       "  </thead>\n",
       "  <tbody>\n",
       "    <tr>\n",
       "      <th>0</th>\n",
       "      <td>[Baldinger] .@49ers here is my opening script ...</td>\n",
       "      <td>1</td>\n",
       "    </tr>\n",
       "    <tr>\n",
       "      <th>1</th>\n",
       "      <td>[49ers on NBCS] .@frankgore is loving what he’...</td>\n",
       "      <td>1</td>\n",
       "    </tr>\n",
       "    <tr>\n",
       "      <th>2</th>\n",
       "      <td>Chiefs fans be like</td>\n",
       "      <td>1</td>\n",
       "    </tr>\n",
       "    <tr>\n",
       "      <th>3</th>\n",
       "      <td>deal of the day</td>\n",
       "      <td>1</td>\n",
       "    </tr>\n",
       "    <tr>\n",
       "      <th>4</th>\n",
       "      <td>This guy made a really complex Python simulati...</td>\n",
       "      <td>1</td>\n",
       "    </tr>\n",
       "  </tbody>\n",
       "</table>\n",
       "</div>"
      ],
      "text/plain": [
       "                                            comments  label\n",
       "0  [Baldinger] .@49ers here is my opening script ...      1\n",
       "1  [49ers on NBCS] .@frankgore is loving what he’...      1\n",
       "2                                Chiefs fans be like      1\n",
       "3                                    deal of the day      1\n",
       "4  This guy made a really complex Python simulati...      1"
      ]
     },
     "execution_count": 3,
     "metadata": {},
     "output_type": "execute_result"
    }
   ],
   "source": [
    "data.head()"
   ]
  },
  {
   "cell_type": "code",
   "execution_count": 4,
   "metadata": {},
   "outputs": [],
   "source": [
    "X = data['comments']\n",
    "y = data['label']"
   ]
  },
  {
   "cell_type": "code",
   "execution_count": 5,
   "metadata": {},
   "outputs": [],
   "source": [
    "X_train, X_test, y_train, y_test = train_test_split(X, y, random_state=42)"
   ]
  },
  {
   "cell_type": "code",
   "execution_count": 21,
   "metadata": {},
   "outputs": [],
   "source": [
    "svm_pipe = Pipeline([\n",
    "    ('tfidf', TfidfVectorizer()),\n",
    "    ('svc', SVC(kernel='linear', gamma='auto'))\n",
    "])"
   ]
  },
  {
   "cell_type": "code",
   "execution_count": 22,
   "metadata": {},
   "outputs": [],
   "source": [
    "svm_params = {\n",
    "    'tfidf__max_features': [3000],\n",
    "    'tfidf__ngram_range': [(1,2)],\n",
    "    'tfidf__stop_words': ['english'],\n",
    "    'tfidf__max_df': [.60],\n",
    "    'svc__C': [1]\n",
    "}"
   ]
  },
  {
   "cell_type": "code",
   "execution_count": 23,
   "metadata": {},
   "outputs": [
    {
     "data": {
      "text/plain": [
       "{'svc__C': 1,\n",
       " 'tfidf__max_df': 0.6,\n",
       " 'tfidf__max_features': 3000,\n",
       " 'tfidf__ngram_range': (1, 2),\n",
       " 'tfidf__stop_words': 'english'}"
      ]
     },
     "execution_count": 23,
     "metadata": {},
     "output_type": "execute_result"
    }
   ],
   "source": [
    "svm_gs = GridSearchCV(svm_pipe, param_grid=svm_params, cv=3, n_jobs=-1)\n",
    "svm_gs.fit(X_train, y_train)\n",
    "\n",
    "# display best hyperparameters\n",
    "svm_gs.best_params_"
   ]
  },
  {
   "cell_type": "code",
   "execution_count": 24,
   "metadata": {},
   "outputs": [
    {
     "data": {
      "text/plain": [
       "0.9157754010695187"
      ]
     },
     "execution_count": 24,
     "metadata": {},
     "output_type": "execute_result"
    }
   ],
   "source": [
    "# check score from training data\n",
    "svm_gs.best_estimator_.score(X_train, y_train)"
   ]
  },
  {
   "cell_type": "code",
   "execution_count": 10,
   "metadata": {},
   "outputs": [
    {
     "data": {
      "text/plain": [
       "0.7875751503006012"
      ]
     },
     "execution_count": 10,
     "metadata": {},
     "output_type": "execute_result"
    }
   ],
   "source": [
    "y_pred_class = svm_gs.best_estimator_.predict(X_test)\n",
    "metrics.accuracy_score(y_test, y_pred_class)"
   ]
  },
  {
   "cell_type": "code",
   "execution_count": 11,
   "metadata": {},
   "outputs": [
    {
     "data": {
      "text/plain": [
       "SVC(C=1, cache_size=200, class_weight=None, coef0=0.0,\n",
       "  decision_function_shape='ovr', degree=3, gamma='auto', kernel='linear',\n",
       "  max_iter=-1, probability=True, random_state=None, shrinking=True,\n",
       "  tol=0.001, verbose=False)"
      ]
     },
     "execution_count": 11,
     "metadata": {},
     "output_type": "execute_result"
    }
   ],
   "source": [
    "tfidf = TfidfVectorizer(max_features=20000, ngram_range=(1, 1), stop_words='english', max_df=.6)\n",
    "train_raw = tfidf.fit_transform(X_train)\n",
    "test_raw = tfidf.transform(X_test)\n",
    "\n",
    "svc = SVC(C = 1, kernel='linear', gamma = 'auto', probability=True)\n",
    "svc.fit(train_raw, y_train)"
   ]
  },
  {
   "cell_type": "code",
   "execution_count": 12,
   "metadata": {},
   "outputs": [
    {
     "data": {
      "text/plain": [
       "array([0.23421861])"
      ]
     },
     "execution_count": 12,
     "metadata": {},
     "output_type": "execute_result"
    }
   ],
   "source": [
    "svc.intercept_"
   ]
  },
  {
   "cell_type": "code",
   "execution_count": 13,
   "metadata": {},
   "outputs": [
    {
     "data": {
      "text/plain": [
       "0"
      ]
     },
     "execution_count": 13,
     "metadata": {},
     "output_type": "execute_result"
    }
   ],
   "source": [
    "svc.fit_status_"
   ]
  },
  {
   "cell_type": "code",
   "execution_count": 14,
   "metadata": {},
   "outputs": [
    {
     "data": {
      "text/plain": [
       "array([-2.02643835])"
      ]
     },
     "execution_count": 14,
     "metadata": {},
     "output_type": "execute_result"
    }
   ],
   "source": [
    "svc.probA_"
   ]
  },
  {
   "cell_type": "code",
   "execution_count": 25,
   "metadata": {},
   "outputs": [],
   "source": [
    "# define function to plot coefficients for the svc classifier\n",
    "def plot_coefficients(classifier, feature_names, top_features=20):\n",
    "    # get sparse array of coefficients, convert to numpy array, get values for index '0'\n",
    "    # as this is a binary classification, index 0 contains all the coefficients used in the svc classifier\n",
    "    coef = classifier.coef_.toarray()[0]\n",
    "    \n",
    "    # find the best and worst coefficients for the positive class\n",
    "    top_positive_coefficients = np.argsort(coef)[-top_features:]\n",
    "    top_negative_coefficients = np.argsort(coef)[:top_features]\n",
    "    \n",
    "    # stack coefficients in a single array for plotting\n",
    "    top_coefficients = np.hstack([top_negative_coefficients, top_positive_coefficients])\n",
    "    \n",
    "    # create plot\n",
    "    plt.figure(figsize=(16, 8))\n",
    "    \n",
    "    # create a list of colors to map to the bars for positive and negative coefficients\n",
    "    colors = ['black' if c < 0 else '#b3995d' for c in coef[top_coefficients]]\n",
    "    \n",
    "    # plot coefficients\n",
    "    plt.bar(np.arange(2 * top_features), coef[top_coefficients], color=colors)\n",
    "    \n",
    "    # create ticks on x axis from feature names\n",
    "    feature_names = np.array(feature_names)\n",
    "    plt.xticks(np.arange(2 * top_features), feature_names[top_coefficients], rotation=70, ha='right', size=14, color='#b3995d')\n",
    "    # set plot attributes\n",
    "    plt.title('Top 20 Features from Each Class', fontsize=30, color='#b3995d')\n",
    "    plt.ylabel('Weighted Coefficient', fontsize=20, color='#b3995d')\n",
    "    plt.rcParams['axes.facecolor'] = 'aa0000'\n",
    "    plt.tick_params(axis='both',color='#b3995d')\n",
    "    plt.xlabel('Feature', fontsize=20, color='#b3995d');\n",
    "    plt.rc_context({'axes.edgecolor':'#b3995d', 'xtick.color':'#b3995d', 'ytick.color':'#b3995d', 'figure.facecolor':'#aa0000'})\n",
    "\n",
    "    plt.show()\n",
    "    \n",
    "# credit to Aneesa Bhakaria for the basis for this code to plot SVC coefficients\n",
    "# https://medium.com/@aneesha/visualising-top-features-in-linear-svm-with-scikit-learn-and-matplotlib-3454ab18a14d"
   ]
  },
  {
   "cell_type": "code",
   "execution_count": 26,
   "metadata": {
    "scrolled": true
   },
   "outputs": [
    {
     "data": {
      "image/png": "[encoded data removed]",
      "text/plain": [
       "<Figure size 1152x576 with 1 Axes>"
      ]
     },
     "metadata": {},
     "output_type": "display_data"
    }
   ],
   "source": [
    "plot_coefficients(svc, tfidf.get_feature_names())"
   ]
  },
  {
   "cell_type": "code",
   "execution_count": 17,
   "metadata": {},
   "outputs": [],
   "source": [
    "def total_metrics(insta_model,X_test, y_test):\n",
    "    accuracy = accuracy_score(y_test, y_pred_class)\n",
    "    test_raw = tfidf.transform(X_test)\n",
    "\n",
    "    tn, fp, fn, tp = confusion_matrix(y_test, y_pred_class).ravel()\n",
    "    sensitivity = tp / (tp + fn)\n",
    "    specificity = tn / (tn+fp)\n",
    "    precision =  tp / (tp + fp)\n",
    "    bas = balanced_accuracy_score(y_test,y_pred_class)\n",
    "    \n",
    "    print(\"\\u0332\".join(\"RESULTS OF TFIDFVECTORIZER / SUPPORT VECTOR MACHINES MODEL \"))\n",
    "    print('')\n",
    "    print(f\"          Accuracy: {round(accuracy,3)}\")\n",
    "    print('')\n",
    "    print(f\" Balance Accuracy: {round(bas,3)}\")\n",
    "    print('')\n",
    "    print(f\"       Sensitivity: {round(sensitivity,3)}\")\n",
    "    print('')\n",
    "    print(f\"       Specificity: {round(specificity,3)}\")\n",
    "    print('')\n",
    "    print(f\"         Precision: {round(precision,3)}\")\n",
    "    print('') "
   ]
  },
  {
   "cell_type": "code",
   "execution_count": 18,
   "metadata": {
    "scrolled": true
   },
   "outputs": [
    {
     "name": "stdout",
     "output_type": "stream",
     "text": [
      "R̲E̲S̲U̲L̲T̲S̲ ̲O̲F̲ ̲T̲F̲I̲D̲F̲V̲E̲C̲T̲O̲R̲I̲Z̲E̲R̲ ̲/̲ ̲S̲U̲P̲P̲O̲R̲T̲ ̲V̲E̲C̲T̲O̲R̲ ̲M̲A̲C̲H̲I̲N̲E̲S̲ ̲M̲O̲D̲E̲L̲ \n",
      "\n",
      "          Accuracy: 0.788\n",
      "\n",
      " Balance Accuracy: 0.788\n",
      "\n",
      "       Sensitivity: 0.769\n",
      "\n",
      "       Specificity: 0.806\n",
      "\n",
      "         Precision: 0.801\n",
      "\n"
     ]
    }
   ],
   "source": [
    "total_metrics(svc,X_test,y_test)"
   ]
  },
  {
   "cell_type": "code",
   "execution_count": 19,
   "metadata": {},
   "outputs": [
    {
     "data": {
      "text/plain": [
       "0.9157754010695187"
      ]
     },
     "execution_count": 19,
     "metadata": {},
     "output_type": "execute_result"
    }
   ],
   "source": [
    "svm_gs.score(X_train,y_train)"
   ]
  },
  {
   "cell_type": "code",
   "execution_count": 20,
   "metadata": {},
   "outputs": [
    {
     "data": {
      "text/plain": [
       "0.7875751503006012"
      ]
     },
     "execution_count": 20,
     "metadata": {},
     "output_type": "execute_result"
    }
   ],
   "source": [
    "svm_gs.score(X_test,y_test)"
   ]
  },
  {
   "cell_type": "code",
   "execution_count": null,
   "metadata": {},
   "outputs": [],
   "source": []
  }
 ],
 "metadata": {
  "kernelspec": {
   "display_name": "Python 3",
   "language": "python",
   "name": "python3"
  },
  "language_info": {
   "codemirror_mode": {
    "name": "ipython",
    "version": 3
   },
   "file_extension": ".py",
   "mimetype": "text/x-python",
   "name": "python",
   "nbconvert_exporter": "python",
   "pygments_lexer": "ipython3",
   "version": "3.7.4"
  }
 },
 "nbformat": 4,
 "nbformat_minor": 2
}
