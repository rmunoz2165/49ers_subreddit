{
 "cells": [
  {
   "cell_type": "markdown",
   "metadata": {},
   "source": [
    "## Lemmatization, tokenizing work in progress..."
   ]
  },
  {
   "cell_type": "code",
   "execution_count": 45,
   "metadata": {},
   "outputs": [],
   "source": [
    "import numpy as np\n",
    "import pandas as pd\n",
    "from nltk.tokenize import RegexpTokenizer\n",
    "from sklearn.model_selection import train_test_split\n",
    "import regex as re\n",
    "\n",
    "from nltk.corpus import stopwords # Import the stopword list\n"
   ]
  },
  {
   "cell_type": "code",
   "execution_count": 46,
   "metadata": {},
   "outputs": [],
   "source": [
    "data = pd.read_csv('./datasets/final.csv')"
   ]
  },
  {
   "cell_type": "code",
   "execution_count": 47,
   "metadata": {},
   "outputs": [
    {
     "data": {
      "text/html": [
       "<div>\n",
       "<style scoped>\n",
       "    .dataframe tbody tr th:only-of-type {\n",
       "        vertical-align: middle;\n",
       "    }\n",
       "\n",
       "    .dataframe tbody tr th {\n",
       "        vertical-align: top;\n",
       "    }\n",
       "\n",
       "    .dataframe thead th {\n",
       "        text-align: right;\n",
       "    }\n",
       "</style>\n",
       "<table border=\"1\" class=\"dataframe\">\n",
       "  <thead>\n",
       "    <tr style=\"text-align: right;\">\n",
       "      <th></th>\n",
       "      <th>comments</th>\n",
       "      <th>label</th>\n",
       "    </tr>\n",
       "  </thead>\n",
       "  <tbody>\n",
       "    <tr>\n",
       "      <th>0</th>\n",
       "      <td>[Baldinger] .@49ers here is my opening script ...</td>\n",
       "      <td>1</td>\n",
       "    </tr>\n",
       "    <tr>\n",
       "      <th>1</th>\n",
       "      <td>[49ers on NBCS] .@frankgore is loving what he’...</td>\n",
       "      <td>1</td>\n",
       "    </tr>\n",
       "    <tr>\n",
       "      <th>2</th>\n",
       "      <td>Chiefs fans be like</td>\n",
       "      <td>1</td>\n",
       "    </tr>\n",
       "    <tr>\n",
       "      <th>3</th>\n",
       "      <td>deal of the day</td>\n",
       "      <td>1</td>\n",
       "    </tr>\n",
       "    <tr>\n",
       "      <th>4</th>\n",
       "      <td>This guy made a really complex Python simulati...</td>\n",
       "      <td>1</td>\n",
       "    </tr>\n",
       "  </tbody>\n",
       "</table>\n",
       "</div>"
      ],
      "text/plain": [
       "                                            comments  label\n",
       "0  [Baldinger] .@49ers here is my opening script ...      1\n",
       "1  [49ers on NBCS] .@frankgore is loving what he’...      1\n",
       "2                                Chiefs fans be like      1\n",
       "3                                    deal of the day      1\n",
       "4  This guy made a really complex Python simulati...      1"
      ]
     },
     "execution_count": 47,
     "metadata": {},
     "output_type": "execute_result"
    }
   ],
   "source": [
    "data.head()"
   ]
  },
  {
   "cell_type": "code",
   "execution_count": 48,
   "metadata": {},
   "outputs": [],
   "source": [
    "X = data['comments']\n",
    "y = data['label']\n",
    "# Create train_test_split.\n",
    "X_train, X_test, y_train, y_test = train_test_split(X,\n",
    "                                                    y,\n",
    "                                                    test_size = 0.25,\n",
    "                                                    random_state = 42)"
   ]
  },
  {
   "cell_type": "code",
   "execution_count": 49,
   "metadata": {},
   "outputs": [],
   "source": [
    "def review_to_words(raw_review):\n",
    "    # Function to convert a raw review to a string of words\n",
    "    # The input is a single string (a raw movie review), and \n",
    "    # the output is a single string (a preprocessed movie review)\n",
    "    \n",
    "    # 1. Remove HTML.\n",
    "    review_text = BeautifulSoup(raw_review).get_text()\n",
    "    \n",
    "    # 2. Remove non-letters.\n",
    "    letters_only = re.sub(\"[^a-zA-Z]\", \" \", review_text)\n",
    "    \n",
    "    # 3. Convert to lower case, split into individual words.\n",
    "    words = letters_only.lower().split()\n",
    "    \n",
    "    # 4. In Python, searching a set is much faster than searching\n",
    "    # a list, so convert the stopwords to a set.\n",
    "    stops = set(stopwords.words('english'))\n",
    "    \n",
    "    # 5. Remove stopwords.\n",
    "    meaningful_words = [w for w in words if not w in stops]\n",
    "    \n",
    "    # 6. Join the words back into one string separated by space, \n",
    "    # and return the result.\n",
    "    return(\" \".join(meaningful_words))"
   ]
  },
  {
   "cell_type": "code",
   "execution_count": 50,
   "metadata": {},
   "outputs": [
    {
     "name": "stdout",
     "output_type": "stream",
     "text": [
      "There are 1995 reviews.\n"
     ]
    }
   ],
   "source": [
    "# Get the number of reviews based on the dataframe size.\n",
    "total_reviews = data.shape[0]\n",
    "print(f'There are {total_reviews} reviews.')\n",
    "\n"
   ]
  },
  {
   "cell_type": "code",
   "execution_count": 51,
   "metadata": {},
   "outputs": [],
   "source": [
    "# Initialize an empty list to hold the clean reviews.\n",
    "clean_train_reviews = []\n",
    "clean_test_reviews = []"
   ]
  },
  {
   "cell_type": "code",
   "execution_count": 53,
   "metadata": {},
   "outputs": [
    {
     "name": "stdout",
     "output_type": "stream",
     "text": [
      "Cleaning and parsing the training set reddit reviews...\n",
      "Comment 1000 of 1995.\n",
      "Cleaning and parsing the testing set reddit reviews...\n"
     ]
    }
   ],
   "source": [
    "print(\"Cleaning and parsing the training set reddit reviews...\")\n",
    "\n",
    "# Instantiate counter.\n",
    "j = 0\n",
    "\n",
    "# For every review in our training set...\n",
    "for train_review in X_train:\n",
    "    \n",
    "    # Convert review to words, then append to clean_train_reviews.\n",
    "    clean_train_reviews.append(review_to_words(train_review))\n",
    "    \n",
    "    # If the index is divisible by 1000, print a message.\n",
    "    if (j + 1) % 1000 == 0:\n",
    "        print(f'Comment {j + 1} of {total_reviews}.')\n",
    "    \n",
    "    j += 1\n",
    "\n",
    "# Let's do the same for our testing set.\n",
    "print(\"Cleaning and parsing the testing set reddit reviews...\")\n",
    "\n",
    "# For every review in our testing set...\n",
    "for test_review in X_test:\n",
    "    \n",
    "    # Convert review to words, then append to clean_train_reviews.\n",
    "    clean_test_reviews.append(review_to_words(test_review))\n",
    "    \n",
    "    # If the index is divisible by 1000, print a message.\n",
    "    if (j + 1) % 1000 == 0:\n",
    "        print(f'Comment {j + 1} of {total_reviews}.')\n",
    "        \n",
    "    j += 1"
   ]
  },
  {
   "cell_type": "code",
   "execution_count": 65,
   "metadata": {},
   "outputs": [],
   "source": [
    "# Import CountVectorizer.\n",
    "from sklearn.feature_extraction.text import CountVectorizer\n",
    "\n",
    "# Instantiate the \"CountVectorizer\" object, which is sklearn's\n",
    "# bag of words tool.\n",
    "vectorizer = CountVectorizer(analyzer = \"word\",\n",
    "                             tokenizer = None,\n",
    "                             preprocessor = None,\n",
    "                             stop_words = None,\n",
    "                             max_features = 5000) "
   ]
  },
  {
   "cell_type": "code",
   "execution_count": 66,
   "metadata": {},
   "outputs": [],
   "source": [
    "# fit_transform() does two things: First, it fits the model and \n",
    "# learns the vocabulary; second, it transforms our training data\n",
    "# into feature vectors. The input to fit_transform should be a \n",
    "# list of strings.\n",
    "\n",
    "train_data_features = vectorizer.fit_transform(clean_train_reviews)\n",
    "\n",
    "test_data_features = vectorizer.transform(clean_test_reviews)"
   ]
  },
  {
   "cell_type": "code",
   "execution_count": 67,
   "metadata": {},
   "outputs": [
    {
     "name": "stdout",
     "output_type": "stream",
     "text": [
      "(2992, 5000)\n"
     ]
    }
   ],
   "source": [
    "print(train_data_features.shape)"
   ]
  },
  {
   "cell_type": "code",
   "execution_count": 68,
   "metadata": {},
   "outputs": [
    {
     "name": "stdout",
     "output_type": "stream",
     "text": [
      "(998, 5000)\n"
     ]
    }
   ],
   "source": [
    "print(test_data_features.shape)"
   ]
  },
  {
   "cell_type": "code",
   "execution_count": 69,
   "metadata": {},
   "outputs": [
    {
     "name": "stdout",
     "output_type": "stream",
     "text": [
      "['aa', 'aaron', 'ab', 'aback', 'ability', 'able', 'absolute', 'absolutely', 'abstract', 'absurdity', 'abuse', 'abuses', 'abysmal', 'academy', 'accelerating', 'acceleration', 'accent', 'accept', 'accepted', 'access', 'accomplishment', 'according', 'account', 'accounted', 'accounts', 'accumulation', 'accuracy', 'accurate', 'accused', 'achieved', 'achievements', 'acl', 'acquired', 'acquisitions', 'across', 'acting', 'action', 'actions', 'active', 'activities', 'actual', 'actuality', 'actually', 'ad', 'adam', 'adamant', 'adams', 'adamschefter', 'adapt', 'add', 'added', 'adding', 'addition', 'additional', 'additionally', 'addon', 'address', 'addressed', 'addresses', 'adjust', 'adjusted', 'adjustments', 'admin', 'admired', 'admits', 'admitted', 'ado', 'adopted', 'adrian', 'ads', 'adult', 'advance', 'advanced', 'advantage', 'adventure', 'advertisers', 'advice', 'advising', 'aed', 'aeneas', 'aesthetic', 'aew', 'afc', 'affair', 'affectionately', 'afl', 'afraid', 'afternoon', 'age', 'aged', 'agency', 'agent', 'ages', 'aggravates', 'agile', 'ago', 'agree', 'agreed', 'agreement', 'ahead', 'ahmad', 'aikman', 'air', 'airport', 'airs', 'aj', 'akash', 'akers', 'al', 'alabama', 'aladdin', 'alan', 'alas', 'alcohol', 'aldon', 'alec', 'alert', 'alerted', 'alerts', 'alex', 'alexander', 'alfred', 'align', 'alive', 'allbright', 'allegations', 'allege', 'allegedly', 'allegiant', 'allen', 'allow', 'allowed', 'allowing', 'allows', 'almaden', 'almost', 'alone', 'along', 'alonzo', 'alot', 'already', 'also', 'alsott', 'alt', 'alternate', 'alternates', 'alternative', 'although', 'altobelli', 'alum', 'alvin', 'always', 'ama', 'amateur', 'amazes', 'amazing', 'amazingly', 'american', 'among', 'amount', 'analogous', 'analyst', 'analytics', 'anchor', 'andre', 'andrew', 'andy', 'angeles', 'angelichio', 'animosity', 'ankle', 'announce', 'annual', 'another', 'answer', 'answered', 'answers', 'anthem', 'anthony', 'antonio', 'anybody', 'anymore', 'anyone', 'anything', 'anywhere', 'ap', 'apex', 'apollo', 'apologies', 'apologize', 'apologized', 'apologizing', 'apology', 'app', 'apparel', 'apparent', 'apparently', 'appear', 'appearance', 'appearances', 'appeared', 'appearing', 'appears', 'applauding', 'applied', 'appreciate', 'appreciated', 'approach', 'approaches', 'appropriate', 'approximate', 'april', 'apron', 'aprox', 'aqib', 'archdiocese', 'archie', 'area', 'arguably', 'argue', 'ari', 'arian', 'arik', 'arizona', 'arm', 'arms', 'armstead', 'arnold', 'arod', 'around', 'arrangement', 'arrest', 'arrested', 'arrests', 'arrive', 'arrived', 'arriving', 'art', 'arthur', 'article', 'artist', 'aside', 'ask', 'asked', 'asking', 'asks', 'aspect', 'ass', 'assistant', 'associated', 'assume', 'aswell', 'athlete', 'athletes', 'athletic', 'atkins', 'atl', 'atlanta', 'atrocious', 'att', 'attack', 'attacks', 'attained', 'attempt', 'attempted', 'attempts', 'attendance', 'attending', 'attention', 'attractive', 'attributes', 'au', 'audience', 'audio', 'august', 'auman', 'aus', 'aussie', 'austin', 'australia', 'austria', 'authority', 'auto', 'autographed', 'automatically', 'automaticly', 'availability', 'available', 'avenged', 'average', 'averaged', 'averted', 'avid', 'avoid', 'avoided', 'award', 'awards', 'aware', 'awareness', 'away', 'awesome', 'awful', 'awfully', 'awkward', 'awol', 'axis', 'az', 'ba', 'baby', 'back', 'backed', 'backfield', 'background', 'backgrounds', 'backpack', 'backs', 'backside', 'backstage', 'backstory', 'backup', 'backups', 'backyard', 'bad', 'badbitch', 'badger', 'badly', 'bag', 'bags', 'bahr', 'bail', 'bailey', 'bait', 'baker', 'bal', 'balance', 'balanced', 'balcony', 'baldinger', 'baldwin', 'baldysbreakdowns', 'balking', 'ball', 'ballot', 'ballpark', 'baltimore', 'ban', 'bandwagon', 'bangbangninergang', 'banish', 'banks', 'banned', 'banner', 'baptism', 'bar', 'barbecue', 'barbeque', 'barber', 'barely', 'barker', 'barkley', 'barnett', 'barnwell', 'barret', 'barrows', 'barry', 'bars', 'barstool', 'bart', 'base', 'baseball', 'based', 'bashing', 'basic', 'basically', 'basis', 'basketball', 'battle', 'bay', 'bayarea', 'bayless', 'bc', 'bcd', 'bd', 'beach', 'beaming', 'bean', 'bear', 'bears', 'beat', 'beaten', 'beaters', 'beathard', 'beating', 'beats', 'beautiful', 'beauty', 'became', 'become', 'becomes', 'becoming', 'becton', 'bee', 'beencouraged', 'beer', 'beers', 'began', 'begging', 'begin', 'behalf', 'behavior', 'behind', 'belegendary', 'belichick', 'belief', 'believe', 'believes', 'believing', 'bell', 'belong', 'belonged', 'belongs', 'bemused', 'ben', 'bench', 'beneficial', 'beneficiary', 'benefit', 'benefits', 'benefitted', 'bengals', 'bennett', 'bernard', 'bernie', 'berry', 'berserk', 'bert', 'best', 'bestow', 'bet', 'beta', 'bethea', 'betray', 'bets', 'betsam', 'better', 'betting', 'beware', 'beyond', 'bff', 'bgr', 'bi', 'biased', 'bicentennial', 'biderman', 'bielema', 'bieniemy', 'big', 'bigcat', 'bigdatabowl', 'bigger', 'biggest', 'bill', 'bills', 'billy', 'binging', 'bird', 'birds', 'birkett', 'birth', 'birthday', 'bishop', 'bit', 'bitch', 'bitter', 'bizarre', 'bj', 'bkfxgyxk', 'black', 'blackouts', 'blade', 'blah', 'blair', 'blame', 'bland', 'blank', 'blasko', 'blasted', 'bleacher', 'bledsoe', 'blessed', 'blew', 'blind', 'blitz', 'blitzed', 'blitzes', 'block', 'blocked', 'blocker', 'blocking', 'blocks', 'blog', 'blood', 'blough', 'blow', 'blowing', 'blown', 'blowout', 'blue', 'blues', 'bo', 'board', 'boat', 'bob', 'bobby', 'body', 'boiled', 'bold', 'bolts', 'bomb', 'bombshell', 'bond', 'bone', 'booger', 'book', 'books', 'boolean', 'boom', 'boomer', 'boone', 'boost', 'booted', 'booth', 'borderline', 'born', 'bosa', 'bot', 'bothers', 'bottom', 'bought', 'bounds', 'bourne', 'bowl', 'bowler', 'bowls', 'bowlthey', 'bowman', 'box', 'boxing', 'boxscores', 'boy', 'boys', 'boyzz', 'bracket', 'bradley', 'brady', 'branch', 'brandon', 'break', 'breakdown', 'breaking', 'breaks', 'breer', 'brees', 'breida', 'brett', 'brian', 'bridgewater', 'brief', 'brien', 'bright', 'bring', 'bringing', 'brissett', 'broadcast', 'brock', 'broke', 'broken', 'broncos', 'brooks', 'brother', 'brothers', 'brown', 'browner', 'browns', 'bruce', 'brucefeldmancfb', 'bruh', 'brunell', 'bryant', 'bubble', 'buccaneers', 'buckner', 'bucs', 'buf', 'buffalo', 'build', 'building', 'built', 'bulls', 'bullying', 'bummed', 'bunch', 'burrow', 'business', 'bust', 'butts', 'buy', 'buying', 'bye', 'byron', 'calculate', 'calculated', 'calculating', 'california', 'call', 'called', 'caller', 'calling', 'calls', 'calvin', 'cam', 'came', 'cameron', 'camp', 'campaign', 'campbell', 'canada', 'candlestick', 'candy', 'cannot', 'cant', 'cap', 'capitalized', 'capped', 'caps', 'car', 'card', 'cardinals', 'cards', 'care', 'career', 'careers', 'carl', 'carlos', 'carlton', 'carolina', 'carr', 'carrier', 'carries', 'carroll', 'carry', 'carson', 'case', 'cases', 'cash', 'cast', 'catch', 'catching', 'category', 'caught', 'cave', 'cb', 'ceiling', 'celebrate', 'celebration', 'celebrities', 'census', 'ceo', 'certain', 'certainly', 'certainty', 'cfl', 'cgi', 'challenge', 'champ', 'champion', 'champions', 'championship', 'championships', 'chan', 'chance', 'chancellor', 'chances', 'chandler', 'change', 'changed', 'changes', 'channel', 'chargers', 'chart', 'charted', 'chase', 'check', 'checkdown', 'cheerleaders', 'cheese', 'cheifs', 'chest', 'chicago', 'chief', 'chiefs', 'chill', 'choice', 'choices', 'choked', 'choose', 'chose', 'chris', 'christmas', 'chunk', 'church', 'cin', 'cincinnati', 'cinderella', 'cities', 'citing', 'city', 'cj', 'claim', 'claims', 'clark', 'class', 'classic', 'clay', 'cle', 'clean', 'clear', 'clearly', 'clergy', 'cleveland', 'click', 'clip', 'clock', 'close', 'closely', 'closer', 'closest', 'closing', 'club', 'clutch', 'co', 'coach', 'coaches', 'coaching', 'code', 'cody', 'coin', 'cold', 'coleman', 'colin', 'collar', 'college', 'collins', 'color', 'colors', 'colts', 'column', 'com', 'combinations', 'combine', 'combined', 'come', 'comeback', 'comes', 'comfortable', 'coming', 'commence', 'comment', 'comments', 'commercial', 'commercials', 'commissioner', 'common', 'community', 'comp', 'comparable', 'compare', 'compared', 'competitive', 'complaint', 'complete', 'completely', 'completing', 'completions', 'concept', 'conditions', 'condoms', 'conference', 'conferences', 'confession', 'confetti', 'confidence', 'confident', 'confint', 'confirm', 'confirmed', 'confirms', 'confuses', 'confusing', 'congratulations', 'connected', 'connection', 'connor', 'consider', 'consideration', 'considered', 'considering', 'considers', 'consistency', 'consistent', 'consistently', 'consolidating', 'constantly', 'constraints', 'construct', 'consulted', 'contacts', 'contain', 'container', 'containing', 'contender', 'content', 'contest', 'continue', 'continued', 'continues', 'contract', 'contributed', 'contribution', 'contributions', 'control', 'controlled', 'controversial', 'convergence', 'converging', 'conversation', 'conversations', 'conversion', 'convert', 'converting', 'convinced', 'convo', 'cook', 'cooking', 'cool', 'cooler', 'cooper', 'coordinator', 'coordinators', 'cop', 'cope', 'copies', 'copy', 'copyright', 'cordarrelle', 'corner', 'cornerbacks', 'corners', 'coronavirus', 'corps', 'correct', 'correlate', 'correlations', 'cory', 'cost', 'costco', 'costly', 'couch', 'coughs', 'could', 'count', 'countdown', 'counted', 'counter', 'counters', 'counting', 'country', 'county', 'couple', 'course', 'court', 'courtesy', 'cousins', 'covenant', 'cover', 'coverage', 'covered', 'covers', 'covert', 'coveted', 'cowboys', 'cowherd', 'cox', 'crabtree', 'crack', 'cracked', 'cracking', 'craig', 'craigslist', 'craigslistprobably', 'crappy', 'crash', 'craving', 'crazy', 'create', 'created', 'creates', 'creating', 'credibly', 'credit', 'creek', 'crennel', 'cribbs', 'criminally', 'crisis', 'criteria', 'criterion', 'critical', 'criticism', 'criticize', 'criticizes', 'criticizing', 'crock', 'crosby', 'cross', 'crossbar', 'crosshairs', 'crowd', 'crucial', 'crush', 'crushed', 'crushing', 'ctwcamp', 'cuba', 'cubicle', 'cuck', 'cue', 'culliver', 'culmination', 'culpepper', 'culture', 'cultures', 'cumulative', 'cundiff', 'cunningham', 'cup', 'curious', 'current', 'currently', 'curse', 'curtis', 'cus', 'cusp', 'cut', 'cutler', 'cutlers', 'cutting', 'cuz', 'cycle', 'czl', 'da', 'dad', 'dads', 'daily', 'dajcfatyu', 'dak', 'dal', 'dale', 'dallas', 'dallascowboys', 'dalton', 'dame', 'damien', 'damn', 'damper', 'dan', 'dance', 'dancing', 'dangerous', 'daniel', 'daniels', 'danny', 'dante', 'danville', 'darelle', 'dareus', 'darkhorses', 'darnold', 'darren', 'dash', 'dashcam', 'dashon', 'data', 'date', 'dating', 'daughter', 'davante', 'dave', 'davenport', 'david', 'davis', 'dawan', 'dawg', 'dawkins', 'dawson', 'day', 'daydreaming', 'days', 'db', 'dbs', 'dc', 'dcaqff', 'dced', 'dd', 'de', 'dead', 'deal', 'dealing', 'deandre', 'dear', 'death', 'debate', 'debriefing', 'debut', 'dec', 'decade', 'decades', 'decastro', 'decent', 'deception', 'decide', 'decided', 'decides', 'deciding', 'decision', 'decisions', 'declare', 'declared', 'decline', 'decorating', 'dedicate', 'dedicated', 'dedicates', 'dee', 'deebo', 'deep', 'deeper', 'deepfake', 'deepfakes', 'def', 'defeat', 'defeated', 'defeating', 'defence', 'defend', 'defended', 'defender', 'defenders', 'defends', 'defense', 'defenses', 'defensive', 'defensively', 'defer', 'deferred', 'deficit', 'defined', 'definitely', 'definitions', 'definitive', 'deflategate', 'deflected', 'deforest', 'degens', 'degree', 'deion', 'deiter', 'deitsch', 'delanie', 'delete', 'deleted', 'delhomme', 'deliver', 'delivered', 'delivery', 'delpit', 'delusional', 'demands', 'demarco', 'demarcus', 'demaryius', 'demaurice', 'den', 'dennis', 'denver', 'deny', 'depart', 'department', 'depended', 'dependent', 'depending', 'deploy', 'depo', 'depth', 'derek', 'derrick', 'describe', 'describing', 'description', 'deserve', 'deserved', 'deserves', 'deshaun', 'design', 'designated', 'designation', 'designed', 'designer', 'designs', 'desk', 'despite', 'destiny', 'destroyed', 'destroying', 'det', 'detail', 'detailed', 'detailing', 'details', 'determining', 'detriment', 'detroit', 'devastating', 'develop', 'developed', 'development', 'developmental', 'deviations', 'device', 'devin', 'devote', 'dez', 'dfjbrz', 'dhbvzwd', 'dhrz', 'diagnose', 'diagnosis', 'dial', 'dialed', 'diamond', 'diamonds', 'diary', 'dickersonespn', 'die', 'diego', 'diehard', 'dies', 'dieter', 'difference', 'differences', 'different', 'differential', 'differentials', 'differently', 'difficult', 'dig', 'diggs', 'digital', 'digits', 'dignity', 'dilfer', 'dinner', 'dion', 'dipcju', 'direct', 'directed', 'direction', 'directions', 'directly', 'dirty', 'disability', 'disadvantage', 'disadvantageous', 'disagree', 'disappoint', 'disappointing', 'disappointment', 'disaster', 'disastrous', 'disbelief', 'disciplined', 'discord', 'discrimination', 'discuss', 'discussed', 'discusses', 'discussing', 'discussion', 'discussionover', 'discussionthe', 'disgraced', 'disguise', 'disgusted', 'dishing', 'dislike', 'dislocated', 'dislocation', 'disneyland', 'disproportionately', 'disregarded', 'disrespectful', 'dissing', 'distance', 'distances', 'distasteful', 'distinction', 'distinguished', 'distraction', 'distractions', 'distractionwhat', 'distribution', 'div', 'dive', 'diversity', 'division', 'divisional', 'divisionals', 'divisions', 'divorce', 'dj', 'dja', 'djhhjhi', 'dl', 'dline', 'dlzaig', 'dm', 'dmitry', 'dnp', 'dobbins', 'doc', 'documentation', 'dodged', 'doesnt', 'dog', 'dogg', 'doleman', 'dolfans', 'doll', 'dollar', 'dolphin', 'dolphins', 'dome', 'dominate', 'dominated', 'dominating', 'domination', 'donald', 'donates', 'done', 'donovan', 'dont', 'donte', 'donut', 'donuts', 'dooley', 'door', 'doorstep', 'dope', 'dorsey', 'dose', 'dotted', 'double', 'doubles', 'doubt', 'doug', 'dov', 'downdo', 'downfield', 'downgraded', 'download', 'downloaded', 'downs', 'downvotes', 'dozen', 'dp', 'dpoy', 'dr', 'draft', 'drafted', 'drafthi', 'drafting', 'drag', 'dragging', 'drags', 'drain', 'drake', 'dramatic', 'draw', 'drawing', 'draws', 'draymond', 'dre', 'dream', 'dreamer', 'dreams', 'dressed', 'drew', 'drift', 'drilled', 'drink', 'drinking', 'drinks', 'driskel', 'drive', 'driven', 'driver', 'drives', 'driving', 'drop', 'dropped', 'drought', 'drove', 'drug', 'drunk', 'drywall', 'ds', 'dsgo', 'dt', 'dth', 'dts', 'dual', 'duane', 'dub', 'dubious', 'duck', 'ducks', 'dud', 'dude', 'due', 'duh', 'dumb', 'dump', 'dumps', 'dunno', 'duo', 'durant', 'duration', 'duty', 'dvoa', 'dvsu', 'dvsuso', 'dwayne', 'dwelley', 'dwight', 'dying', 'dynamic', 'dynasty', 'dyson', 'dz', 'eagles', 'earl', 'earlier', 'early', 'earn', 'earned', 'earthquake', 'easier', 'easily', 'east', 'easterby', 'eastern', 'easy', 'eat', 'ebay', 'ecdwub', 'echoes', 'ed', 'eddie', 'ededa', 'edelman', 'edge', 'edgerrin', 'edges', 'edit', 'edited', 'edition', 'edits', 'edmunds', 'edwards', 'eell', 'efd', 'effect', 'effective', 'effects', 'effort', 'efxnd', 'egos', 'eil', 'eisen', 'either', 'eksjprxlbwsh', 'el', 'elect', 'elected', 'element', 'elements', 'eli', 'eligible', 'eliminated', 'eliot', 'elite', 'elliot', 'elliott', 'elo', 'else', 'elsewhere', 'eltjx', 'elvin', 'elway', 'em', 'email', 'emails', 'eman', 'emaunel', 'embodiment', 'embrace', 'emcee', 'emmanuel', 'employ', 'employed', 'employees', 'en', 'encase', 'encourage', 'encouraging', 'end', 'ended', 'ending', 'ends', 'endzone', 'enemies', 'enemy', 'energy', 'enforcement', 'engage', 'engineered', 'england', 'engram', 'enjoy', 'enjoyed', 'enjoying', 'enlightened', 'enough', 'ensuing', 'enter', 'entering', 'enters', 'entertainment', 'enthusiasm', 'enthusiastically', 'entire', 'entirely', 'entropy', 'entry', 'envelope', 'eo', 'ep', 'epa', 'epenesa', 'epic', 'episode', 'equal', 'equally', 'equals', 'equations', 'equivalent', 'er', 'era', 'erbowl', 'eric', 'erotic', 'errors', 'ers', 'ersshop', 'erssssss', 'erswebzone', 'escape', 'esiason', 'especially', 'espn', 'essentially', 'established', 'estimate', 'esxk', 'esy', 'et', 'etc', 'etdxfr', 'etfw', 'ethpgk', 'etipm', 'etweetembed', 'eugene', 'eurfdt', 'europe', 'eutgg', 'evaluate', 'evan', 'evans', 'evb', 'evbk', 'even', 'evening', 'event', 'events', 'eventual', 'eventually', 'ever', 'everson', 'every', 'everybody', 'everyone', 'everything', 'everywhere', 'evident', 'evolved', 'ew', 'ex', 'exact', 'exactly', 'example', 'examples', 'exceeds', 'excellence', 'excellent', 'except', 'exchange', 'excited', 'excitement', 'exciting', 'excluding', 'exclusive', 'excruciating', 'excuse', 'execs', 'execute', 'execution', 'executive', 'exemplified', 'exercise', 'exhibition', 'exist', 'exists', 'exit', 'expanded', 'expect', 'expectation', 'expected', 'expecting', 'expects', 'expedited', 'experience', 'expert', 'experts', 'expired', 'explain', 'explained', 'explaining', 'explains', 'explanatory', 'exploit', 'explore', 'explosion', 'explosive', 'expose', 'expression', 'extend', 'extending', 'extension', 'extra', 'extracting', 'extrapoint', 'extremely', 'exum', 'eye', 'eyes', 'ez', 'ezekiel', 'fa', 'fabian', 'face', 'facebook', 'faced', 'faces', 'facilities', 'facility', 'facing', 'fact', 'facto', 'factor', 'factors', 'factory', 'facts', 'fade', 'fades', 'fail', 'failed', 'fair', 'fairly', 'faith', 'faithfu', 'faithful', 'faithfulany', 'faithfuls', 'faithfulthen', 'fake', 'faked', 'falcons', 'fallen', 'falling', 'fallon', 'falls', 'false', 'fame', 'famer', 'familiar', 'families', 'family', 'famous', 'fan', 'fanatics', 'fanbase', 'fanbases', 'fandom', 'fanfiction', 'fangio', 'fans', 'fansedge', 'fantasy', 'fantasylabs', 'far', 'fare', 'fashion', 'fask', 'fassel', 'fast', 'faster', 'fastest', 'father', 'fatty', 'faulk', 'favor', 'favorable', 'favored', 'favorite', 'favourite', 'favre', 'fb', 'fboard', 'fcleveland', 'fd', 'fear', 'feared', 'fearncaaf', 'fears', 'feasible', 'feat', 'featured', 'features', 'featuring', 'feb', 'february', 'fed', 'fee', 'feed', 'feedback', 'feeding', 'feel', 'feeling', 'feelings', 'feels', 'feet', 'feldman', 'felix', 'fell', 'fellow', 'felt', 'female', 'fences', 'fend', 'ferry', 'festival', 'festivities', 'feud', 'fewer', 'ff', 'fg', 'fgs', 'field', 'fields', 'fifth', 'fifty', 'fighting', 'figure', 'figured', 'fih', 'file', 'filing', 'fill', 'filled', 'fills', 'film', 'filming', 'films', 'final', 'finale', 'finalist', 'finalized', 'finalizing', 'finally', 'find', 'finder', 'finding', 'finds', 'fine', 'fined', 'finer', 'finesse', 'finest', 'fingerpistol', 'fingers', 'finish', 'finished', 'finishing', 'finley', 'fios', 'fire', 'fired', 'firefox', 'fires', 'firmly', 'first', 'fist', 'fit', 'fitted', 'fitz', 'fitzaptrick', 'fitzgerald', 'fitzpatrick', 'fitzry', 'five', 'fix', 'fixed', 'fizzle', 'fizzling', 'fj', 'fl', 'flacco', 'flag', 'flagged', 'flair', 'flash', 'flashback', 'flashed', 'flashy', 'flat', 'flavored', 'flaw', 'fleabay', 'fletcher', 'flex', 'flies', 'flight', 'flip', 'flirtswipe', 'flock', 'floor', 'florida', 'florio', 'flow', 'flowing', 'flu', 'fluid', 'flutie', 'fly', 'flying', 'fm', 'fnfl', 'fo', 'focus', 'focused', 'foles', 'folk', 'folks', 'follow', 'followed', 'following', 'followup', 'fond', 'food', 'foods', 'fooled', 'foot', 'footage', 'football', 'footballhello', 'foote', 'footwork', 'force', 'forced', 'forces', 'forcing', 'ford', 'forever', 'forget', 'forgot', 'form', 'format', 'formations', 'former', 'formula', 'fortunate', 'forward', 'foster', 'fouls', 'found', 'four', 'fourth', 'fox', 'fr', 'fralic', 'frame', 'framed', 'franchise', 'franchises', 'francisco', 'frank', 'freakonomics', 'fred', 'freddie', 'free', 'frees', 'freestyle', 'fresh', 'friday', 'friend', 'friends', 'frog', 'front', 'fs', 'fuck', 'fucking', 'fuel', 'full', 'fullback', 'fumble', 'fumbles', 'fun', 'functional', 'funny', 'futility', 'future', 'fwiw', 'fy', 'gain', 'gained', 'gains', 'gamble', 'game', 'games', 'gang', 'garbage', 'garcia', 'gardner', 'garoppolo', 'garoppolopretty', 'garrett', 'gate', 'gave', 'gb', 'gear', 'general', 'generally', 'geno', 'genuinely', 'geo', 'george', 'german', 'germany', 'get', 'gets', 'getting', 'giants', 'gifs', 'gift', 'giphy', 'girl', 'girlfriend', 'github', 'give', 'given', 'gives', 'giving', 'gladly', 'glazer', 'glorious', 'glory', 'gm', 'gmp', 'go', 'goal', 'goals', 'goat', 'goats', 'god', 'goes', 'goff', 'going', 'gold', 'goldson', 'gone', 'gonna', 'gonzalez', 'good', 'goodell', 'goodwin', 'google', 'goooo', 'gore', 'gostkowski', 'got', 'gotta', 'gould', 'graham', 'grandkids', 'gray', 'great', 'greatest', 'green', 'greenlaw', 'greg', 'grew', 'griffin', 'grimm', 'grip', 'gronk', 'gronkowski', 'gross', 'grossman', 'ground', 'group', 'groups', 'gtlt', 'guarantee', 'guard', 'guess', 'guessed', 'guest', 'guide', 'guy', 'guys', 'hacked', 'haha', 'half', 'halftime', 'hall', 'haloti', 'hand', 'handicap', 'handled', 'handling', 'handoff', 'hands', 'hang', 'hanging', 'happen', 'happened', 'happening', 'happens', 'happier', 'happy', 'harbaugh', 'hard', 'harder', 'harris', 'harrison', 'hartlaub', 'hat', 'hate', 'hated', 'haters', 'hats', 'hc', 'hd', 'head', 'headbutt', 'headed', 'heading', 'heads', 'health', 'healthy', 'hear', 'heard', 'hearing', 'heartbreaker', 'heartbreaking', 'heated', 'heavily', 'hekker', 'held', 'hell', 'hello', 'helmet', 'help', 'helped', 'hence', 'henderson', 'henne', 'henry', 'hernandez', 'hes', 'hesitate', 'hester', 'hey', 'high', 'higher', 'highest', 'highlight', 'highlighted', 'highlights', 'highsmith', 'hilarious', 'hill', 'hindsight', 'hint', 'hire', 'hired', 'hiring', 'historical', 'history', 'hit', 'hitchens', 'hits', 'hl', 'hockenson', 'hof', 'hofer', 'hold', 'holding', 'holds', 'hole', 'holidays', 'home', 'homes', 'honest', 'honestly', 'honey', 'honor', 'honoring', 'hoodie', 'hope', 'hopefully', 'hopes', 'hoping', 'hopkins', 'hopped', 'horse', 'host', 'hosting', 'hot', 'hotel', 'hou', 'hour', 'house', 'houston', 'howard', 'however', 'hq', 'hs', 'htm', 'html', 'https', 'hub', 'huddle', 'huge', 'hugged', 'hugh', 'hughes', 'human', 'humble', 'humor', 'humphrey', 'hundred', 'hundreds', 'hungarians', 'hunger', 'hungover', 'hunt', 'hurt', 'hurtado', 'hustis', 'hype', 'hyped', 'ibb', 'id', 'idea', 'ideas', 'idl', 'idx', 'iii', 'ill', 'im', 'imagine', 'img', 'imgur', 'imo', 'impact', 'impacted', 'impacts', 'implications', 'important', 'impress', 'impressive', 'improve', 'improvement', 'incentive', 'included', 'includes', 'including', 'incomplete', 'inconsistent', 'incredible', 'ind', 'indeed', 'independent', 'index', 'indianapolis', 'indicated', 'individual', 'ineffective', 'infamously', 'info', 'information', 'informed', 'ingram', 'injured', 'injury', 'inman', 'input', 'insane', 'inside', 'insider', 'insiders', 'insight', 'instagram', 'installed', 'instance', 'instances', 'instead', 'insufficient', 'int', 'integer', 'intentionally', 'intercepted', 'interception', 'interceptions', 'interest', 'interested', 'interesting', 'interests', 'interval', 'interview', 'interviewed', 'interviewing', 'interviews', 'intro', 'ints', 'investigation', 'involved', 'involves', 'iowa', 'isaac', 'isaiah', 'issue', 'issues', 'items', 'iv', 'ive', 'ivory', 'jack', 'jackets', 'jackson', 'jacksonville', 'jacobs', 'jacoby', 'jags', 'jaguars', 'jahri', 'jake', 'jameis', 'james', 'jan', 'january', 'jaquiski', 'jared', 'jason', 'jav', 'jawaan', 'jax', 'jay', 'jayglazer', 'jazayerli', 'jed', 'jeff', 'jerry', 'jersey', 'jerseys', 'jet', 'jets', 'jim', 'jimmie', 'jimmy', 'jlo', 'job', 'joe', 'john', 'johnson', 'join', 'joke', 'jokes', 'jones', 'jordan', 'jordy', 'jose', 'josh', 'jpg', 'jr', 'judge', 'judgement', 'judy', 'juice', 'juju', 'julio', 'jump', 'justin', 'juszczyk', 'kaepernick', 'kaggle', 'kam', 'kansas', 'kansascitychiefs', 'kareem', 'katie', 'kc', 'kcchiefs', 'keep', 'keepin', 'keeping', 'kelce', 'kelly', 'ken', 'kendrick', 'kept', 'kermit', 'kerrigan', 'kevin', 'key', 'khalil', 'kick', 'kicked', 'kicker', 'kicking', 'kickoff', 'kind', 'kinda', 'kinds', 'king', 'kingsbury', 'kiper', 'kitchens', 'kittle', 'kleiman', 'kliff', 'klis', 'knbr', 'knee', 'knew', 'knocked', 'knocks', 'know', 'known', 'knows', 'kobe', 'koch', 'koff', 'kosar', 'kuechly', 'kurt', 'kwon', 'kyle', 'kyler', 'la', 'labrum', 'lac', 'lack', 'lafleur', 'laken', 'lamar', 'lane', 'lanes', 'large', 'largest', 'larry', 'las', 'last', 'late', 'later', 'latest', 'laugh', 'laughs', 'laviksa', 'lawrence', 'lawyers', 'lb', 'le', 'lead', 'leader', 'leaders', 'leadership', 'leading', 'leads', 'league', 'learn', 'learning', 'least', 'leave', 'leaves', 'led', 'lee', 'left', 'legacy', 'legend', 'legit', 'lend', 'length', 'leon', 'lesean', 'less', 'let', 'lets', 'letting', 'level', 'leverage', 'levi', 'lewis', 'lfg', 'lg', 'li', 'life', 'lifelong', 'lii', 'liii', 'like', 'liked', 'likely', 'likes', 'lil', 'limited', 'line', 'linear', 'linebacker', 'linebackers', 'lineman', 'linemen', 'lines', 'link', 'links', 'lions', 'list', 'listed', 'listen', 'listening', 'literally', 'little', 'liv', 'live', 'lived', 'living', 'lj', 'local', 'location', 'lock', 'locking', 'logan', 'logistic', 'logo', 'lol', 'lombardi', 'long', 'longer', 'longform', 'look', 'looked', 'looking', 'looks', 'los', 'lose', 'losing', 'loss', 'losses', 'lost', 'lot', 'lots', 'louis', 'louisville', 'lousy', 'love', 'loved', 'loves', 'loving', 'low', 'lowder', 'lower', 'lowlight', 'ls', 'lsu', 'lt', 'luck', 'luke', 'lynch', 'maas', 'mac', 'machine', 'mack', 'madden', 'made', 'magic', 'mahomes', 'mail', 'mainly', 'maiocco', 'major', 'majority', 'make', 'maker', 'makes', 'making', 'mamba', 'man', 'manage', 'managed', 'manager', 'maniakal', 'manning', 'manningham', 'many', 'marathon', 'march', 'marijuana', 'marino', 'mario', 'mark', 'marlon', 'marshall', 'marshawn', 'martin', 'mason', 'massacred', 'massive', 'master', 'match', 'matchup', 'matchups', 'materials', 'mathieu', 'matt', 'matter', 'matthews', 'max', 'maxwell', 'may', 'maybe', 'mayfield', 'mayor', 'mcclain', 'mccoy', 'mcdaniel', 'mcdonald', 'mcfadden', 'mcglinchey', 'mcnabb', 'mcvay', 'mean', 'meaningful', 'means', 'meant', 'media', 'medium', 'meet', 'meeting', 'meetup', 'megathread', 'melvin', 'member', 'meme', 'memes', 'memories', 'mental', 'mention', 'mentioned', 'mentions', 'merchandise', 'mess', 'message', 'met', 'method', 'mexico', 'mia', 'miami', 'mic', 'michael', 'microsoft', 'middle', 'middling', 'might', 'mike', 'miller', 'million', 'min', 'mind', 'minds', 'mine', 'mini', 'minimum', 'minkah', 'minneapolis', 'minnesota', 'minshew', 'minus', 'minute', 'minutes', 'miracle', 'mirror', 'miss', 'missed', 'misses', 'missing', 'mistakes', 'mitch', 'mitchell', 'mobile', 'mock', 'model', 'modern', 'modified', 'mods', 'moment', 'moments', 'monday', 'money', 'moneyline', 'monitor', 'monster', 'montana', 'month', 'months', 'moon', 'morning', 'morris', 'mortensen', 'moseley', 'moss', 'mostert', 'mostly', 'motion', 'motions', 'move', 'moved', 'movement', 'moves', 'moving', 'mp', 'mr', 'mri', 'much', 'muddy', 'multiple', 'murph', 'murray', 'must', 'mutually', 'mvp', 'mvps', 'name', 'named', 'names', 'narrated', 'narrative', 'nation', 'national', 'native', 'natural', 'navarro', 'navorro', 'nba', 'nbc', 'nbcsports', 'nbsp', 'nd', 'ne', 'near', 'nearly', 'neat', 'need', 'needed', 'needs', 'negative', 'nelson', 'neon', 'nerves', 'nervous', 'network', 'never', 'nevertheless', 'new', 'news', 'newton', 'next', 'nfc', 'nfccg', 'nfffffffluuuuuuuuuuuu', 'nfl', 'nflblogs', 'nflcirclejerk', 'nflfandom', 'nflnoobs', 'nflofftopic', 'nflonfox', 'nflscrapr', 'nfltwitter', 'ngata', 'nice', 'nick', 'night', 'nike', 'nine', 'niner', 'niners', 'nobody', 'nod', 'nolan', 'non', 'none', 'noob', 'normally', 'north', 'northern', 'norwood', 'notably', 'note', 'nothing', 'noticed', 'noting', 'notion', 'nt', 'num', 'number', 'numbers', 'ny', 'nyg', 'nyj', 'nzeocha', 'oak', 'oakland', 'obvious', 'obviously', 'oc', 'occur', 'occurs', 'odds', 'offense', 'offensive', 'offer', 'offered', 'offers', 'office', 'official', 'officially', 'officials', 'offseason', 'offsides', 'often', 'og', 'oh', 'oilers', 'ok', 'oklahoma', 'ol', 'olb', 'old', 'olsen', 'one', 'onehot', 'ones', 'ongoing', 'online', 'onsd', 'onside', 'onto', 'open', 'opened', 'opening', 'opens', 'operations', 'opinion', 'opinions', 'opportunities', 'opportunity', 'opposing', 'opposite', 'option', 'options', 'oral', 'orange', 'order', 'ordered', 'ordering', 'org', 'organization', 'organized', 'origin', 'original', 'orleans', 'osu', 'osweiler', 'ot', 'others', 'otherwise', 'ourmine', 'outcome', 'outcomes', 'outdated', 'outgained', 'outlets', 'outmatched', 'outplayed', 'outside', 'overall', 'overfitting', 'overtime', 'owner', 'package', 'packer', 'packers', 'pad', 'pads', 'page', 'paid', 'pain', 'painted', 'panthers', 'pants', 'papers', 'parents', 'park', 'parody', 'part', 'participate', 'particular', 'parties', 'partners', 'party', 'pass', 'passed', 'passer', 'passes', 'passing', 'passion', 'password', 'past', 'pat', 'patch', 'patches', 'patra', 'patrick', 'patriots', 'pats', 'pattern', 'patterns', 'patterson', 'paul', 'paulcbogdan', 'pay', 'paying', 'payton', 'pbp', 'pc', 'pct', 'pectoral', 'peete', 'peetz', 'pelissero', 'penalties', 'penalty', 'people', 'per', 'percent', 'percentage', 'percentile', 'perfect', 'perform', 'performance', 'performed', 'perhaps', 'person', 'personal', 'personality', 'personally', 'personnel', 'perspective', 'peters', 'peterson', 'petition', 'pettis', 'peyton', 'pff', 'pft', 'phi', 'philadelphia', 'philip', 'phillip', 'phone', 'photo', 'photos', 'photoshop', 'physical', 'physically', 'pick', 'picked', 'picking', 'picks', 'picture', 'pictures', 'piece', 'pierre', 'pink', 'piola', 'pit', 'pitch', 'pittsburgh', 'pittsylvania', 'pizza', 'pjpg', 'place', 'placed', 'placement', 'places', 'plan', 'plane', 'planned', 'planning', 'plans', 'play', 'playbook', 'played', 'player', 'players', 'playing', 'playoff', 'playoffs', 'plays', 'pleasant', 'please', 'plenty', 'plummer', 'plus', 'plz', 'pm', 'pocket', 'pod', 'podcast', 'podium', 'poem', 'poetry', 'point', 'points', 'polamalu', 'police', 'policy', 'pool', 'poor', 'pop', 'popular', 'pork', 'porn', 'portland', 'pos', 'position', 'positions', 'positive', 'possession', 'possibility', 'possible', 'possibly', 'post', 'posted', 'posting', 'posts', 'postseason', 'potential', 'potentially', 'pouncey', 'power', 'powered', 'powerful', 'pr', 'practice', 'practicing', 'pre', 'predict', 'predicted', 'predicting', 'prediction', 'predictions', 'pregame', 'prep', 'prescott', 'present', 'president', 'press', 'presser', 'pretenders', 'pretty', 'prevailed', 'prevailing', 'prevent', 'prevented', 'preventing', 'preview', 'previous', 'previously', 'price', 'prices', 'pride', 'primary', 'prime', 'primetime', 'prince', 'principle', 'prior', 'prize', 'prized', 'pro', 'probably', 'problem', 'problems', 'problemz', 'probowl', 'procedure', 'proceed', 'process', 'processing', 'proclaimed', 'proclaims', 'prod', 'produce', 'produced', 'product', 'production', 'productive', 'professionals', 'profile', 'profit', 'profitable', 'profootballtalk', 'programs', 'progress', 'project', 'projected', 'projection', 'projectionswith', 'prominently', 'promise', 'promised', 'promising', 'promo', 'promote', 'promoted', 'promotion', 'prone', 'proof', 'prop', 'proper', 'properly', 'property', 'proportion', 'proportions', 'proposal', 'proposed', 'propositioni', 'pros', 'prospects', 'protect', 'protecting', 'protection', 'proud', 'proudly', 'prove', 'proved', 'proven', 'provide', 'provides', 'pryce', 'ps', 'psa', 'psl', 'pt', 'public', 'pubs', 'puff', 'puke', 'pull', 'pulled', 'pulling', 'pulls', 'pumped', 'punch', 'punt', 'punter', 'punting', 'punts', 'puppets', 'pups', 'purchase', 'purchased', 'pure', 'purely', 'purple', 'purpose', 'purposely', 'purposes', 'pursue', 'pushed', 'pushing', 'put', 'putting', 'pythagorean', 'python', 'qb', 'qbr', 'qbs', 'qcicl', 'qd', 'qgox', 'qn', 'qnyihkuyc', 'qq', 'qqd', 'qsjjqynpgrviwzbppy', 'qsoiatuacc', 'qualify', 'qualifying', 'quality', 'quark', 'quarter', 'quarterback', 'quarterbacks', 'quarters', 'queen', 'quentin', 'quest', 'question', 'questions', 'quick', 'quickly', 'quiet', 'quieter', 'quietly', 'quite', 'quits', 'quiz', 'quote', 'quoted', 'qv', 'qxoqg', 'qxqzxpko', 'raanan', 'race', 'racism', 'racking', 'radar', 'radically', 'radio', 'raheem', 'raid', 'raiders', 'raidersi', 'rain', 'rake', 'rallied', 'rally', 'ram', 'ramczyk', 'rams', 'ran', 'randall', 'random', 'randy', 'range', 'rank', 'ranked', 'ranking', 'rankings', 'rankingspart', 'rany', 'rap', 'rape', 'rapid', 'rapoport', 'rare', 'rarely', 'rate', 'rather', 'rating', 'rattling', 'ravens', 'raw', 'rawls', 'ray', 'rb', 'rbs', 'rd', 'reach', 'reached', 'read', 'readable', 'reading', 'readme', 'reads', 'ready', 'real', 'realistic', 'realistically', 'reality', 'realize', 'realized', 'really', 'reason', 'reasons', 'rebuild', 'rec', 'recalls', 'receipts', 'receive', 'received', 'receiver', 'receivers', 'receives', 'receiving', 'recent', 'recently', 'reception', 'receptions', 'reciepts', 'recipes', 'reciting', 'reckoned', 'recognized', 'recommend', 'recommendations', 'reconsider', 'record', 'recorded', 'records', 'recount', 'recourse', 'recover', 'recovered', 'recovers', 'recovery', 'recruit', 'red', 'redd', 'redding', 'reddit', 'redemption', 'redo', 'redraftif', 'redskins', 'reed', 'ref', 'referee', 'reference', 'referencing', 'reflect', 'reflects', 'refrain', 'refreshes', 'refs', 'regain', 'regard', 'regarding', 'regardless', 'regards', 'reggie', 'regression', 'regressions', 'regret', 'regrets', 'regular', 'regularly', 'regulars', 'regulation', 'rehab', 'reid', 'reidel', 'reigning', 'reinstatement', 'reinvent', 'reinventing', 'reiss', 'reiterated', 'rejoin', 'rejoining', 'relate', 'related', 'relating', 'relation', 'relationship', 'relative', 'relatively', 'relax', 'relay', 'relayed', 'release', 'released', 'releasing', 'relentless', 'relentlessly', 'relevant', 'relied', 'relived', 'remain', 'remaining', 'remains', 'rematch', 'remember', 'remembered', 'remind', 'reminded', 'reminder', 'reminders', 'reminding', 'reminds', 'remove', 'removed', 'renamed', 'rendition', 'renewable', 'renovation', 'renting', 'rep', 'repair', 'repeat', 'repeated', 'repeatedly', 'replaced', 'replacing', 'replay', 'replayed', 'report', 'reported', 'reportedly', 'reporter', 'reporters', 'reporting', 'repost', 'reppin', 'represent', 'representing', 'reps', 'request', 'require', 'research', 'resembles', 'resident', 'residents', 'resign', 'resigned', 'resort', 'resource', 'resources', 'respect', 'respected', 'respecting', 'respective', 'respectively', 'respects', 'responded', 'responds', 'response', 'responsibilities', 'responsibility', 'responsible', 'rest', 'restock', 'restriction', 'restrictions', 'result', 'results', 'resume', 'resurgent', 'rethink', 'retire', 'retired', 'retirement', 'retires', 'retiring', 'retrieved', 'retriever', 'return', 'returner', 'returning', 'returns', 'reunites', 'revamped', 'reveals', 'revenge', 'revenue', 'review', 'reviewed', 'reviews', 'revis', 'revisited', 'revolution', 'rewrite', 'rex', 'rg', 'rhule', 'rhymes', 'ribs', 'rice', 'rich', 'richard', 'richburg', 'richer', 'richie', 'rickey', 'rid', 'ride', 'ridiculous', 'ridiculously', 'riding', 'riggins', 'right', 'rims', 'ring', 'ringer', 'rings', 'ringtones', 'rip', 'rise', 'risk', 'risner', 'ritual', 'rival', 'rivalry', 'rivals', 'riveph', 'river', 'rivera', 'rivers', 'rmos', 'rmse', 'rmtl', 'rn', 'rny', 'road', 'roamed', 'roast', 'rob', 'robbed', 'robbie', 'robbins', 'roberson', 'robert', 'robinson', 'robustly', 'roby', 'rock', 'rocket', 'rocking', 'rocky', 'rodgers', 'rodney', 'roger', 'rogers', 'rokevious', 'role', 'roleplay', 'roles', 'rolle', 'rolling', 'roman', 'romeo', 'romo', 'ron', 'roof', 'rookie', 'rookies', 'room', 'roommate', 'roommates', 'rooms', 'rooney', 'rooster', 'root', 'rooted', 'rooting', 'roots', 'ropes', 'rosenstein', 'rosenthal', 'ross', 'roster', 'rosters', 'rotate', 'rotating', 'rotation', 'roty', 'rough', 'round', 'rounds', 'rout', 'route', 'routes', 'row', 'royal', 'rpaoport', 'rpo', 'rpos', 'rt', 'rub', 'rubbing', 'rubs', 'rugby', 'ruggs', 'ruin', 'rule', 'ruled', 'rules', 'rumble', 'rumor', 'run', 'runner', 'running', 'runningbacks', 'runs', 'rush', 'rushed', 'rusher', 'rushers', 'rushes', 'rushing', 'russ', 'russell', 'rustle', 'ryan', 'rypien', 'saban', 'sabotaged', 'sac', 'sack', 'sacked', 'sacks', 'sad', 'safe', 'safeties', 'safety', 'said', 'saints', 'sake', 'salary', 'sale', 'saleh', 'sam', 'samari', 'sammy', 'sample', 'samuel', 'san', 'sanchez', 'sanders', 'sang', 'santa', 'saquon', 'sarcastic', 'sas', 'sassume', 'sat', 'satin', 'satisfying', 'saturday', 'save', 'saw', 'say', 'sayin', 'saying', 'says', 'sb', 'sbfor', 'sbliv', 'sbmvp', 'sbps', 'sbrsportspicks', 'sbs', 'sbxix', 'scandal', 'scared', 'scarnecchia', 'scarred', 'scary', 'scharping', 'schatz', 'schaub', 'schedule', 'scheduled', 'schefter', 'scheme', 'schemes', 'school', 'schoolhey', 'schottenheimer', 'schroder', 'schuster', 'scientists', 'score', 'scored', 'scoreless', 'scores', 'scoresoddsarchives', 'scoring', 'scott', 'scottandbr', 'scottkaplan', 'scottsdale', 'scout', 'scouting', 'scouts', 'scrambler', 'scrambles', 'scrambling', 'scraped', 'scrappy', 'screen', 'screens', 'screenshot', 'screwed', 'scrimmage', 'script', 'scummvm', 'sd', 'se', 'sea', 'seahawks', 'seal', 'seamless', 'sean', 'seantrel', 'search', 'searches', 'searching', 'season', 'seasons', 'seasonstop', 'seats', 'seattle', 'second', 'secondary', 'seconds', 'secret', 'secrets', 'section', 'sections', 'security', 'see', 'seed', 'seeded', 'seeing', 'seeking', 'seeks', 'seem', 'seemed', 'seems', 'seen', 'sees', 'segment', 'seinfeld', 'select', 'selecting', 'selection', 'self', 'selfless', 'sell', 'sells', 'send', 'sending', 'sends', 'senior', 'sense', 'senses', 'sensitive', 'sent', 'separate', 'september', 'sequence', 'series', 'serious', 'seriously', 'server', 'service', 'serving', 'ses', 'session', 'sessler', 'set', 'sets', 'setting', 'settle', 'setup', 'seven', 'several', 'sex', 'sexier', 'sexiest', 'sf', 'sfchronicle', 'sh', 'shabby', 'shade', 'shady', 'shaking', 'shall', 'shallow', 'shameless', 'shanahan', 'shanahani', 'shanahat', 'shane', 'shannahan', 'shannon', 'shanny', 'shape', 'shapiro', 'shaquem', 'share', 'shared', 'shares', 'sharing', 'sharks', 'sharp', 'sharpe', 'shave', 'shaved', 'shaven', 'shaving', 'shawshank', 'shayne', 'shed', 'sheet', 'shefter', 'sheldon', 'shenault', 'sherels', 'sherm', 'sherman', 'shining', 'ship', 'shipping', 'shirt', 'shirts', 'shit', 'shitshow', 'shitting', 'shocked', 'shockingly', 'shook', 'shoot', 'shootout', 'shop', 'shopping', 'shoreline', 'short', 'shortened', 'shorter', 'shorthanded', 'shortly', 'shot', 'shots', 'shoulder', 'shoulders', 'shout', 'show', 'showed', 'showing', 'shown', 'shrine', 'shula', 'shurmur', 'shut', 'shutout', 'shutting', 'si', 'siciliano', 'sick', 'sid', 'side', 'sidebar', 'sided', 'sideline', 'sidelines', 'sides', 'sighting', 'sign', 'signatures', 'signed', 'signficant', 'significant', 'significantly', 'signing', 'silly', 'silverstein', 'sim', 'similar', 'similarities', 'similarly', 'simmons', 'simms', 'simon', 'simple', 'simply', 'simpson', 'simulate', 'simulated', 'simulating', 'simulation', 'simulations', 'simulators', 'since', 'sincerely', 'singer', 'single', 'singles', 'sink', 'sips', 'sirius', 'sister', 'site', 'sites', 'sitetrying', 'sitting', 'sitton', 'situation', 'situations', 'six', 'sixes', 'sixth', 'size', 'sizes', 'sj', 'skeptical', 'skewed', 'ski', 'skills', 'skillset', 'skins', 'skip', 'skrine', 'skuta', 'sl', 'slam', 'slants', 'slapped', 'slate', 'sleepers', 'sleeping', 'sleeve', 'slide', 'slight', 'slightest', 'slightly', 'slogfest', 'sloppily', 'sloppy', 'slot', 'slow', 'slowing', 'slowly', 'sm', 'smack', 'small', 'smallest', 'smart', 'smashed', 'smelled', 'smh', 'smile', 'smith', 'smoke', 'smoked', 'smoking', 'smooth', 'smoothie', 'smorgasbord', 'smother', 'smothering', 'smyrma', 'snack', 'snacks', 'snag', 'snake', 'snap', 'snapped', 'snaps', 'sneak', 'sneaking', 'sneaks', 'sneaky', 'snf', 'snickers', 'snoop', 'snoozefest', 'snug', 'soccer', 'social', 'sock', 'socket', 'soda', 'sofi', 'soft', 'soldier', 'soldiers', 'solicitation', 'solid', 'solidified', 'solidifies', 'solomon', 'solutions', 'somehow', 'someone', 'something', 'somethings', 'sometime', 'sometimes', 'somewhat', 'son', 'song', 'songs', 'songsi', 'sons', 'soon', 'sooner', 'sophisticated', 'sopoaga', 'sore', 'sorry', 'sorts', 'soul', 'sound', 'sounds', 'soup', 'souperbowl', 'soups', 'sour', 'source', 'sourced', 'sources', 'south', 'southern', 'southpark', 'souvenir', 'sowers', 'space', 'spagnuolo', 'speaking', 'speaks', 'special', 'specially', 'specialness', 'specific', 'specimen', 'spectacular', 'spectrum', 'speculate', 'speech', 'speed', 'speeding', 'speeds', 'spell', 'spend', 'spending', 'spent', 'spewing', 'spirit', 'spirited', 'spitting', 'split', 'splits', 'spoke', 'spokesman', 'sport', 'sports', 'sportsbookreviewsonline', 'spot', 'spots', 'spotty', 'sprawling', 'spread', 'spreadline', 'spreadlines', 'spreads', 'spring', 'sproles', 'sqrt', 'squad', 'squandered', 'square', 'squarely', 'squashes', 'sr', 'src', 'ss', 'st', 'stab', 'stable', 'stabler', 'stack', 'stacked', 'stacks', 'stacy', 'stadium', 'stadiums', 'staff', 'stafford', 'stage', 'stain', 'staley', 'stamped', 'stan', 'stand', 'standard', 'standards', 'standpoint', 'stands', 'staple', 'star', 'starred', 'stars', 'start', 'started', 'starter', 'starters', 'starting', 'starts', 'stat', 'state', 'statement', 'stating', 'statistically', 'statistics', 'stats', 'statsmodels', 'status', 'staubach', 'stay', 'stays', 'steal', 'steamrolled', 'stedman', 'steed', 'steelers', 'stefanski', 'stellar', 'step', 'stephan', 'stephen', 'stephon', 'stepped', 'stepping', 'steps', 'steve', 'stew', 'stick', 'stickers', 'sticks', 'stiff', 'stifled', 'still', 'stink', 'stinker', 'stitch', 'stock', 'stole', 'stone', 'stonewall', 'stood', 'stoolie', 'stop', 'stopped', 'stopping', 'store', 'stored', 'storehi', 'storied', 'stories', 'storm', 'stormthis', 'story', 'storylines', 'storynot', 'stout', 'strahan', 'straight', 'stram', 'strange', 'strategy', 'streak', 'stream', 'streamable', 'streaming', 'streams', 'street', 'strength', 'strengths', 'stretch', 'stretches', 'streveler', 'strides', 'strike', 'strikes', 'string', 'strip', 'stripper', 'strive', 'strong', 'stronger', 'strongest', 'struggle', 'struggles', 'struggling', 'stuck', 'stud', 'studded', 'student', 'study', 'stuff', 'stuffed', 'stunned', 'stunts', 'stupid', 'style', 'sub', 'subject', 'submitted', 'subreddit', 'subreddits', 'subs', 'subscribers', 'subsequent', 'subsequently', 'substantially', 'subtle', 'success', 'successful', 'succession', 'suck', 'sucked', 'sucki', 'sucks', 'suddenly', 'suffer', 'suffered', 'suffering', 'sugar', 'suggest', 'suggesting', 'suggestion', 'suggests', 'suggs', 'suh', 'suit', 'suited', 'sullivan', 'sumday', 'summary', 'summing', 'sun', 'sunbathing', 'sunday', 'super', 'superb', 'superbolive', 'superbowl', 'superbowlliv', 'superbowlpoolsite', 'supercut', 'superman', 'superstar', 'superstitious', 'supplemental', 'support', 'supported', 'supporting', 'supports', 'suppose', 'supposed', 'supposedly', 'sure', 'surely', 'surf', 'surgery', 'surpass', 'surpassing', 'surprise', 'surprised', 'surprising', 'surprisingly', 'surreal', 'surrounded', 'survey', 'suspended', 'suspenders', 'sv', 'svwmot', 'swag', 'swagger', 'swap', 'swarmed', 'swear', 'sweater', 'sweep', 'sweeps', 'sweepstakes', 'sweet', 'swept', 'swing', 'swings', 'switch', 'switched', 'swith', 'system', 'systematically', 'syzl', 'table', 'tackle', 'tackled', 'tackles', 'taco', 'tag', 'tagged', 'tagging', 'tagovailoa', 'tags', 'tailgate', 'tailgates', 'tailgating', 'tailgatingfansmatter', 'tailored', 'take', 'takeaways', 'taken', 'takes', 'taking', 'talbot', 'talent', 'talented', 'talents', 'talib', 'talk', 'talked', 'talker', 'talki', 'talking', 'talko', 'talks', 'tampa', 'tank', 'tannehill', 'target', 'targeted', 'tarrell', 'tartt', 'taste', 'tasty', 'tattoo', 'tattoos', 'taught', 'taunt', 'taylor', 'taysom', 'tb', 'tbd', 'tbh', 'tbt', 'tch', 'td', 'tds', 'te', 'tea', 'teach', 'team', 'teammate', 'teammates', 'teams', 'teamwell', 'tear', 'technical', 'technically', 'technique', 'tecmo', 'teddy', 'tee', 'teethe', 'telesco', 'television', 'tell', 'telling', 'tells', 'telvin', 'temglo', 'temper', 'temperature', 'tempering', 'tempting', 'ten', 'tend', 'tends', 'tennessee', 'tennesseetitans', 'tension', 'tenth', 'tenure', 'tequila', 'term', 'terms', 'terrell', 'terrence', 'terrible', 'territory', 'terron', 'terry', 'tes', 'test', 'testament', 'testaverde', 'testicle', 'testing', 'tests', 'tevin', 'texans', 'texastechfb', 'text', 'texted', 'texter', 'texts', 'tfl', 'tgl', 'th', 'thank', 'thankfully', 'thanks', 'thats', 'theathletic', 'thecarm', 'theherd', 'theme', 'themed', 'themmqb', 'theoretical', 'theoretically', 'theories', 'theory', 'theprediction', 'therealfrankc', 'thing', 'things', 'think', 'thinking', 'thinks', 'third', 'thirds', 'thirty', 'tho', 'thomas', 'though', 'thought', 'thoughts', 'thousand', 'thrash', 'thrashed', 'thread', 'threadapalooza', 'threadas', 'threadhello', 'threadit', 'threadmy', 'threadover', 'threads', 'threat', 'threatened', 'threats', 'three', 'threw', 'thrifty', 'thrilled', 'thrives', 'throat', 'throughout', 'throw', 'throwback', 'throwing', 'thrown', 'throws', 'thru', 'thurmond', 'thursday', 'thus', 'ticket', 'tickets', 'ticks', 'tidings', 'tie', 'tied', 'ties', 'tigers', 'tight', 'til', 'till', 'tim', 'time', 'timed', 'timei', 'timejust', 'timeline', 'timely', 'times', 'timethe', 'timmons', 'tinfoil', 'tips', 'tire', 'tired', 'tiredhe', 'titans', 'title', 'titles', 'tj', 'tkelce', 'tldr', 'tmz', 'today', 'todd', 'together', 'told', 'tolzien', 'tom', 'tomahawk', 'tombrady', 'tome', 'tomlin', 'tomlinson', 'tomorrow', 'tomsula', 'ton', 'tone', 'tonight', 'tony', 'tonygonzalez', 'took', 'tooo', 'toots', 'top', 'topics', 'torch', 'tore', 'torn', 'toro', 'tos', 'toss', 'tosses', 'total', 'totaled', 'totally', 'totes', 'touch', 'touchdown', 'touchdowns', 'touched', 'touches', 'touching', 'tough', 'toughness', 'tour', 'toward', 'towards', 'town', 'track', 'tracking', 'trade', 'traded', 'trademark', 'trades', 'trading', 'tradition', 'traditional', 'traditionally', 'traffic', 'tragedy', 'tragic', 'trailed', 'trailer', 'trailing', 'train', 'trained', 'training', 'traits', 'trajectory', 'transcended', 'transcript', 'transfer', 'transition', 'trash', 'trashiness', 'trask', 'travel', 'travesties', 'travis', 'tre', 'treatment', 'trees', 'trend', 'trends', 'trent', 'tress', 'trevathan', 'trevon', 'trevor', 'tribute', 'trick', 'tricks', 'tried', 'tries', 'trigger', 'trillion', 'trio', 'trip', 'tripping', 'trips', 'tristan', 'trivia', 'trojan', 'trojancondoms', 'trojanpartner', 'trojansackparty', 'trollin', 'trophy', 'tropical', 'trotter', 'trouble', 'troxjyithqrm', 'troy', 'trubisky', 'truck', 'trucking', 'true', 'truly', 'trust', 'truth', 'try', 'trying', 'tsn', 'tsunami', 'tua', 'tube', 'tucker', 'tuesday', 'tuesdaywelcome', 'tunnel', 'tupac', 'turf', 'turn', 'turnaround', 'turned', 'turner', 'turning', 'turnover', 'turnovers', 'turns', 'tutorial', 'tv', 'tweet', 'tweeting', 'twerk', 'twice', 'twitch', 'twitchy', 'twitter', 'two', 'twsrc', 'ty', 'tying', 'type', 'typer', 'types', 'typical', 'tyrann', 'tyree', 'tyreek', 'tyron', 'tytus', 'uber', 'uconn', 'ugh', 'ugly', 'uk', 'ultimate', 'ultimately', 'ultimatly', 'ultra', 'umm', 'umpire', 'unable', 'unanswered', 'unapologetically', 'unbelievable', 'unbiased', 'unbuttoned', 'uncannily', 'unchanged', 'uncharacteristically', 'unclear', 'unconventional', 'undefeated', 'underdeveloped', 'underdog', 'underestimate', 'undergo', 'underneath', 'underpaid', 'underrated', 'understand', 'understandably', 'understanding', 'understands', 'understated', 'underwent', 'underwhelming', 'undisputed', 'undocumented', 'undynamic', 'unfathomable', 'unfold', 'unfortunate', 'unfortunately', 'unger', 'unheralded', 'uni', 'uniform', 'uniforms', 'uninitiated', 'unique', 'uniqueness', 'united', 'units', 'university', 'unknown', 'unlike', 'unlikely', 'unlocking', 'unlucky', 'unnoticed', 'unpopular', 'unprepared', 'unreal', 'unreliable', 'unresponsive', 'unsee', 'unstoppable', 'unsuitable', 'unsuspecting', 'unusual', 'unwaveringly', 'uolvlmh', 'upcoming', 'update', 'updated', 'updates', 'upfield', 'uploaded', 'upon', 'upper', 'ups', 'upset', 'upside', 'urge', 'urinatingtree', 'urination', 'url', 'us', 'usa', 'usage', 'usatoday', 'use', 'used', 'useless', 'user', 'users', 'uses', 'using', 'usual', 'usually', 'utjic', 'utm', 'uwl', 'uwo', 'va', 'val', 'valid', 'validates', 'validation', 'valley', 'value', 'values', 'van', 'vance', 'vanilla', 'variable', 'variables', 'variety', 'vector', 'vegas', 'vehicle', 'vengeance', 'venmo', 'veon', 'vernon', 'versace', 'versatility', 'version', 'versus', 'vertical', 'vertically', 'veteran', 'veterans', 'veto', 'via', 'vic', 'vice', 'vick', 'victim', 'victory', 'video', 'videokareem', 'videos', 'view', 'viewed', 'views', 'vig', 'viii', 'vikings', 'vile', 'vilified', 'vinatieri', 'vince', 'vinny', 'vinovich', 'violation', 'virtual', 'vision', 'visit', 'visitors', 'visualization', 'vital', 'vividly', 'vjc', 'vjnab', 'vjtk', 'vlog', 'vodka', 'voice', 'volin', 'von', 'voodoo', 'vote', 'voted', 'voters', 'vows', 'vp', 'vrabel', 'vs', 'vuitton', 'vuuh', 'wagers', 'wagner', 'wagoner', 'wait', 'waited', 'waiting', 'wake', 'walk', 'walked', 'walker', 'walking', 'walks', 'wall', 'wallace', 'wallpaper', 'wallpapers', 'walls', 'walsh', 'walter', 'wanna', 'want', 'wanted', 'wanting', 'wants', 'war', 'ward', 'ware', 'warm', 'warmups', 'warner', 'warning', 'warns', 'warrant', 'warren', 'warriors', 'wash', 'washed', 'washington', 'waste', 'wasted', 'watch', 'watched', 'watching', 'water', 'watered', 'watkins', 'watson', 'watt', 'waun', 'wave', 'way', 'ways', 'wbcbopln', 'wc', 'weak', 'weaker', 'weakest', 'weakness', 'weaknesses', 'weapons', 'wear', 'wearing', 'wears', 'weather', 'weaver', 'web', 'webb', 'webp', 'website', 'webzone', 'weddle', 'wednesday', 'wednesdaywelcome', 'weed', 'week', 'weekend', 'weekendbut', 'weekly', 'weeks', 'weigh', 'weight', 'weird', 'weirdly', 'welcome', 'welker', 'well', 'wells', 'wendy', 'went', 'wentz', 'wes', 'wesley', 'west', 'westbrook', 'western', 'weston', 'wether', 'whatcha', 'whatever', 'whats', 'wheel', 'whenever', 'whereas', 'wherever', 'whether', 'whispered', 'white', 'whitehouseisd', 'whites', 'whitner', 'whitworth', 'whoever', 'whole', 'wholeheartedly', 'whoopin', 'whopping', 'whos', 'whose', 'wide', 'width', 'wierdest', 'wife', 'wiki', 'wikipedia', 'wild', 'wilderness', 'wildly', 'william', 'williams', 'williamson', 'willing', 'willis', 'wills', 'wilson', 'win', 'wind', 'window', 'windows', 'winds', 'wingo', 'wining', 'winlet', 'winner', 'winners', 'winning', 'winnipeg', 'wins', 'winston', 'wiped', 'wire', 'wirfs', 'wisconsin', 'wisdom', 'wish', 'wished', 'wishnowsky', 'witchhunting', 'withers', 'within', 'withlook', 'without', 'witten', 'wnaefta', 'wolf', 'woman', 'women', 'wonder', 'wondering', 'wonders', 'woo', 'woodley', 'woods', 'woody', 'woodyard', 'woooooo', 'word', 'words', 'wore', 'work', 'worked', 'worker', 'working', 'workings', 'workout', 'works', 'world', 'worn', 'worried', 'worse', 'worship', 'worst', 'worth', 'worthy', 'would', 'wound', 'wow', 'wpozbg', 'wquc', 'wr', 'wrap', 'wrapupwelcome', 'wrecked', 'wrestler', 'wright', 'wrist', 'write', 'written', 'wrong', 'wrote', 'wrs', 'wtf', 'wtvwea', 'wuhan', 'wuwbik', 'www', 'wyche', 'xamsly', 'xavier', 'xd', 'xdyrqj', 'xi', 'xii', 'xiii', 'xix', 'xl', 'xli', 'xlii', 'xliii', 'xliv', 'xlix', 'xlv', 'xlvi', 'xlvii', 'xlviii', 'xm', 'xp', 'xqlz', 'xvi', 'xvii', 'xxi', 'xxiii', 'xxiv', 'xxix', 'xxv', 'xxx', 'xxxii', 'xxxviii', 'xxxxxllll', 'ya', 'yall', 'yanda', 'yard', 'yardage', 'yarder', 'yards', 'yates', 'yd', 'yds', 'ydstogo', 'yeah', 'year', 'yearlet', 'years', 'yes', 'yesterday', 'yet', 'yetur', 'yield', 'yifw', 'yk', 'yl', 'ymxqzijvjfgi', 'yo', 'yoooo', 'york', 'young', 'younger', 'youtu', 'youtube', 'yoxxfitffc', 'ypc', 'yrrqzz', 'yt', 'yup', 'zac', 'zach', 'zack', 'zbha', 'zealand', 'zero', 'zeroed', 'ziggy', 'zillionth', 'zimmer', 'zip', 'zkxy', 'zone', 'zones']\n"
     ]
    }
   ],
   "source": [
    "vocab = vectorizer.get_feature_names()\n",
    "print(vocab)"
   ]
  },
  {
   "cell_type": "code",
   "execution_count": 74,
   "metadata": {},
   "outputs": [],
   "source": [
    "# Import logistic regression.\n",
    "\n",
    "from sklearn.linear_model import LogisticRegression"
   ]
  },
  {
   "cell_type": "code",
   "execution_count": null,
   "metadata": {},
   "outputs": [],
   "source": []
  },
  {
   "cell_type": "code",
   "execution_count": 3,
   "metadata": {},
   "outputs": [],
   "source": [
    "# Instantiate logistic regression model.\n",
    "#lr = LogisticRegression(solver = 'liblinear')\n",
    "\n",
    "# Fit model to training data.\n",
    "#lr.fit(train_data_features, y_train)\n",
    "\n",
    "# Evaluate model on training data.\n",
    "#lr.score(train_data_features, y_train)"
   ]
  },
  {
   "cell_type": "code",
   "execution_count": null,
   "metadata": {},
   "outputs": [],
   "source": []
  },
  {
   "cell_type": "code",
   "execution_count": 11,
   "metadata": {},
   "outputs": [],
   "source": [
    "tokenizer = RegexpTokenizer(r'\\w+')"
   ]
  },
  {
   "cell_type": "code",
   "execution_count": null,
   "metadata": {},
   "outputs": [],
   "source": [
    "# Use regular expressions to do a find-and-replace\n",
    "letters_only = re.sub(\"[^a-zA-Z]\",           # The pattern to search for\n",
    "                      \" \",                   # The pattern to replace it with\n",
    "                      example1.get_text())   # The text to search"
   ]
  },
  {
   "cell_type": "code",
   "execution_count": 15,
   "metadata": {},
   "outputs": [],
   "source": [
    "def lemmatize(s):\n",
    "    list_words = s.split(\",\")\n",
    "    lemmatizer = WordNetLemmatizer()\n",
    "    return ','.join([lemmatizer.lemmatize(word) for word in list_words])\n",
    "#Credit to Gouri K., GA Data Science Immersive "
   ]
  },
  {
   "cell_type": "code",
   "execution_count": 16,
   "metadata": {},
   "outputs": [],
   "source": [
    "def stemmer(s):\n",
    "    list_words = s.split(\",\")\n",
    "    stemmer = PorterStemmer()\n",
    "    return ','.join([stemmer.stem(word) for word in list_words])\n",
    "#Credit to Gouri K., GA Data Science Immersive "
   ]
  },
  {
   "cell_type": "code",
   "execution_count": null,
   "metadata": {},
   "outputs": [],
   "source": []
  },
  {
   "cell_type": "code",
   "execution_count": 4,
   "metadata": {},
   "outputs": [],
   "source": [
    "# \"Run\" Tokenizer\n",
    "#comments_tokens = tokenizer.tokenize(data['comments'])"
   ]
  },
  {
   "cell_type": "code",
   "execution_count": null,
   "metadata": {},
   "outputs": [],
   "source": []
  }
 ],
 "metadata": {
  "kernelspec": {
   "display_name": "Python 3",
   "language": "python",
   "name": "python3"
  },
  "language_info": {
   "codemirror_mode": {
    "name": "ipython",
    "version": 3
   },
   "file_extension": ".py",
   "mimetype": "text/x-python",
   "name": "python",
   "nbconvert_exporter": "python",
   "pygments_lexer": "ipython3",
   "version": "3.7.1"
  }
 },
 "nbformat": 4,
 "nbformat_minor": 2
}
